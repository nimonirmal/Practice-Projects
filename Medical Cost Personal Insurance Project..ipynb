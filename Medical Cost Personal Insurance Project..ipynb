{
 "cells": [
  {
   "cell_type": "markdown",
   "id": "2e3bd103",
   "metadata": {},
   "source": [
    "# <span style=\"color:brown\">Medical Cost Personal Insurance Project"
   ]
  },
  {
   "cell_type": "markdown",
   "id": "401b0654",
   "metadata": {},
   "source": [
    "<span style=\"color:blue\">****Project Description****"
   ]
  },
  {
   "cell_type": "markdown",
   "id": "449615a1",
   "metadata": {},
   "source": [
    "Health insurance is a type of insurance that covers medical expenses that arise due to an illness. These expenses could be related to hospitalisation costs, cost of medicines or doctor consultation fees. The main purpose of medical insurance is to receive the best medical care without any strain on your finances. Health insurance plans offer protection against high medical costs. It covers hospitalization expenses, day care procedures, domiciliary expenses, and ambulance charges, besides many others. Based on certain input features such as age , bmi,,no of dependents ,smoker ,region  medical insurance is calculated ."
   ]
  },
  {
   "cell_type": "markdown",
   "id": "e912f2ef",
   "metadata": {},
   "source": [
    "<span style=\"color:blue\">Dataset contains following fields"
   ]
  },
  {
   "cell_type": "markdown",
   "id": "b93ecb25",
   "metadata": {},
   "source": [
    "•age: age of primary beneficiary                 \n",
    "•sex: insurance contractor gender, female, male                                       \n",
    "•bmi: Body mass index, providing an understanding of body, weights that are relatively high or low relative to height, objective index of body weight (kg / m ^ 2) using the ratio of height to weight, ideally 18.5 to 24.9.                            \n",
    "•children: Number of children covered by health insurance / Number of dependents                                  \n",
    "•smoker: Smoking                                   \n",
    "•region: the beneficiary's residential area in the US, northeast, southeast, southwest, northwest.                          \n",
    "•charges: Individual medical costs billed by health insurance"
   ]
  },
  {
   "cell_type": "markdown",
   "id": "4c6558f2",
   "metadata": {},
   "source": [
    "<span style=\"color:blue\">Predict : Can you accurately predict insurance costs?"
   ]
  },
  {
   "cell_type": "markdown",
   "id": "1e888da1",
   "metadata": {},
   "source": [
    "# Python Implementation-"
   ]
  },
  {
   "cell_type": "markdown",
   "id": "98dd9d87",
   "metadata": {},
   "source": [
    "<span style=\"color:red\">****Importing Necessary Libraries****"
   ]
  },
  {
   "cell_type": "code",
   "execution_count": 5,
   "id": "66929185",
   "metadata": {},
   "outputs": [],
   "source": [
    "import pandas as pd\n",
    "import numpy as np\n",
    "import seaborn as sns\n",
    "import matplotlib.pyplot as plt\n",
    "import warnings\n",
    "warnings.filterwarnings('ignore')"
   ]
  },
  {
   "cell_type": "code",
   "execution_count": 6,
   "id": "1d44449c",
   "metadata": {},
   "outputs": [
    {
     "data": {
      "text/html": [
       "<div>\n",
       "<style scoped>\n",
       "    .dataframe tbody tr th:only-of-type {\n",
       "        vertical-align: middle;\n",
       "    }\n",
       "\n",
       "    .dataframe tbody tr th {\n",
       "        vertical-align: top;\n",
       "    }\n",
       "\n",
       "    .dataframe thead th {\n",
       "        text-align: right;\n",
       "    }\n",
       "</style>\n",
       "<table border=\"1\" class=\"dataframe\">\n",
       "  <thead>\n",
       "    <tr style=\"text-align: right;\">\n",
       "      <th></th>\n",
       "      <th>age</th>\n",
       "      <th>sex</th>\n",
       "      <th>bmi</th>\n",
       "      <th>children</th>\n",
       "      <th>smoker</th>\n",
       "      <th>region</th>\n",
       "      <th>charges</th>\n",
       "    </tr>\n",
       "  </thead>\n",
       "  <tbody>\n",
       "    <tr>\n",
       "      <th>0</th>\n",
       "      <td>19</td>\n",
       "      <td>female</td>\n",
       "      <td>27.900</td>\n",
       "      <td>0</td>\n",
       "      <td>yes</td>\n",
       "      <td>southwest</td>\n",
       "      <td>16884.92400</td>\n",
       "    </tr>\n",
       "    <tr>\n",
       "      <th>1</th>\n",
       "      <td>18</td>\n",
       "      <td>male</td>\n",
       "      <td>33.770</td>\n",
       "      <td>1</td>\n",
       "      <td>no</td>\n",
       "      <td>southeast</td>\n",
       "      <td>1725.55230</td>\n",
       "    </tr>\n",
       "    <tr>\n",
       "      <th>2</th>\n",
       "      <td>28</td>\n",
       "      <td>male</td>\n",
       "      <td>33.000</td>\n",
       "      <td>3</td>\n",
       "      <td>no</td>\n",
       "      <td>southeast</td>\n",
       "      <td>4449.46200</td>\n",
       "    </tr>\n",
       "    <tr>\n",
       "      <th>3</th>\n",
       "      <td>33</td>\n",
       "      <td>male</td>\n",
       "      <td>22.705</td>\n",
       "      <td>0</td>\n",
       "      <td>no</td>\n",
       "      <td>northwest</td>\n",
       "      <td>21984.47061</td>\n",
       "    </tr>\n",
       "    <tr>\n",
       "      <th>4</th>\n",
       "      <td>32</td>\n",
       "      <td>male</td>\n",
       "      <td>28.880</td>\n",
       "      <td>0</td>\n",
       "      <td>no</td>\n",
       "      <td>northwest</td>\n",
       "      <td>3866.85520</td>\n",
       "    </tr>\n",
       "    <tr>\n",
       "      <th>...</th>\n",
       "      <td>...</td>\n",
       "      <td>...</td>\n",
       "      <td>...</td>\n",
       "      <td>...</td>\n",
       "      <td>...</td>\n",
       "      <td>...</td>\n",
       "      <td>...</td>\n",
       "    </tr>\n",
       "    <tr>\n",
       "      <th>1333</th>\n",
       "      <td>50</td>\n",
       "      <td>male</td>\n",
       "      <td>30.970</td>\n",
       "      <td>3</td>\n",
       "      <td>no</td>\n",
       "      <td>northwest</td>\n",
       "      <td>10600.54830</td>\n",
       "    </tr>\n",
       "    <tr>\n",
       "      <th>1334</th>\n",
       "      <td>18</td>\n",
       "      <td>female</td>\n",
       "      <td>31.920</td>\n",
       "      <td>0</td>\n",
       "      <td>no</td>\n",
       "      <td>northeast</td>\n",
       "      <td>2205.98080</td>\n",
       "    </tr>\n",
       "    <tr>\n",
       "      <th>1335</th>\n",
       "      <td>18</td>\n",
       "      <td>female</td>\n",
       "      <td>36.850</td>\n",
       "      <td>0</td>\n",
       "      <td>no</td>\n",
       "      <td>southeast</td>\n",
       "      <td>1629.83350</td>\n",
       "    </tr>\n",
       "    <tr>\n",
       "      <th>1336</th>\n",
       "      <td>21</td>\n",
       "      <td>female</td>\n",
       "      <td>25.800</td>\n",
       "      <td>0</td>\n",
       "      <td>no</td>\n",
       "      <td>southwest</td>\n",
       "      <td>2007.94500</td>\n",
       "    </tr>\n",
       "    <tr>\n",
       "      <th>1337</th>\n",
       "      <td>61</td>\n",
       "      <td>female</td>\n",
       "      <td>29.070</td>\n",
       "      <td>0</td>\n",
       "      <td>yes</td>\n",
       "      <td>northwest</td>\n",
       "      <td>29141.36030</td>\n",
       "    </tr>\n",
       "  </tbody>\n",
       "</table>\n",
       "<p>1338 rows × 7 columns</p>\n",
       "</div>"
      ],
      "text/plain": [
       "      age     sex     bmi  children smoker     region      charges\n",
       "0      19  female  27.900         0    yes  southwest  16884.92400\n",
       "1      18    male  33.770         1     no  southeast   1725.55230\n",
       "2      28    male  33.000         3     no  southeast   4449.46200\n",
       "3      33    male  22.705         0     no  northwest  21984.47061\n",
       "4      32    male  28.880         0     no  northwest   3866.85520\n",
       "...   ...     ...     ...       ...    ...        ...          ...\n",
       "1333   50    male  30.970         3     no  northwest  10600.54830\n",
       "1334   18  female  31.920         0     no  northeast   2205.98080\n",
       "1335   18  female  36.850         0     no  southeast   1629.83350\n",
       "1336   21  female  25.800         0     no  southwest   2007.94500\n",
       "1337   61  female  29.070         0    yes  northwest  29141.36030\n",
       "\n",
       "[1338 rows x 7 columns]"
      ]
     },
     "execution_count": 6,
     "metadata": {},
     "output_type": "execute_result"
    }
   ],
   "source": [
    "#Importing Dataset\n",
    "df=pd.read_csv('https://raw.githubusercontent.com/dsrscientist/dataset4/main/medical_cost_insurance.csv')\n",
    "df"
   ]
  },
  {
   "cell_type": "code",
   "execution_count": 7,
   "id": "b5bdadc9",
   "metadata": {},
   "outputs": [
    {
     "data": {
      "text/html": [
       "<div>\n",
       "<style scoped>\n",
       "    .dataframe tbody tr th:only-of-type {\n",
       "        vertical-align: middle;\n",
       "    }\n",
       "\n",
       "    .dataframe tbody tr th {\n",
       "        vertical-align: top;\n",
       "    }\n",
       "\n",
       "    .dataframe thead th {\n",
       "        text-align: right;\n",
       "    }\n",
       "</style>\n",
       "<table border=\"1\" class=\"dataframe\">\n",
       "  <thead>\n",
       "    <tr style=\"text-align: right;\">\n",
       "      <th></th>\n",
       "      <th>age</th>\n",
       "      <th>sex</th>\n",
       "      <th>bmi</th>\n",
       "      <th>children</th>\n",
       "      <th>smoker</th>\n",
       "      <th>region</th>\n",
       "      <th>charges</th>\n",
       "    </tr>\n",
       "  </thead>\n",
       "  <tbody>\n",
       "    <tr>\n",
       "      <th>1333</th>\n",
       "      <td>50</td>\n",
       "      <td>male</td>\n",
       "      <td>30.97</td>\n",
       "      <td>3</td>\n",
       "      <td>no</td>\n",
       "      <td>northwest</td>\n",
       "      <td>10600.5483</td>\n",
       "    </tr>\n",
       "    <tr>\n",
       "      <th>1334</th>\n",
       "      <td>18</td>\n",
       "      <td>female</td>\n",
       "      <td>31.92</td>\n",
       "      <td>0</td>\n",
       "      <td>no</td>\n",
       "      <td>northeast</td>\n",
       "      <td>2205.9808</td>\n",
       "    </tr>\n",
       "    <tr>\n",
       "      <th>1335</th>\n",
       "      <td>18</td>\n",
       "      <td>female</td>\n",
       "      <td>36.85</td>\n",
       "      <td>0</td>\n",
       "      <td>no</td>\n",
       "      <td>southeast</td>\n",
       "      <td>1629.8335</td>\n",
       "    </tr>\n",
       "    <tr>\n",
       "      <th>1336</th>\n",
       "      <td>21</td>\n",
       "      <td>female</td>\n",
       "      <td>25.80</td>\n",
       "      <td>0</td>\n",
       "      <td>no</td>\n",
       "      <td>southwest</td>\n",
       "      <td>2007.9450</td>\n",
       "    </tr>\n",
       "    <tr>\n",
       "      <th>1337</th>\n",
       "      <td>61</td>\n",
       "      <td>female</td>\n",
       "      <td>29.07</td>\n",
       "      <td>0</td>\n",
       "      <td>yes</td>\n",
       "      <td>northwest</td>\n",
       "      <td>29141.3603</td>\n",
       "    </tr>\n",
       "  </tbody>\n",
       "</table>\n",
       "</div>"
      ],
      "text/plain": [
       "      age     sex    bmi  children smoker     region     charges\n",
       "1333   50    male  30.97         3     no  northwest  10600.5483\n",
       "1334   18  female  31.92         0     no  northeast   2205.9808\n",
       "1335   18  female  36.85         0     no  southeast   1629.8335\n",
       "1336   21  female  25.80         0     no  southwest   2007.9450\n",
       "1337   61  female  29.07         0    yes  northwest  29141.3603"
      ]
     },
     "execution_count": 7,
     "metadata": {},
     "output_type": "execute_result"
    }
   ],
   "source": [
    "#getting last five record\n",
    "df.tail()"
   ]
  },
  {
   "cell_type": "code",
   "execution_count": 8,
   "id": "7d931899",
   "metadata": {},
   "outputs": [
    {
     "name": "stdout",
     "output_type": "stream",
     "text": [
      "The rows and columns in the dataset:(1338, 7)\n",
      "\n",
      " The columns in the dataset:Index(['age', 'sex', 'bmi', 'children', 'smoker', 'region', 'charges'], dtype='object')\n"
     ]
    }
   ],
   "source": [
    "print(f'The rows and columns in the dataset:{df.shape}')\n",
    "print(f'\\n The columns in the dataset:{df.columns}')"
   ]
  },
  {
   "cell_type": "code",
   "execution_count": 9,
   "id": "07dcd592",
   "metadata": {},
   "outputs": [
    {
     "data": {
      "text/plain": [
       "age           int64\n",
       "sex          object\n",
       "bmi         float64\n",
       "children      int64\n",
       "smoker       object\n",
       "region       object\n",
       "charges     float64\n",
       "dtype: object"
      ]
     },
     "execution_count": 9,
     "metadata": {},
     "output_type": "execute_result"
    }
   ],
   "source": [
    "#chceking the data-types of columns\n",
    "df.dtypes"
   ]
  },
  {
   "cell_type": "markdown",
   "id": "1b3559b2",
   "metadata": {},
   "source": [
    "<span style=\"color:BLUE\">Observation -There are three data types of present in  dataset:(object,float64,int64)"
   ]
  },
  {
   "cell_type": "markdown",
   "id": "76193df9",
   "metadata": {},
   "source": [
    "<span style=\"color:red\">****Checking the Null Values****"
   ]
  },
  {
   "cell_type": "code",
   "execution_count": 10,
   "id": "01714862",
   "metadata": {},
   "outputs": [
    {
     "data": {
      "text/plain": [
       "age         0\n",
       "sex         0\n",
       "bmi         0\n",
       "children    0\n",
       "smoker      0\n",
       "region      0\n",
       "charges     0\n",
       "dtype: int64"
      ]
     },
     "execution_count": 10,
     "metadata": {},
     "output_type": "execute_result"
    }
   ],
   "source": [
    "#checking the null values in each column\n",
    "df.isnull().sum()"
   ]
  },
  {
   "cell_type": "code",
   "execution_count": 11,
   "id": "e2fc5d21",
   "metadata": {},
   "outputs": [
    {
     "data": {
      "text/plain": [
       "<AxesSubplot:>"
      ]
     },
     "execution_count": 11,
     "metadata": {},
     "output_type": "execute_result"
    },
    {
     "data": {
      "image/png": "[encoded data removed]",
      "text/plain": [
       "<Figure size 432x288 with 2 Axes>"
      ]
     },
     "metadata": {
      "needs_background": "light"
     },
     "output_type": "display_data"
    }
   ],
   "source": [
    "# Lets visualise null values using heatmap\n",
    "sns.heatmap(df.isnull())"
   ]
  },
  {
   "cell_type": "markdown",
   "id": "c9306701",
   "metadata": {},
   "source": [
    "<span style=\"color:blue\">Observation - No null values are present in any column."
   ]
  },
  {
   "cell_type": "markdown",
   "id": "89e79713",
   "metadata": {},
   "source": [
    "<span style=\"color:red\">****Information of  Dataset****"
   ]
  },
  {
   "cell_type": "code",
   "execution_count": 12,
   "id": "aee098f4",
   "metadata": {},
   "outputs": [
    {
     "name": "stdout",
     "output_type": "stream",
     "text": [
      "<class 'pandas.core.frame.DataFrame'>\n",
      "RangeIndex: 1338 entries, 0 to 1337\n",
      "Data columns (total 7 columns):\n",
      " #   Column    Non-Null Count  Dtype  \n",
      "---  ------    --------------  -----  \n",
      " 0   age       1338 non-null   int64  \n",
      " 1   sex       1338 non-null   object \n",
      " 2   bmi       1338 non-null   float64\n",
      " 3   children  1338 non-null   int64  \n",
      " 4   smoker    1338 non-null   object \n",
      " 5   region    1338 non-null   object \n",
      " 6   charges   1338 non-null   float64\n",
      "dtypes: float64(2), int64(2), object(3)\n",
      "memory usage: 73.3+ KB\n"
     ]
    }
   ],
   "source": [
    "# getting all information of dataset \n",
    "df.info()"
   ]
  },
  {
   "cell_type": "markdown",
   "id": "a63c7b4d",
   "metadata": {},
   "source": [
    "<span style=\"color:blue\">Observation - No null values are present in any column but there is possibility of \"blankspace\" or \"whitespace\" .\n",
    "Lets check with value count."
   ]
  },
  {
   "cell_type": "code",
   "execution_count": 13,
   "id": "25ef8c3d",
   "metadata": {},
   "outputs": [
    {
     "name": "stdout",
     "output_type": "stream",
     "text": [
      "18    69\n",
      "19    68\n",
      "50    29\n",
      "51    29\n",
      "47    29\n",
      "46    29\n",
      "45    29\n",
      "20    29\n",
      "48    29\n",
      "52    29\n",
      "22    28\n",
      "49    28\n",
      "54    28\n",
      "53    28\n",
      "21    28\n",
      "26    28\n",
      "24    28\n",
      "25    28\n",
      "28    28\n",
      "27    28\n",
      "23    28\n",
      "43    27\n",
      "29    27\n",
      "30    27\n",
      "41    27\n",
      "42    27\n",
      "44    27\n",
      "31    27\n",
      "40    27\n",
      "32    26\n",
      "33    26\n",
      "56    26\n",
      "34    26\n",
      "55    26\n",
      "57    26\n",
      "37    25\n",
      "59    25\n",
      "58    25\n",
      "36    25\n",
      "38    25\n",
      "35    25\n",
      "39    25\n",
      "61    23\n",
      "60    23\n",
      "63    23\n",
      "62    23\n",
      "64    22\n",
      "Name: age, dtype: int64\n",
      "\n",
      "\n",
      "male      676\n",
      "female    662\n",
      "Name: sex, dtype: int64\n",
      "\n",
      "\n",
      "32.300    13\n",
      "28.310     9\n",
      "30.495     8\n",
      "30.875     8\n",
      "31.350     8\n",
      "          ..\n",
      "46.200     1\n",
      "23.800     1\n",
      "44.770     1\n",
      "32.120     1\n",
      "30.970     1\n",
      "Name: bmi, Length: 548, dtype: int64\n",
      "\n",
      "\n",
      "0    574\n",
      "1    324\n",
      "2    240\n",
      "3    157\n",
      "4     25\n",
      "5     18\n",
      "Name: children, dtype: int64\n",
      "\n",
      "\n",
      "no     1064\n",
      "yes     274\n",
      "Name: smoker, dtype: int64\n",
      "\n",
      "\n",
      "southeast    364\n",
      "southwest    325\n",
      "northwest    325\n",
      "northeast    324\n",
      "Name: region, dtype: int64\n",
      "\n",
      "\n",
      "1639.56310     2\n",
      "16884.92400    1\n",
      "29330.98315    1\n",
      "2221.56445     1\n",
      "19798.05455    1\n",
      "              ..\n",
      "7345.08400     1\n",
      "26109.32905    1\n",
      "28287.89766    1\n",
      "1149.39590     1\n",
      "29141.36030    1\n",
      "Name: charges, Length: 1337, dtype: int64\n",
      "\n",
      "\n"
     ]
    }
   ],
   "source": [
    "#Checking the valuecount(i.e frequency of each value ) of each column \n",
    "for i in df.columns:\n",
    "    print(df[i].value_counts())\n",
    "    print(\"\\n\")"
   ]
  },
  {
   "cell_type": "markdown",
   "id": "42474219",
   "metadata": {},
   "source": [
    "<span style=\"color:blue\">Observation - \"blankspace\" or \"whitespace\" are not present in any column."
   ]
  },
  {
   "cell_type": "code",
   "execution_count": 14,
   "id": "6dd697d3",
   "metadata": {},
   "outputs": [
    {
     "data": {
      "text/html": [
       "<div>\n",
       "<style scoped>\n",
       "    .dataframe tbody tr th:only-of-type {\n",
       "        vertical-align: middle;\n",
       "    }\n",
       "\n",
       "    .dataframe tbody tr th {\n",
       "        vertical-align: top;\n",
       "    }\n",
       "\n",
       "    .dataframe thead th {\n",
       "        text-align: right;\n",
       "    }\n",
       "</style>\n",
       "<table border=\"1\" class=\"dataframe\">\n",
       "  <thead>\n",
       "    <tr style=\"text-align: right;\">\n",
       "      <th></th>\n",
       "      <th>No. of unique value</th>\n",
       "    </tr>\n",
       "  </thead>\n",
       "  <tbody>\n",
       "    <tr>\n",
       "      <th>age</th>\n",
       "      <td>47</td>\n",
       "    </tr>\n",
       "    <tr>\n",
       "      <th>sex</th>\n",
       "      <td>2</td>\n",
       "    </tr>\n",
       "    <tr>\n",
       "      <th>bmi</th>\n",
       "      <td>548</td>\n",
       "    </tr>\n",
       "    <tr>\n",
       "      <th>children</th>\n",
       "      <td>6</td>\n",
       "    </tr>\n",
       "    <tr>\n",
       "      <th>smoker</th>\n",
       "      <td>2</td>\n",
       "    </tr>\n",
       "    <tr>\n",
       "      <th>region</th>\n",
       "      <td>4</td>\n",
       "    </tr>\n",
       "    <tr>\n",
       "      <th>charges</th>\n",
       "      <td>1337</td>\n",
       "    </tr>\n",
       "  </tbody>\n",
       "</table>\n",
       "</div>"
      ],
      "text/plain": [
       "          No. of unique value\n",
       "age                        47\n",
       "sex                         2\n",
       "bmi                       548\n",
       "children                    6\n",
       "smoker                      2\n",
       "region                      4\n",
       "charges                  1337"
      ]
     },
     "execution_count": 14,
     "metadata": {},
     "output_type": "execute_result"
    }
   ],
   "source": [
    "#checking number of unique value in each column\n",
    "df.nunique().to_frame(\"No. of unique value\")"
   ]
  },
  {
   "cell_type": "markdown",
   "id": "8874d312",
   "metadata": {},
   "source": [
    "<span style=\"color:red\">****Checking Duplicate values****"
   ]
  },
  {
   "cell_type": "code",
   "execution_count": 15,
   "id": "217d1439",
   "metadata": {},
   "outputs": [
    {
     "name": "stdout",
     "output_type": "stream",
     "text": [
      "Total Dublicate rows are: 1\n"
     ]
    }
   ],
   "source": [
    "#Checking Duplicate values in DataFrame\n",
    "print(\"Total Dublicate rows are:\",df.duplicated().sum())"
   ]
  },
  {
   "cell_type": "code",
   "execution_count": 16,
   "id": "149fcd03",
   "metadata": {},
   "outputs": [],
   "source": [
    "#showing dublicate values\n",
    "duplicate=df[df.duplicated(keep=False)]"
   ]
  },
  {
   "cell_type": "code",
   "execution_count": 17,
   "id": "f4483d6d",
   "metadata": {},
   "outputs": [],
   "source": [
    "#removing dublicate values\n",
    "df.drop_duplicates(inplace=True)\n",
    "#reset the index after removing dublicate values\n",
    "df.reset_index(drop=True , inplace=True)"
   ]
  },
  {
   "cell_type": "code",
   "execution_count": 18,
   "id": "37b7d94c",
   "metadata": {},
   "outputs": [
    {
     "data": {
      "text/html": [
       "<div>\n",
       "<style scoped>\n",
       "    .dataframe tbody tr th:only-of-type {\n",
       "        vertical-align: middle;\n",
       "    }\n",
       "\n",
       "    .dataframe tbody tr th {\n",
       "        vertical-align: top;\n",
       "    }\n",
       "\n",
       "    .dataframe thead th {\n",
       "        text-align: right;\n",
       "    }\n",
       "</style>\n",
       "<table border=\"1\" class=\"dataframe\">\n",
       "  <thead>\n",
       "    <tr style=\"text-align: right;\">\n",
       "      <th></th>\n",
       "      <th>age</th>\n",
       "      <th>sex</th>\n",
       "      <th>bmi</th>\n",
       "      <th>children</th>\n",
       "      <th>smoker</th>\n",
       "      <th>region</th>\n",
       "      <th>charges</th>\n",
       "    </tr>\n",
       "  </thead>\n",
       "  <tbody>\n",
       "    <tr>\n",
       "      <th>0</th>\n",
       "      <td>19</td>\n",
       "      <td>female</td>\n",
       "      <td>27.900</td>\n",
       "      <td>0</td>\n",
       "      <td>yes</td>\n",
       "      <td>southwest</td>\n",
       "      <td>16884.92400</td>\n",
       "    </tr>\n",
       "    <tr>\n",
       "      <th>1</th>\n",
       "      <td>18</td>\n",
       "      <td>male</td>\n",
       "      <td>33.770</td>\n",
       "      <td>1</td>\n",
       "      <td>no</td>\n",
       "      <td>southeast</td>\n",
       "      <td>1725.55230</td>\n",
       "    </tr>\n",
       "    <tr>\n",
       "      <th>2</th>\n",
       "      <td>28</td>\n",
       "      <td>male</td>\n",
       "      <td>33.000</td>\n",
       "      <td>3</td>\n",
       "      <td>no</td>\n",
       "      <td>southeast</td>\n",
       "      <td>4449.46200</td>\n",
       "    </tr>\n",
       "    <tr>\n",
       "      <th>3</th>\n",
       "      <td>33</td>\n",
       "      <td>male</td>\n",
       "      <td>22.705</td>\n",
       "      <td>0</td>\n",
       "      <td>no</td>\n",
       "      <td>northwest</td>\n",
       "      <td>21984.47061</td>\n",
       "    </tr>\n",
       "    <tr>\n",
       "      <th>4</th>\n",
       "      <td>32</td>\n",
       "      <td>male</td>\n",
       "      <td>28.880</td>\n",
       "      <td>0</td>\n",
       "      <td>no</td>\n",
       "      <td>northwest</td>\n",
       "      <td>3866.85520</td>\n",
       "    </tr>\n",
       "    <tr>\n",
       "      <th>...</th>\n",
       "      <td>...</td>\n",
       "      <td>...</td>\n",
       "      <td>...</td>\n",
       "      <td>...</td>\n",
       "      <td>...</td>\n",
       "      <td>...</td>\n",
       "      <td>...</td>\n",
       "    </tr>\n",
       "    <tr>\n",
       "      <th>1332</th>\n",
       "      <td>50</td>\n",
       "      <td>male</td>\n",
       "      <td>30.970</td>\n",
       "      <td>3</td>\n",
       "      <td>no</td>\n",
       "      <td>northwest</td>\n",
       "      <td>10600.54830</td>\n",
       "    </tr>\n",
       "    <tr>\n",
       "      <th>1333</th>\n",
       "      <td>18</td>\n",
       "      <td>female</td>\n",
       "      <td>31.920</td>\n",
       "      <td>0</td>\n",
       "      <td>no</td>\n",
       "      <td>northeast</td>\n",
       "      <td>2205.98080</td>\n",
       "    </tr>\n",
       "    <tr>\n",
       "      <th>1334</th>\n",
       "      <td>18</td>\n",
       "      <td>female</td>\n",
       "      <td>36.850</td>\n",
       "      <td>0</td>\n",
       "      <td>no</td>\n",
       "      <td>southeast</td>\n",
       "      <td>1629.83350</td>\n",
       "    </tr>\n",
       "    <tr>\n",
       "      <th>1335</th>\n",
       "      <td>21</td>\n",
       "      <td>female</td>\n",
       "      <td>25.800</td>\n",
       "      <td>0</td>\n",
       "      <td>no</td>\n",
       "      <td>southwest</td>\n",
       "      <td>2007.94500</td>\n",
       "    </tr>\n",
       "    <tr>\n",
       "      <th>1336</th>\n",
       "      <td>61</td>\n",
       "      <td>female</td>\n",
       "      <td>29.070</td>\n",
       "      <td>0</td>\n",
       "      <td>yes</td>\n",
       "      <td>northwest</td>\n",
       "      <td>29141.36030</td>\n",
       "    </tr>\n",
       "  </tbody>\n",
       "</table>\n",
       "<p>1337 rows × 7 columns</p>\n",
       "</div>"
      ],
      "text/plain": [
       "      age     sex     bmi  children smoker     region      charges\n",
       "0      19  female  27.900         0    yes  southwest  16884.92400\n",
       "1      18    male  33.770         1     no  southeast   1725.55230\n",
       "2      28    male  33.000         3     no  southeast   4449.46200\n",
       "3      33    male  22.705         0     no  northwest  21984.47061\n",
       "4      32    male  28.880         0     no  northwest   3866.85520\n",
       "...   ...     ...     ...       ...    ...        ...          ...\n",
       "1332   50    male  30.970         3     no  northwest  10600.54830\n",
       "1333   18  female  31.920         0     no  northeast   2205.98080\n",
       "1334   18  female  36.850         0     no  southeast   1629.83350\n",
       "1335   21  female  25.800         0     no  southwest   2007.94500\n",
       "1336   61  female  29.070         0    yes  northwest  29141.36030\n",
       "\n",
       "[1337 rows x 7 columns]"
      ]
     },
     "execution_count": 18,
     "metadata": {},
     "output_type": "execute_result"
    }
   ],
   "source": [
    "#printing dataframe again\n",
    "df"
   ]
  },
  {
   "cell_type": "markdown",
   "id": "733e066a",
   "metadata": {},
   "source": [
    "<span style=\"color:red\">****Description of  Dataset****"
   ]
  },
  {
   "cell_type": "code",
   "execution_count": 19,
   "id": "cb4c066b",
   "metadata": {},
   "outputs": [
    {
     "data": {
      "text/html": [
       "<div>\n",
       "<style scoped>\n",
       "    .dataframe tbody tr th:only-of-type {\n",
       "        vertical-align: middle;\n",
       "    }\n",
       "\n",
       "    .dataframe tbody tr th {\n",
       "        vertical-align: top;\n",
       "    }\n",
       "\n",
       "    .dataframe thead th {\n",
       "        text-align: right;\n",
       "    }\n",
       "</style>\n",
       "<table border=\"1\" class=\"dataframe\">\n",
       "  <thead>\n",
       "    <tr style=\"text-align: right;\">\n",
       "      <th></th>\n",
       "      <th>age</th>\n",
       "      <th>bmi</th>\n",
       "      <th>children</th>\n",
       "      <th>charges</th>\n",
       "    </tr>\n",
       "  </thead>\n",
       "  <tbody>\n",
       "    <tr>\n",
       "      <th>count</th>\n",
       "      <td>1337.000000</td>\n",
       "      <td>1337.000000</td>\n",
       "      <td>1337.000000</td>\n",
       "      <td>1337.000000</td>\n",
       "    </tr>\n",
       "    <tr>\n",
       "      <th>mean</th>\n",
       "      <td>39.222139</td>\n",
       "      <td>30.663452</td>\n",
       "      <td>1.095737</td>\n",
       "      <td>13279.121487</td>\n",
       "    </tr>\n",
       "    <tr>\n",
       "      <th>std</th>\n",
       "      <td>14.044333</td>\n",
       "      <td>6.100468</td>\n",
       "      <td>1.205571</td>\n",
       "      <td>12110.359656</td>\n",
       "    </tr>\n",
       "    <tr>\n",
       "      <th>min</th>\n",
       "      <td>18.000000</td>\n",
       "      <td>15.960000</td>\n",
       "      <td>0.000000</td>\n",
       "      <td>1121.873900</td>\n",
       "    </tr>\n",
       "    <tr>\n",
       "      <th>25%</th>\n",
       "      <td>27.000000</td>\n",
       "      <td>26.290000</td>\n",
       "      <td>0.000000</td>\n",
       "      <td>4746.344000</td>\n",
       "    </tr>\n",
       "    <tr>\n",
       "      <th>50%</th>\n",
       "      <td>39.000000</td>\n",
       "      <td>30.400000</td>\n",
       "      <td>1.000000</td>\n",
       "      <td>9386.161300</td>\n",
       "    </tr>\n",
       "    <tr>\n",
       "      <th>75%</th>\n",
       "      <td>51.000000</td>\n",
       "      <td>34.700000</td>\n",
       "      <td>2.000000</td>\n",
       "      <td>16657.717450</td>\n",
       "    </tr>\n",
       "    <tr>\n",
       "      <th>max</th>\n",
       "      <td>64.000000</td>\n",
       "      <td>53.130000</td>\n",
       "      <td>5.000000</td>\n",
       "      <td>63770.428010</td>\n",
       "    </tr>\n",
       "  </tbody>\n",
       "</table>\n",
       "</div>"
      ],
      "text/plain": [
       "               age          bmi     children       charges\n",
       "count  1337.000000  1337.000000  1337.000000   1337.000000\n",
       "mean     39.222139    30.663452     1.095737  13279.121487\n",
       "std      14.044333     6.100468     1.205571  12110.359656\n",
       "min      18.000000    15.960000     0.000000   1121.873900\n",
       "25%      27.000000    26.290000     0.000000   4746.344000\n",
       "50%      39.000000    30.400000     1.000000   9386.161300\n",
       "75%      51.000000    34.700000     2.000000  16657.717450\n",
       "max      64.000000    53.130000     5.000000  63770.428010"
      ]
     },
     "execution_count": 19,
     "metadata": {},
     "output_type": "execute_result"
    }
   ],
   "source": [
    "#Statistical summary of numerical column\n",
    "df.describe()"
   ]
  },
  {
   "cell_type": "markdown",
   "id": "655d5df1",
   "metadata": {},
   "source": [
    "<span style=\"color:BLUE\">Observation -From the above description , we can observe the following things:                 \n",
    "    .)No missing values are present in dataset                      \n",
    "    .)The mean value is greater than median(50%) in \"Charge\",which means data is skewed right in these.   \n",
    "     .)There is huge difference in 75% and max value,it means Outliers are present in the dataset."
   ]
  },
  {
   "cell_type": "code",
   "execution_count": 20,
   "id": "fac1a030",
   "metadata": {},
   "outputs": [
    {
     "name": "stdout",
     "output_type": "stream",
     "text": [
      "categorical_column ['sex', 'smoker', 'region']\n",
      "\n",
      "\n",
      "Numerical_column ['age', 'bmi', 'children', 'charges']\n"
     ]
    }
   ],
   "source": [
    "#Seperating Numerical and Categorical column\n",
    "\n",
    "#checking for Categorical column\n",
    "categorical_col=[]\n",
    "for i in df.dtypes.index:\n",
    "    if df.dtypes[i]==\"object\":\n",
    "        categorical_col.append(i)\n",
    "print(\"categorical_column\",categorical_col)\n",
    "print(\"\\n\")\n",
    "\n",
    "#checking for Numerical column\n",
    "numerical_col=[]\n",
    "for i in df.dtypes.index:\n",
    "    if df.dtypes[i]!=\"object\":\n",
    "        numerical_col.append(i)\n",
    "print(\"Numerical_column\",numerical_col)"
   ]
  },
  {
   "cell_type": "markdown",
   "id": "86b4ef89",
   "metadata": {},
   "source": [
    "<span style=\"color:red\">****Converting Cateogrical into Binary number****"
   ]
  },
  {
   "cell_type": "code",
   "execution_count": 21,
   "id": "ad78b3cf",
   "metadata": {},
   "outputs": [],
   "source": [
    "# encoding sex column\n",
    "df.replace({'sex':{'male' : 0,'female': 1}},inplace =True)\n",
    "\n",
    "# encoding smoker column\n",
    "df.replace({'smoker':{'yes' : 1 , 'no' : 0}},inplace = True)\n",
    "\n",
    "# encoding region column\n",
    "df.replace({'region':{'southeast':0, 'southwest': 1, 'northeast': 2,\n",
    "                          'northwest': 3}}, inplace = True)"
   ]
  },
  {
   "cell_type": "code",
   "execution_count": 22,
   "id": "7e5eaf02",
   "metadata": {},
   "outputs": [
    {
     "data": {
      "text/plain": [
       "0    675\n",
       "1    662\n",
       "Name: sex, dtype: int64"
      ]
     },
     "execution_count": 22,
     "metadata": {},
     "output_type": "execute_result"
    }
   ],
   "source": [
    "#checking number of unique values in sex column \n",
    "df[\"sex\"].value_counts()"
   ]
  },
  {
   "cell_type": "code",
   "execution_count": 23,
   "id": "414ac65c",
   "metadata": {},
   "outputs": [
    {
     "data": {
      "text/plain": [
       "0    1063\n",
       "1     274\n",
       "Name: smoker, dtype: int64"
      ]
     },
     "execution_count": 23,
     "metadata": {},
     "output_type": "execute_result"
    }
   ],
   "source": [
    "#checking number of unique values in sex column \n",
    "df[\"smoker\"].value_counts()"
   ]
  },
  {
   "cell_type": "code",
   "execution_count": 24,
   "id": "b9a7d9a6",
   "metadata": {},
   "outputs": [
    {
     "data": {
      "text/plain": [
       "0    364\n",
       "1    325\n",
       "3    324\n",
       "2    324\n",
       "Name: region, dtype: int64"
      ]
     },
     "execution_count": 24,
     "metadata": {},
     "output_type": "execute_result"
    }
   ],
   "source": [
    "#checking number of unique values in sex column \n",
    "df[\"region\"].value_counts()"
   ]
  },
  {
   "cell_type": "markdown",
   "id": "f14e799a",
   "metadata": {},
   "source": [
    "<span style=\"color:red\">****Data Visualization****"
   ]
  },
  {
   "cell_type": "markdown",
   "id": "f7fd2b44",
   "metadata": {},
   "source": [
    "<span style=\"color:green\">****a)Checking Skwewness****"
   ]
  },
  {
   "cell_type": "code",
   "execution_count": 25,
   "id": "2697a88f",
   "metadata": {},
   "outputs": [
    {
     "data": {
      "image/png": "[encoded data removed]",
      "text/plain": [
       "<Figure size 720x432 with 4 Axes>"
      ]
     },
     "metadata": {},
     "output_type": "display_data"
    }
   ],
   "source": [
    "#Checking for data distribution in numerical columns\n",
    "plt.figure(figsize = (10,6), facecolor = 'yellow')\n",
    "plotnumber = 1 #this is an initiator\n",
    "\n",
    "for column in numerical_col:\n",
    "    if plotnumber <=4: #here 4 is the number of numerical features\n",
    "        ax = plt.subplot (2,2, plotnumber)\n",
    "        sns.distplot (df [column],color='g')\n",
    "        plt.xlabel (column, fontsize =12)\n",
    "    plotnumber +=1\n",
    "plt.tight_layout()"
   ]
  },
  {
   "cell_type": "markdown",
   "id": "8fc28dac",
   "metadata": {},
   "source": [
    "<span style=\"color:blue\">Observation - From the above distribution plots, we can notice that data almost looks normal \n",
    "except \"charges\" are sekewed to the right but we do not remove skewness and do not detect outliers from the target variable i.e \"charges\""
   ]
  },
  {
   "cell_type": "markdown",
   "id": "d8187968",
   "metadata": {},
   "source": [
    "<span style=\"color:green\">****b)Checking Relationship****"
   ]
  },
  {
   "cell_type": "code",
   "execution_count": 26,
   "id": "7c1a2ba0",
   "metadata": {},
   "outputs": [
    {
     "data": {
      "text/plain": [
       "<AxesSubplot:xlabel='age', ylabel='charges'>"
      ]
     },
     "execution_count": 26,
     "metadata": {},
     "output_type": "execute_result"
    },
    {
     "data": {
      "image/png": "[encoded data removed]",
      "text/plain": [
       "<Figure size 432x288 with 1 Axes>"
      ]
     },
     "metadata": {
      "needs_background": "light"
     },
     "output_type": "display_data"
    }
   ],
   "source": [
    "sns.barplot(x=\"age\",y=\"charges\",data=df)"
   ]
  },
  {
   "cell_type": "markdown",
   "id": "8fab882d",
   "metadata": {},
   "source": [
    "<span style=\"color:BLUE\">Observation -People having greater age spends more on medical cost."
   ]
  },
  {
   "cell_type": "code",
   "execution_count": 27,
   "id": "9b17a040",
   "metadata": {},
   "outputs": [
    {
     "data": {
      "text/plain": [
       "<AxesSubplot:xlabel='bmi', ylabel='charges'>"
      ]
     },
     "execution_count": 27,
     "metadata": {},
     "output_type": "execute_result"
    },
    {
     "data": {
      "image/png": "[encoded data removed]",
      "text/plain": [
       "<Figure size 432x288 with 1 Axes>"
      ]
     },
     "metadata": {
      "needs_background": "light"
     },
     "output_type": "display_data"
    }
   ],
   "source": [
    "sns.regplot(x=\"bmi\",y=\"charges\",data=df)"
   ]
  },
  {
   "cell_type": "markdown",
   "id": "b7868c38",
   "metadata": {},
   "source": [
    "<span style=\"color:BLUE\">Observation -People having higher bmi  spends more on medical cost."
   ]
  },
  {
   "cell_type": "code",
   "execution_count": 28,
   "id": "b44a9526",
   "metadata": {},
   "outputs": [
    {
     "data": {
      "text/plain": [
       "<AxesSubplot:xlabel='children', ylabel='charges'>"
      ]
     },
     "execution_count": 28,
     "metadata": {},
     "output_type": "execute_result"
    },
    {
     "data": {
      "image/png": "[encoded data removed]",
      "text/plain": [
       "<Figure size 432x288 with 1 Axes>"
      ]
     },
     "metadata": {
      "needs_background": "light"
     },
     "output_type": "display_data"
    }
   ],
   "source": [
    "sns.barplot(x=\"children\",y=\"charges\",data=df)"
   ]
  },
  {
   "cell_type": "markdown",
   "id": "978ae917",
   "metadata": {},
   "source": [
    "<span style=\"color:BLUE\">Observation -People with five children spends less on medical cost."
   ]
  },
  {
   "cell_type": "code",
   "execution_count": 29,
   "id": "6cc7bc13",
   "metadata": {},
   "outputs": [
    {
     "data": {
      "image/png": "[encoded data removed]",
      "text/plain": [
       "<Figure size 360x360 with 1 Axes>"
      ]
     },
     "metadata": {
      "needs_background": "light"
     },
     "output_type": "display_data"
    }
   ],
   "source": [
    "#checking sex and charges\n",
    "sns.catplot(x=\"sex\",y=\"charges\", data= df)\n",
    "plt.show()"
   ]
  },
  {
   "cell_type": "markdown",
   "id": "c78da5ff",
   "metadata": {},
   "source": [
    "<span style=\"color:BLUE\">Observation -Charges are not affected by sex(gender)."
   ]
  },
  {
   "cell_type": "code",
   "execution_count": 30,
   "id": "33c65604",
   "metadata": {},
   "outputs": [
    {
     "data": {
      "image/png": "[encoded data removed]",
      "text/plain": [
       "<Figure size 360x360 with 1 Axes>"
      ]
     },
     "metadata": {
      "needs_background": "light"
     },
     "output_type": "display_data"
    }
   ],
   "source": [
    "#checking region and charges\n",
    "sns.catplot(x=\"smoker\",y=\"charges\", data= df)\n",
    "plt.show()"
   ]
  },
  {
   "cell_type": "markdown",
   "id": "537a4e95",
   "metadata": {},
   "source": [
    "<span style=\"color:BLUE\">Observation -Smoker spends a lot more on medical cost."
   ]
  },
  {
   "cell_type": "code",
   "execution_count": 31,
   "id": "26f14874",
   "metadata": {},
   "outputs": [
    {
     "data": {
      "image/png": "[encoded data removed]",
      "text/plain": [
       "<Figure size 360x360 with 1 Axes>"
      ]
     },
     "metadata": {
      "needs_background": "light"
     },
     "output_type": "display_data"
    }
   ],
   "source": [
    "#checking region and charges\n",
    "sns.catplot(x=\"region\",y=\"charges\", data= df)\n",
    "plt.show()"
   ]
  },
  {
   "cell_type": "markdown",
   "id": "cc3944ed",
   "metadata": {},
   "source": [
    "<span style=\"color:BLUE\">Observation -we can say that region does not have much impact on medical cost."
   ]
  },
  {
   "cell_type": "markdown",
   "id": "a9e4a3b6",
   "metadata": {},
   "source": [
    "<span style=\"color:green\">****c)Checking for outliers****"
   ]
  },
  {
   "cell_type": "code",
   "execution_count": 32,
   "id": "02fb4f43",
   "metadata": {},
   "outputs": [
    {
     "data": {
      "image/png": "[encoded data removed]",
      "text/plain": [
       "<Figure size 1440x1800 with 7 Axes>"
      ]
     },
     "metadata": {
      "needs_background": "light"
     },
     "output_type": "display_data"
    }
   ],
   "source": [
    "#Checking for outliers\n",
    "plt.figure (figsize = (20,25))\n",
    "graph = 1 #Initiator\n",
    "\n",
    "for column in df:\n",
    "    if graph <=8: \n",
    "        plt.subplot (4,3, graph)\n",
    "        ax = sns.boxplot (data = df[column],)\n",
    "        plt.xlabel (column, fontsize = 15)\n",
    "    graph +=1\n",
    "plt.show()"
   ]
  },
  {
   "cell_type": "markdown",
   "id": "c3445b54",
   "metadata": {},
   "source": [
    "<span style=\"color:BLUE\">Observation -Outliers are present in \"bmi\" and \"charges\" but we do not detect or remove outliers from the target variable i.e \"charges\""
   ]
  },
  {
   "cell_type": "markdown",
   "id": "8d500cd2",
   "metadata": {},
   "source": [
    " <span style=\"color:green\">****Removing Outliers by zscore****"
   ]
  },
  {
   "cell_type": "markdown",
   "id": "7cfd43fa",
   "metadata": {},
   "source": [
    "z-score helps to understand if a data value is greater or smaller than mean and how far away it is from the mean.          \n",
    "Z score = (x -mean) / std. deviation"
   ]
  },
  {
   "cell_type": "code",
   "execution_count": 33,
   "id": "0773e4d1",
   "metadata": {},
   "outputs": [
    {
     "data": {
      "text/html": [
       "<div>\n",
       "<style scoped>\n",
       "    .dataframe tbody tr th:only-of-type {\n",
       "        vertical-align: middle;\n",
       "    }\n",
       "\n",
       "    .dataframe tbody tr th {\n",
       "        vertical-align: top;\n",
       "    }\n",
       "\n",
       "    .dataframe thead th {\n",
       "        text-align: right;\n",
       "    }\n",
       "</style>\n",
       "<table border=\"1\" class=\"dataframe\">\n",
       "  <thead>\n",
       "    <tr style=\"text-align: right;\">\n",
       "      <th></th>\n",
       "      <th>bmi</th>\n",
       "    </tr>\n",
       "  </thead>\n",
       "  <tbody>\n",
       "    <tr>\n",
       "      <th>0</th>\n",
       "      <td>0.453160</td>\n",
       "    </tr>\n",
       "    <tr>\n",
       "      <th>1</th>\n",
       "      <td>0.509422</td>\n",
       "    </tr>\n",
       "    <tr>\n",
       "      <th>2</th>\n",
       "      <td>0.383155</td>\n",
       "    </tr>\n",
       "    <tr>\n",
       "      <th>3</th>\n",
       "      <td>1.305052</td>\n",
       "    </tr>\n",
       "    <tr>\n",
       "      <th>4</th>\n",
       "      <td>0.292456</td>\n",
       "    </tr>\n",
       "    <tr>\n",
       "      <th>...</th>\n",
       "      <td>...</td>\n",
       "    </tr>\n",
       "    <tr>\n",
       "      <th>1332</th>\n",
       "      <td>0.050269</td>\n",
       "    </tr>\n",
       "    <tr>\n",
       "      <th>1333</th>\n",
       "      <td>0.206053</td>\n",
       "    </tr>\n",
       "    <tr>\n",
       "      <th>1334</th>\n",
       "      <td>1.014490</td>\n",
       "    </tr>\n",
       "    <tr>\n",
       "      <th>1335</th>\n",
       "      <td>0.797524</td>\n",
       "    </tr>\n",
       "    <tr>\n",
       "      <th>1336</th>\n",
       "      <td>0.261299</td>\n",
       "    </tr>\n",
       "  </tbody>\n",
       "</table>\n",
       "<p>1337 rows × 1 columns</p>\n",
       "</div>"
      ],
      "text/plain": [
       "           bmi\n",
       "0     0.453160\n",
       "1     0.509422\n",
       "2     0.383155\n",
       "3     1.305052\n",
       "4     0.292456\n",
       "...        ...\n",
       "1332  0.050269\n",
       "1333  0.206053\n",
       "1334  1.014490\n",
       "1335  0.797524\n",
       "1336  0.261299\n",
       "\n",
       "[1337 rows x 1 columns]"
      ]
     },
     "execution_count": 33,
     "metadata": {},
     "output_type": "execute_result"
    }
   ],
   "source": [
    "from scipy.stats import zscore\n",
    "outliers_feature=df[[\"bmi\"]]\n",
    "z=np.abs(zscore(outliers_feature)) #.abs() to remove negative values\n",
    "z"
   ]
  },
  {
   "cell_type": "markdown",
   "id": "2f9ffad7",
   "metadata": {},
   "source": [
    "<span style=\"color:GREEN\">In normal distribution, it is estimated that                                         \n",
    "68% of the data points lie between +/- 1 standard deviation.                                             \n",
    "95% of the data points lie between +/- 2 standard deviation                                                    \n",
    "99.7% of the data points lie between +/- 3 standard deviation                             "
   ]
  },
  {
   "cell_type": "code",
   "execution_count": 34,
   "id": "80fa8101",
   "metadata": {},
   "outputs": [
    {
     "data": {
      "text/plain": [
       "(array([ 116,  846, 1046, 1316], dtype=int64),\n",
       " array([0, 0, 0, 0], dtype=int64))"
      ]
     },
     "execution_count": 34,
     "metadata": {},
     "output_type": "execute_result"
    }
   ],
   "source": [
    "#Z-score>3\n",
    "np.where(z>3)"
   ]
  },
  {
   "cell_type": "code",
   "execution_count": 35,
   "id": "500c5c8f",
   "metadata": {},
   "outputs": [
    {
     "name": "stdout",
     "output_type": "stream",
     "text": [
      "3.0167243979459\n",
      "3.2331821895290602\n",
      "3.5939451755009926\n",
      "3.6841359219939767\n"
     ]
    }
   ],
   "source": [
    "#checkling the value of z^2\n",
    "print(z.iloc[116,0])\n",
    "print(z.iloc[846,0])\n",
    "print(z.iloc[1046,0])\n",
    "print(z.iloc[1316,0])\n"
   ]
  },
  {
   "cell_type": "markdown",
   "id": "1717a5fa",
   "metadata": {},
   "source": [
    "<span style=\"color:BLUE\">Observation -Here the values are greater than 3."
   ]
  },
  {
   "cell_type": "code",
   "execution_count": 36,
   "id": "0a7949d1",
   "metadata": {},
   "outputs": [
    {
     "name": "stdout",
     "output_type": "stream",
     "text": [
      "New Dataframe having rows and column:  (1333, 7)\n",
      "New Dataframe column's name:  Index(['age', 'sex', 'bmi', 'children', 'smoker', 'region', 'charges'], dtype='object')\n"
     ]
    }
   ],
   "source": [
    "#now removing the data above zscore and creating a new dataframe\n",
    "df1=df[(z<3).all(axis=1)]\n",
    "print(\"New Dataframe having rows and column: \" ,df1.shape)\n",
    "print(\"New Dataframe column's name: \" ,df1.columns)\n"
   ]
  },
  {
   "cell_type": "code",
   "execution_count": 37,
   "id": "c5975165",
   "metadata": {},
   "outputs": [
    {
     "name": "stdout",
     "output_type": "stream",
     "text": [
      "OLd Dataframe :  1337\n",
      "New Dataframe :  1333\n"
     ]
    }
   ],
   "source": [
    "#shape of old and new dataframe\n",
    "print(\"OLd Dataframe : \" ,df.shape[0])\n",
    "print(\"New Dataframe : \" ,df1.shape[0])"
   ]
  },
  {
   "cell_type": "code",
   "execution_count": 38,
   "id": "7b4127b1",
   "metadata": {},
   "outputs": [
    {
     "name": "stdout",
     "output_type": "stream",
     "text": [
      "Data Loss Percentage with Z-score method: 0.2991772625280479\n"
     ]
    }
   ],
   "source": [
    "print(\"Data Loss Percentage with Z-score method:\",((df.shape[0]-df1.shape[0])/df.shape[0])*100)"
   ]
  },
  {
   "cell_type": "markdown",
   "id": "fd4a1644",
   "metadata": {},
   "source": [
    "<span style=\"color:BLUE\">Observation -Accepted Data Loss Percentage is below 10% which is acceptable."
   ]
  },
  {
   "cell_type": "code",
   "execution_count": 39,
   "id": "4dc88e72",
   "metadata": {},
   "outputs": [],
   "source": [
    "#Storing Dataframe with Z-score method in old dataframe\n",
    "df=df1"
   ]
  },
  {
   "cell_type": "code",
   "execution_count": 40,
   "id": "e5b8f296",
   "metadata": {},
   "outputs": [
    {
     "data": {
      "text/plain": [
       "<AxesSubplot:>"
      ]
     },
     "execution_count": 40,
     "metadata": {},
     "output_type": "execute_result"
    },
    {
     "data": {
      "image/png": "[encoded data removed]",
      "text/plain": [
       "<Figure size 432x288 with 1 Axes>"
      ]
     },
     "metadata": {
      "needs_background": "light"
     },
     "output_type": "display_data"
    }
   ],
   "source": [
    "#Checking for outliers in \"bmi\" column after Z-score method\n",
    "sns.boxplot (data = df[\"bmi\"])"
   ]
  },
  {
   "cell_type": "code",
   "execution_count": 41,
   "id": "cefefdcd",
   "metadata": {},
   "outputs": [
    {
     "data": {
      "text/plain": [
       "age         0.052714\n",
       "sex         0.013519\n",
       "bmi         0.205541\n",
       "children    0.934451\n",
       "smoker      1.464636\n",
       "region      0.045335\n",
       "charges     1.517177\n",
       "dtype: float64"
      ]
     },
     "execution_count": 41,
     "metadata": {},
     "output_type": "execute_result"
    }
   ],
   "source": [
    "df.skew()"
   ]
  },
  {
   "cell_type": "markdown",
   "id": "ea16b357",
   "metadata": {},
   "source": [
    "<span style=\"color:BLUE\">Observation -There is no skewness in columns except \"children\" &\"smokers\" but \"children\" &\"smokers\" are treated as categorical feature .\n",
    "Hence no need to considered it for skewness.\n",
    "\n",
    "Default Acceptable range of Skewnesss is (-0.5 to 0.5)"
   ]
  },
  {
   "cell_type": "markdown",
   "id": "5f225fbd",
   "metadata": {},
   "source": [
    "<span style=\"color:red\">****Correlation between target variable and Independent variable****"
   ]
  },
  {
   "cell_type": "code",
   "execution_count": 42,
   "id": "75015cda",
   "metadata": {},
   "outputs": [
    {
     "data": {
      "text/html": [
       "<div>\n",
       "<style scoped>\n",
       "    .dataframe tbody tr th:only-of-type {\n",
       "        vertical-align: middle;\n",
       "    }\n",
       "\n",
       "    .dataframe tbody tr th {\n",
       "        vertical-align: top;\n",
       "    }\n",
       "\n",
       "    .dataframe thead th {\n",
       "        text-align: right;\n",
       "    }\n",
       "</style>\n",
       "<table border=\"1\" class=\"dataframe\">\n",
       "  <thead>\n",
       "    <tr style=\"text-align: right;\">\n",
       "      <th></th>\n",
       "      <th>age</th>\n",
       "      <th>sex</th>\n",
       "      <th>bmi</th>\n",
       "      <th>children</th>\n",
       "      <th>smoker</th>\n",
       "      <th>region</th>\n",
       "      <th>charges</th>\n",
       "    </tr>\n",
       "  </thead>\n",
       "  <tbody>\n",
       "    <tr>\n",
       "      <th>age</th>\n",
       "      <td>1.000000</td>\n",
       "      <td>0.017987</td>\n",
       "      <td>0.118978</td>\n",
       "      <td>0.041406</td>\n",
       "      <td>-0.024390</td>\n",
       "      <td>0.004244</td>\n",
       "      <td>0.300658</td>\n",
       "    </tr>\n",
       "    <tr>\n",
       "      <th>sex</th>\n",
       "      <td>0.017987</td>\n",
       "      <td>1.000000</td>\n",
       "      <td>-0.037046</td>\n",
       "      <td>-0.019357</td>\n",
       "      <td>-0.076510</td>\n",
       "      <td>0.013378</td>\n",
       "      <td>-0.057923</td>\n",
       "    </tr>\n",
       "    <tr>\n",
       "      <th>bmi</th>\n",
       "      <td>0.118978</td>\n",
       "      <td>-0.037046</td>\n",
       "      <td>1.000000</td>\n",
       "      <td>0.018058</td>\n",
       "      <td>0.002264</td>\n",
       "      <td>-0.253982</td>\n",
       "      <td>0.200868</td>\n",
       "    </tr>\n",
       "    <tr>\n",
       "      <th>children</th>\n",
       "      <td>0.041406</td>\n",
       "      <td>-0.019357</td>\n",
       "      <td>0.018058</td>\n",
       "      <td>1.000000</td>\n",
       "      <td>0.006744</td>\n",
       "      <td>0.018353</td>\n",
       "      <td>0.066957</td>\n",
       "    </tr>\n",
       "    <tr>\n",
       "      <th>smoker</th>\n",
       "      <td>-0.024390</td>\n",
       "      <td>-0.076510</td>\n",
       "      <td>0.002264</td>\n",
       "      <td>0.006744</td>\n",
       "      <td>1.000000</td>\n",
       "      <td>-0.053247</td>\n",
       "      <td>0.786519</td>\n",
       "    </tr>\n",
       "    <tr>\n",
       "      <th>region</th>\n",
       "      <td>0.004244</td>\n",
       "      <td>0.013378</td>\n",
       "      <td>-0.253982</td>\n",
       "      <td>0.018353</td>\n",
       "      <td>-0.053247</td>\n",
       "      <td>1.000000</td>\n",
       "      <td>-0.055878</td>\n",
       "    </tr>\n",
       "    <tr>\n",
       "      <th>charges</th>\n",
       "      <td>0.300658</td>\n",
       "      <td>-0.057923</td>\n",
       "      <td>0.200868</td>\n",
       "      <td>0.066957</td>\n",
       "      <td>0.786519</td>\n",
       "      <td>-0.055878</td>\n",
       "      <td>1.000000</td>\n",
       "    </tr>\n",
       "  </tbody>\n",
       "</table>\n",
       "</div>"
      ],
      "text/plain": [
       "               age       sex       bmi  children    smoker    region   charges\n",
       "age       1.000000  0.017987  0.118978  0.041406 -0.024390  0.004244  0.300658\n",
       "sex       0.017987  1.000000 -0.037046 -0.019357 -0.076510  0.013378 -0.057923\n",
       "bmi       0.118978 -0.037046  1.000000  0.018058  0.002264 -0.253982  0.200868\n",
       "children  0.041406 -0.019357  0.018058  1.000000  0.006744  0.018353  0.066957\n",
       "smoker   -0.024390 -0.076510  0.002264  0.006744  1.000000 -0.053247  0.786519\n",
       "region    0.004244  0.013378 -0.253982  0.018353 -0.053247  1.000000 -0.055878\n",
       "charges   0.300658 -0.057923  0.200868  0.066957  0.786519 -0.055878  1.000000"
      ]
     },
     "execution_count": 42,
     "metadata": {},
     "output_type": "execute_result"
    }
   ],
   "source": [
    "#checking Correlation \n",
    "df.corr()"
   ]
  },
  {
   "cell_type": "code",
   "execution_count": 43,
   "id": "e38413de",
   "metadata": {},
   "outputs": [
    {
     "data": {
      "text/plain": [
       "<AxesSubplot:>"
      ]
     },
     "execution_count": 43,
     "metadata": {},
     "output_type": "execute_result"
    },
    {
     "data": {
      "image/png": "[encoded data removed]",
      "text/plain": [
       "<Figure size 1080x504 with 2 Axes>"
      ]
     },
     "metadata": {
      "needs_background": "light"
     },
     "output_type": "display_data"
    }
   ],
   "source": [
    "#checking the corelation  again using heatmaps (only absolute values)\n",
    "plt.figure(figsize = (15,7))\n",
    "sns.heatmap(df.corr().abs(), annot = True, linewidths=0.5, fmt='.2f',cmap = \"YlGnBu\")"
   ]
  },
  {
   "cell_type": "code",
   "execution_count": 44,
   "id": "d5fb6178",
   "metadata": {},
   "outputs": [
    {
     "data": {
      "text/plain": [
       "sex        -0.057923\n",
       "region     -0.055878\n",
       "children    0.066957\n",
       "bmi         0.200868\n",
       "age         0.300658\n",
       "smoker      0.786519\n",
       "charges     1.000000\n",
       "Name: charges, dtype: float64"
      ]
     },
     "execution_count": 44,
     "metadata": {},
     "output_type": "execute_result"
    }
   ],
   "source": [
    "#checking Correlation with \"charge\" Column\n",
    "df.corr().charges.sort_values()"
   ]
  },
  {
   "cell_type": "markdown",
   "id": "4d3a68e2",
   "metadata": {},
   "source": [
    "<span style=\"color:BLUE\">Observation -As there is negative correlations of sex,region with charges ,so need to drop these two values.                        \n",
    "As above data there is no case of multicollinearity."
   ]
  },
  {
   "cell_type": "code",
   "execution_count": 45,
   "id": "66f2c69b",
   "metadata": {},
   "outputs": [
    {
     "data": {
      "text/html": [
       "<div>\n",
       "<style scoped>\n",
       "    .dataframe tbody tr th:only-of-type {\n",
       "        vertical-align: middle;\n",
       "    }\n",
       "\n",
       "    .dataframe tbody tr th {\n",
       "        vertical-align: top;\n",
       "    }\n",
       "\n",
       "    .dataframe thead th {\n",
       "        text-align: right;\n",
       "    }\n",
       "</style>\n",
       "<table border=\"1\" class=\"dataframe\">\n",
       "  <thead>\n",
       "    <tr style=\"text-align: right;\">\n",
       "      <th></th>\n",
       "      <th>age</th>\n",
       "      <th>bmi</th>\n",
       "      <th>children</th>\n",
       "      <th>smoker</th>\n",
       "      <th>charges</th>\n",
       "    </tr>\n",
       "  </thead>\n",
       "  <tbody>\n",
       "    <tr>\n",
       "      <th>0</th>\n",
       "      <td>19</td>\n",
       "      <td>27.900</td>\n",
       "      <td>0</td>\n",
       "      <td>1</td>\n",
       "      <td>16884.92400</td>\n",
       "    </tr>\n",
       "    <tr>\n",
       "      <th>1</th>\n",
       "      <td>18</td>\n",
       "      <td>33.770</td>\n",
       "      <td>1</td>\n",
       "      <td>0</td>\n",
       "      <td>1725.55230</td>\n",
       "    </tr>\n",
       "    <tr>\n",
       "      <th>2</th>\n",
       "      <td>28</td>\n",
       "      <td>33.000</td>\n",
       "      <td>3</td>\n",
       "      <td>0</td>\n",
       "      <td>4449.46200</td>\n",
       "    </tr>\n",
       "    <tr>\n",
       "      <th>3</th>\n",
       "      <td>33</td>\n",
       "      <td>22.705</td>\n",
       "      <td>0</td>\n",
       "      <td>0</td>\n",
       "      <td>21984.47061</td>\n",
       "    </tr>\n",
       "    <tr>\n",
       "      <th>4</th>\n",
       "      <td>32</td>\n",
       "      <td>28.880</td>\n",
       "      <td>0</td>\n",
       "      <td>0</td>\n",
       "      <td>3866.85520</td>\n",
       "    </tr>\n",
       "  </tbody>\n",
       "</table>\n",
       "</div>"
      ],
      "text/plain": [
       "   age     bmi  children  smoker      charges\n",
       "0   19  27.900         0       1  16884.92400\n",
       "1   18  33.770         1       0   1725.55230\n",
       "2   28  33.000         3       0   4449.46200\n",
       "3   33  22.705         0       0  21984.47061\n",
       "4   32  28.880         0       0   3866.85520"
      ]
     },
     "execution_count": 45,
     "metadata": {},
     "output_type": "execute_result"
    }
   ],
   "source": [
    "#Drop sex,region column from dataframe\n",
    "df=df.drop([\"sex\",\"region\"],axis=1)\n",
    "df.head()"
   ]
  },
  {
   "cell_type": "markdown",
   "id": "547d72db",
   "metadata": {},
   "source": [
    "<span style=\"color:BLUE\">Observation -smoker , age, bmi  influence charges most."
   ]
  },
  {
   "cell_type": "markdown",
   "id": "644ef252",
   "metadata": {},
   "source": [
    "<span style=\"color:red\">****Seperating Feature and Label**** "
   ]
  },
  {
   "cell_type": "code",
   "execution_count": 46,
   "id": "2a8a9183",
   "metadata": {},
   "outputs": [
    {
     "name": "stdout",
     "output_type": "stream",
     "text": [
      "Feature Dimension : (1333, 4)\n",
      "Target Dimension : (1333,)\n"
     ]
    }
   ],
   "source": [
    "#Seperating Feature and label into x and y\n",
    "x=df.drop([\"charges\"],axis=1)\n",
    "y=df[\"charges\"]\n",
    "\n",
    "print(\"Feature Dimension :\" ,x.shape)\n",
    "print(\"Target Dimension :\" ,y.shape)"
   ]
  },
  {
   "cell_type": "markdown",
   "id": "a0dafbd8",
   "metadata": {},
   "source": [
    "<span style=\"color:red\">****Feature Scaling Using Standard Scaler**** "
   ]
  },
  {
   "cell_type": "code",
   "execution_count": 47,
   "id": "84d5f93e",
   "metadata": {},
   "outputs": [
    {
     "data": {
      "text/html": [
       "<div>\n",
       "<style scoped>\n",
       "    .dataframe tbody tr th:only-of-type {\n",
       "        vertical-align: middle;\n",
       "    }\n",
       "\n",
       "    .dataframe tbody tr th {\n",
       "        vertical-align: top;\n",
       "    }\n",
       "\n",
       "    .dataframe thead th {\n",
       "        text-align: right;\n",
       "    }\n",
       "</style>\n",
       "<table border=\"1\" class=\"dataframe\">\n",
       "  <thead>\n",
       "    <tr style=\"text-align: right;\">\n",
       "      <th></th>\n",
       "      <th>age</th>\n",
       "      <th>bmi</th>\n",
       "      <th>children</th>\n",
       "      <th>smoker</th>\n",
       "    </tr>\n",
       "  </thead>\n",
       "  <tbody>\n",
       "    <tr>\n",
       "      <th>0</th>\n",
       "      <td>-1.443917</td>\n",
       "      <td>-0.450191</td>\n",
       "      <td>-0.909922</td>\n",
       "      <td>1.970478</td>\n",
       "    </tr>\n",
       "    <tr>\n",
       "      <th>1</th>\n",
       "      <td>-1.515225</td>\n",
       "      <td>0.527991</td>\n",
       "      <td>-0.080854</td>\n",
       "      <td>-0.507491</td>\n",
       "    </tr>\n",
       "    <tr>\n",
       "      <th>2</th>\n",
       "      <td>-0.802147</td>\n",
       "      <td>0.399678</td>\n",
       "      <td>1.577282</td>\n",
       "      <td>-0.507491</td>\n",
       "    </tr>\n",
       "    <tr>\n",
       "      <th>3</th>\n",
       "      <td>-0.445607</td>\n",
       "      <td>-1.315891</td>\n",
       "      <td>-0.909922</td>\n",
       "      <td>-0.507491</td>\n",
       "    </tr>\n",
       "    <tr>\n",
       "      <th>4</th>\n",
       "      <td>-0.516915</td>\n",
       "      <td>-0.286883</td>\n",
       "      <td>-0.909922</td>\n",
       "      <td>-0.507491</td>\n",
       "    </tr>\n",
       "    <tr>\n",
       "      <th>...</th>\n",
       "      <td>...</td>\n",
       "      <td>...</td>\n",
       "      <td>...</td>\n",
       "      <td>...</td>\n",
       "    </tr>\n",
       "    <tr>\n",
       "      <th>1328</th>\n",
       "      <td>0.766626</td>\n",
       "      <td>0.061396</td>\n",
       "      <td>1.577282</td>\n",
       "      <td>-0.507491</td>\n",
       "    </tr>\n",
       "    <tr>\n",
       "      <th>1329</th>\n",
       "      <td>-1.515225</td>\n",
       "      <td>0.219705</td>\n",
       "      <td>-0.909922</td>\n",
       "      <td>-0.507491</td>\n",
       "    </tr>\n",
       "    <tr>\n",
       "      <th>1330</th>\n",
       "      <td>-1.515225</td>\n",
       "      <td>1.041245</td>\n",
       "      <td>-0.909922</td>\n",
       "      <td>-0.507491</td>\n",
       "    </tr>\n",
       "    <tr>\n",
       "      <th>1331</th>\n",
       "      <td>-1.301302</td>\n",
       "      <td>-0.800137</td>\n",
       "      <td>-0.909922</td>\n",
       "      <td>-0.507491</td>\n",
       "    </tr>\n",
       "    <tr>\n",
       "      <th>1332</th>\n",
       "      <td>1.551013</td>\n",
       "      <td>-0.255221</td>\n",
       "      <td>-0.909922</td>\n",
       "      <td>1.970478</td>\n",
       "    </tr>\n",
       "  </tbody>\n",
       "</table>\n",
       "<p>1333 rows × 4 columns</p>\n",
       "</div>"
      ],
      "text/plain": [
       "           age       bmi  children    smoker\n",
       "0    -1.443917 -0.450191 -0.909922  1.970478\n",
       "1    -1.515225  0.527991 -0.080854 -0.507491\n",
       "2    -0.802147  0.399678  1.577282 -0.507491\n",
       "3    -0.445607 -1.315891 -0.909922 -0.507491\n",
       "4    -0.516915 -0.286883 -0.909922 -0.507491\n",
       "...        ...       ...       ...       ...\n",
       "1328  0.766626  0.061396  1.577282 -0.507491\n",
       "1329 -1.515225  0.219705 -0.909922 -0.507491\n",
       "1330 -1.515225  1.041245 -0.909922 -0.507491\n",
       "1331 -1.301302 -0.800137 -0.909922 -0.507491\n",
       "1332  1.551013 -0.255221 -0.909922  1.970478\n",
       "\n",
       "[1333 rows x 4 columns]"
      ]
     },
     "execution_count": 47,
     "metadata": {},
     "output_type": "execute_result"
    }
   ],
   "source": [
    "# data scaling \n",
    "from sklearn.preprocessing import StandardScaler\n",
    "scaler = StandardScaler()\n",
    "x_scaled = pd.DataFrame(scaler.fit_transform(x),columns=x.columns)\n",
    "x_scaled"
   ]
  },
  {
   "cell_type": "markdown",
   "id": "49907a86",
   "metadata": {},
   "source": [
    "# <span style=\"color:red\">****Modelling**** "
   ]
  },
  {
   "cell_type": "code",
   "execution_count": 48,
   "id": "aefb2314",
   "metadata": {},
   "outputs": [],
   "source": [
    "#Importing Necessary Libraries\n",
    "from sklearn.model_selection import train_test_split\n",
    "from sklearn.linear_model import LinearRegression\n",
    "from sklearn.metrics import mean_absolute_error\n",
    "from sklearn.metrics import mean_squared_error\n",
    "from sklearn.metrics import r2_score"
   ]
  },
  {
   "cell_type": "markdown",
   "id": "d80d7c86",
   "metadata": {},
   "source": [
    "<span style=\"color:red\">****Finding the Best Random State**** "
   ]
  },
  {
   "cell_type": "code",
   "execution_count": 49,
   "id": "92a19130",
   "metadata": {},
   "outputs": [
    {
     "name": "stdout",
     "output_type": "stream",
     "text": [
      "Maximum R2 Score is  0.7961736387967409 on Random State  145\n"
     ]
    }
   ],
   "source": [
    "#finding the best random state\n",
    "maxAccu=0\n",
    "maxRS=0\n",
    "for i in range(1,200):\n",
    "    \n",
    "    # Split the data into training and testing sets\n",
    "    x_train,x_test,y_train,y_test = train_test_split (x_scaled, y, test_size = .30, random_state = i)\n",
    "    # Loading linear regression model\n",
    "    lr = LinearRegression()\n",
    "    # Fit the model on the training data\n",
    "    lr.fit(x_train, y_train)\n",
    "    # Predict the target variable for the test data\n",
    "    y_pred = lr.predict(x_test)\n",
    "    acc = r2_score(y_test, y_pred)\n",
    "    \n",
    "    if acc>maxAccu:\n",
    "        maxAccu=acc\n",
    "        maxRS=i\n",
    "print(\"Maximum R2 Score is \",maxAccu,\"on Random State \",maxRS)      "
   ]
  },
  {
   "cell_type": "code",
   "execution_count": 50,
   "id": "894e0a69",
   "metadata": {},
   "outputs": [
    {
     "name": "stdout",
     "output_type": "stream",
     "text": [
      "Total Size Of Feature in Dataset : (1333, 4)\n",
      "Total Size Of Training Feature Dataset :  (933, 4)\n",
      "Total Size Of Testing Feature Dataset :  (400, 4)\n",
      "Total Size Of Label in Dataset : (1333,)\n",
      "Total Size Of Training Label Dataset :  (933,)\n",
      "Total Size Of Testing Label Dataset :  (400,)\n"
     ]
    }
   ],
   "source": [
    "# Split the data into training and testing sets with best Random State\n",
    "x_train,x_test,y_train,y_test = train_test_split (x_scaled, y, test_size = .30, random_state = maxRS)\n",
    "print(\"Total Size Of Feature in Dataset :\",x_scaled.shape)\n",
    "print(\"Total Size Of Training Feature Dataset : \" ,x_train.shape)\n",
    "print(\"Total Size Of Testing Feature Dataset : \", x_test.shape)\n",
    "\n",
    "print(\"Total Size Of Label in Dataset :\",y.shape)\n",
    "print(\"Total Size Of Training Label Dataset : \" ,y_train.shape)\n",
    "print(\"Total Size Of Testing Label Dataset : \", y_test.shape)"
   ]
  },
  {
   "cell_type": "markdown",
   "id": "847c8a93",
   "metadata": {},
   "source": [
    "# <span style=\"color:red\">****------------------Models--------------------****"
   ]
  },
  {
   "cell_type": "markdown",
   "id": "2d66c9f6",
   "metadata": {},
   "source": [
    "# LinearRegression"
   ]
  },
  {
   "cell_type": "code",
   "execution_count": 51,
   "id": "ca153f2d",
   "metadata": {},
   "outputs": [
    {
     "name": "stdout",
     "output_type": "stream",
     "text": [
      "R2 Score : 0.7961736387967409\n",
      "R2 Score on training data: 72.65918999473956\n",
      "Mean Absolute Error : 4006.0564729468224\n",
      "Mean Squared Error : 31962999.89438617\n",
      "Root Mean Squared Error : 5653.582925401039\n"
     ]
    }
   ],
   "source": [
    "from sklearn.linear_model import LogisticRegression\n",
    "\n",
    "LR = LinearRegression()\n",
    "LR.fit(x_train, y_train)\n",
    "pred_LR = LR.predict(x_test)\n",
    "pred_train = LR.predict(x_train)\n",
    "\n",
    "print(\"R2 Score :\",r2_score(y_test,pred_LR))\n",
    "print(\"R2 Score on training data:\",r2_score(y_train,pred_train)*100)\n",
    "print(\"Mean Absolute Error :\",mean_absolute_error(y_test,pred_LR))\n",
    "print(\"Mean Squared Error :\",mean_squared_error(y_test,pred_LR))\n",
    "print(\"Root Mean Squared Error :\",np.sqrt(mean_squared_error(y_test,pred_LR)))"
   ]
  },
  {
   "cell_type": "markdown",
   "id": "72466ad2",
   "metadata": {},
   "source": [
    "# GradientBoostingRegressor"
   ]
  },
  {
   "cell_type": "code",
   "execution_count": 52,
   "id": "23f09d80",
   "metadata": {},
   "outputs": [
    {
     "name": "stdout",
     "output_type": "stream",
     "text": [
      "R2 Score : 0.8970822619751274\n",
      "R2 Score on training data: 89.21800530309669\n",
      "Mean Absolute Error : 2253.2996288587683\n",
      "Mean Squared Error : 16139029.467042593\n",
      "Root Mean Squared Error : 4017.341094186874\n"
     ]
    }
   ],
   "source": [
    "from sklearn.ensemble import GradientBoostingRegressor\n",
    "\n",
    "GBR=GradientBoostingRegressor()\n",
    "GBR.fit(x_train, y_train)\n",
    "pred_GBR = GBR.predict(x_test)\n",
    "pred_train =GBR.predict(x_train)\n",
    "\n",
    "print(\"R2 Score :\",r2_score(y_test,pred_GBR))\n",
    "print(\"R2 Score on training data:\",r2_score(y_train,pred_train)*100)\n",
    "print(\"Mean Absolute Error :\",mean_absolute_error(y_test,pred_GBR))\n",
    "print(\"Mean Squared Error :\",mean_squared_error(y_test,pred_GBR))\n",
    "print(\"Root Mean Squared Error :\",np.sqrt(mean_squared_error(y_test,pred_GBR)))"
   ]
  },
  {
   "cell_type": "markdown",
   "id": "5174ddd5",
   "metadata": {},
   "source": [
    "# RandomForestRegressor"
   ]
  },
  {
   "cell_type": "code",
   "execution_count": 53,
   "id": "5cf8f7c9",
   "metadata": {},
   "outputs": [
    {
     "name": "stdout",
     "output_type": "stream",
     "text": [
      "R2 Score : 0.8641657571131282\n",
      "R2 Score on training data: 97.3053713111037\n",
      "Mean Absolute Error : 2617.295521133833\n",
      "Mean Squared Error : 21300826.18075845\n",
      "Root Mean Squared Error : 4615.281809462826\n"
     ]
    }
   ],
   "source": [
    "from sklearn.ensemble import RandomForestRegressor\n",
    "RFR= RandomForestRegressor()\n",
    "RFR.fit(x_train, y_train)\n",
    "pred_RFR = RFR.predict(x_test)\n",
    "pred_train = RFR.predict(x_train)\n",
    "\n",
    "print(\"R2 Score :\",r2_score(y_test,pred_RFR))\n",
    "print(\"R2 Score on training data:\",r2_score(y_train,pred_train)*100)\n",
    "print(\"Mean Absolute Error :\",mean_absolute_error(y_test,pred_RFR))\n",
    "print(\"Mean Squared Error :\",mean_squared_error(y_test,pred_RFR))\n",
    "print(\"Root Mean Squared Error :\",np.sqrt(mean_squared_error(y_test,pred_RFR)))"
   ]
  },
  {
   "cell_type": "markdown",
   "id": "84b15659",
   "metadata": {},
   "source": [
    "# KNeighborsRegressor as KNN"
   ]
  },
  {
   "cell_type": "code",
   "execution_count": 54,
   "id": "58e8ff8c",
   "metadata": {},
   "outputs": [
    {
     "name": "stdout",
     "output_type": "stream",
     "text": [
      "R2 Score : 0.8520509797148883\n",
      "R2 Score on training data: 86.78144629750967\n",
      "Mean Absolute Error : 2871.8177307225\n",
      "Mean Squared Error : 23200603.15962677\n",
      "Root Mean Squared Error : 4816.700443210764\n"
     ]
    }
   ],
   "source": [
    "from sklearn.neighbors import KNeighborsRegressor as KNN\n",
    "knn=KNN()\n",
    "knn.fit(x_train, y_train)\n",
    "pred_knn = knn.predict(x_test)\n",
    "pred_train = knn.predict(x_train)\n",
    "\n",
    "print(\"R2 Score :\",r2_score(y_test,pred_knn))\n",
    "print(\"R2 Score on training data:\",r2_score(y_train,pred_train)*100)\n",
    "print(\"Mean Absolute Error :\",mean_absolute_error(y_test,pred_knn))\n",
    "print(\"Mean Squared Error :\",mean_squared_error(y_test,pred_knn))\n",
    "print(\"Root Mean Squared Error :\",np.sqrt(mean_squared_error(y_test,pred_knn)))"
   ]
  },
  {
   "cell_type": "markdown",
   "id": "1fff9a2e",
   "metadata": {},
   "source": [
    "# DecisionTreeRegressor"
   ]
  },
  {
   "cell_type": "code",
   "execution_count": 55,
   "id": "fbb6e44b",
   "metadata": {},
   "outputs": [
    {
     "name": "stdout",
     "output_type": "stream",
     "text": [
      "R2 Score : 0.7173101734920091\n",
      "R2 Score on training data: 99.99981669135263\n",
      "Mean Absolute Error : 3191.6315249725\n",
      "Mean Squared Error : 44329962.23588805\n",
      "Root Mean Squared Error : 6658.074964724267\n"
     ]
    }
   ],
   "source": [
    "from sklearn.tree import DecisionTreeRegressor\n",
    "dtr=DecisionTreeRegressor()   \n",
    "dtr.fit(x_train, y_train)\n",
    "pred_dtr = dtr.predict(x_test)\n",
    "pred_train =dtr.predict(x_train)\n",
    "\n",
    "print(\"R2 Score :\",r2_score(y_test,pred_dtr))\n",
    "print(\"R2 Score on training data:\",r2_score(y_train,pred_train)*100)\n",
    "print(\"Mean Absolute Error :\",mean_absolute_error(y_test,pred_dtr))\n",
    "print(\"Mean Squared Error :\",mean_squared_error(y_test,pred_dtr))\n",
    "print(\"Root Mean Squared Error :\",np.sqrt(mean_squared_error(y_test,pred_dtr)))"
   ]
  },
  {
   "cell_type": "markdown",
   "id": "d34e763a",
   "metadata": {},
   "source": [
    "# Support Vector Regression."
   ]
  },
  {
   "cell_type": "code",
   "execution_count": 56,
   "id": "ee3cfd1a",
   "metadata": {},
   "outputs": [
    {
     "name": "stdout",
     "output_type": "stream",
     "text": [
      "R2 Score : -0.06301590695209347\n",
      "R2 Score on training data: -9.679052988630431\n",
      "Mean Absolute Error : 8580.191512442445\n",
      "Mean Squared Error : 166696678.09924722\n",
      "Root Mean Squared Error : 12911.106772823437\n"
     ]
    }
   ],
   "source": [
    "from sklearn.svm import SVR\n",
    "svr=SVR()\n",
    "svr.fit(x_train, y_train)\n",
    "pred_svr = svr.predict(x_test)\n",
    "pred_train =svr.predict(x_train)\n",
    "\n",
    "print(\"R2 Score :\",r2_score(y_test,pred_svr))\n",
    "print(\"R2 Score on training data:\",r2_score(y_train,pred_train)*100)\n",
    "print(\"Mean Absolute Error :\",mean_absolute_error(y_test,pred_svr))\n",
    "print(\"Mean Squared Error :\",mean_squared_error(y_test,pred_svr))\n",
    "print(\"Root Mean Squared Error :\",np.sqrt(mean_squared_error(y_test,pred_svr)))"
   ]
  },
  {
   "cell_type": "markdown",
   "id": "28a58566",
   "metadata": {},
   "source": [
    "#  <span style=\"color:green\">Clearly GradientBoostingRegressor is the best for this dataset out of all models and has best R2-score of 0.90"
   ]
  },
  {
   "cell_type": "markdown",
   "id": "3daf5d7f",
   "metadata": {},
   "source": [
    "# Building a Predictive System"
   ]
  },
  {
   "cell_type": "code",
   "execution_count": 58,
   "id": "393c8f37",
   "metadata": {},
   "outputs": [
    {
     "name": "stdout",
     "output_type": "stream",
     "text": [
      "[27025.10594662]\n",
      "The insurance cost is USD  27025.105946615007\n"
     ]
    }
   ],
   "source": [
    "input_data = (33,36.29,3,0)\n",
    "\n",
    "#changing input_data to numpy array\n",
    "input_data_as_numpy_array = np.array(input_data)\n",
    "\n",
    "#reshaping array\n",
    "input_data_reshaped = input_data_as_numpy_array.reshape(1,-1)\n",
    "\n",
    "prediction = GBR.predict(input_data_reshaped)\n",
    "print(prediction)\n",
    "print('The insurance cost is USD ', prediction[0])"
   ]
  },
  {
   "cell_type": "code",
   "execution_count": null,
   "id": "12f98415",
   "metadata": {},
   "outputs": [],
   "source": []
  }
 ],
 "metadata": {
  "kernelspec": {
   "display_name": "Python 3 (ipykernel)",
   "language": "python",
   "name": "python3"
  },
  "language_info": {
   "codemirror_mode": {
    "name": "ipython",
    "version": 3
   },
   "file_extension": ".py",
   "mimetype": "text/x-python",
   "name": "python",
   "nbconvert_exporter": "python",
   "pygments_lexer": "ipython3",
   "version": "3.9.12"
  }
 },
 "nbformat": 4,
 "nbformat_minor": 5
}
