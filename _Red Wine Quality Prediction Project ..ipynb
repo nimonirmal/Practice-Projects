{
 "cells": [
  {
   "cell_type": "markdown",
   "id": "b977051c",
   "metadata": {},
   "source": [
    "# <span style=\"color:brown\"> Red Wine Quality Prediction Project"
   ]
  },
  {
   "cell_type": "markdown",
   "id": "350a225b",
   "metadata": {},
   "source": [
    "<span style=\"color:blue\">****Project Description****"
   ]
  },
  {
   "cell_type": "markdown",
   "id": "aaec67d9",
   "metadata": {},
   "source": [
    "The dataset is related to red and white variants of the Portuguese \"Vinho Verde\" wine.          \n",
    "Due to privacy and logistic issues, only physicochemical (inputs) and sensory (the output) variables           \n",
    "are available (e.g. there is no data about grape types, wine brand, wine selling price, etc.).              \n",
    "This dataset can be viewed as classification task.                  \n",
    "The classes are ordered and not balanced (e.g. there are many more normal wines than excellent or poor ones).           \n",
    "Also, we are not sure if all input variables are relevant. So it could be interesting to test feature selection methods.    "
   ]
  },
  {
   "cell_type": "markdown",
   "id": "56a43875",
   "metadata": {},
   "source": [
    "<span style=\"color:blue\">****Attribute Information****"
   ]
  },
  {
   "cell_type": "markdown",
   "id": "da157dd2",
   "metadata": {},
   "source": [
    "Input variables (based on physicochemical tests):               \n",
    "1 - fixed acidity                   \n",
    "2 - volatile acidity                        \n",
    "3 - citric acid                     \n",
    "4 - residual sugar                  \n",
    "5 - chlorides             \n",
    "6 - free sulfur dioxide            \n",
    "7 - total sulfur dioxide             \n",
    "8 - density                 \n",
    "9 - pH                  \n",
    "10 - sulphates             \n",
    "11 - alcohol                             \n",
    "Output variable (based on sensory data):                 \n",
    "12 - quality (score between 0 and 10)                         \n",
    "What might be an interesting thing to do, is to set an arbitrary cutoff for your dependent variable (wine quality) at e.g. 7 or higher getting classified as 'good/1' and the remainder as 'not good/0'.\n",
    "This allows you to practice with hyper parameter tuning on e.g. decision tree algorithms looking at the ROC curve and the AUC value.\n",
    "                       \n",
    "You need to build a classification model. \n"
   ]
  },
  {
   "cell_type": "markdown",
   "id": "161c8a97",
   "metadata": {},
   "source": [
    "<span style=\"color:blue\">****Inspiration****\n"
   ]
  },
  {
   "cell_type": "markdown",
   "id": "2202cc8a",
   "metadata": {},
   "source": [
    "Use machine learning to determine which physiochemical properties make a wine 'good'!\n"
   ]
  },
  {
   "cell_type": "markdown",
   "id": "9f416fe9",
   "metadata": {},
   "source": [
    "# Python Implementation-"
   ]
  },
  {
   "cell_type": "markdown",
   "id": "b276ccd7",
   "metadata": {},
   "source": [
    "# <span style=\"color:red\">****Importing Necessary Libraries****"
   ]
  },
  {
   "cell_type": "code",
   "execution_count": 222,
   "id": "b0dbe8fb",
   "metadata": {},
   "outputs": [],
   "source": [
    "import pandas as pd\n",
    "import numpy as np\n",
    "import seaborn as sns\n",
    "import matplotlib.pyplot as plt\n",
    "import warnings\n",
    "warnings.filterwarnings('ignore')"
   ]
  },
  {
   "cell_type": "code",
   "execution_count": 223,
   "id": "a1568b95",
   "metadata": {},
   "outputs": [
    {
     "data": {
      "text/html": [
       "<div>\n",
       "<style scoped>\n",
       "    .dataframe tbody tr th:only-of-type {\n",
       "        vertical-align: middle;\n",
       "    }\n",
       "\n",
       "    .dataframe tbody tr th {\n",
       "        vertical-align: top;\n",
       "    }\n",
       "\n",
       "    .dataframe thead th {\n",
       "        text-align: right;\n",
       "    }\n",
       "</style>\n",
       "<table border=\"1\" class=\"dataframe\">\n",
       "  <thead>\n",
       "    <tr style=\"text-align: right;\">\n",
       "      <th></th>\n",
       "      <th>fixed acidity</th>\n",
       "      <th>volatile acidity</th>\n",
       "      <th>citric acid</th>\n",
       "      <th>residual sugar</th>\n",
       "      <th>chlorides</th>\n",
       "      <th>free sulfur dioxide</th>\n",
       "      <th>total sulfur dioxide</th>\n",
       "      <th>density</th>\n",
       "      <th>pH</th>\n",
       "      <th>sulphates</th>\n",
       "      <th>alcohol</th>\n",
       "      <th>quality</th>\n",
       "    </tr>\n",
       "  </thead>\n",
       "  <tbody>\n",
       "    <tr>\n",
       "      <th>0</th>\n",
       "      <td>7.4</td>\n",
       "      <td>0.700</td>\n",
       "      <td>0.00</td>\n",
       "      <td>1.9</td>\n",
       "      <td>0.076</td>\n",
       "      <td>11.0</td>\n",
       "      <td>34.0</td>\n",
       "      <td>0.99780</td>\n",
       "      <td>3.51</td>\n",
       "      <td>0.56</td>\n",
       "      <td>9.4</td>\n",
       "      <td>5</td>\n",
       "    </tr>\n",
       "    <tr>\n",
       "      <th>1</th>\n",
       "      <td>7.8</td>\n",
       "      <td>0.880</td>\n",
       "      <td>0.00</td>\n",
       "      <td>2.6</td>\n",
       "      <td>0.098</td>\n",
       "      <td>25.0</td>\n",
       "      <td>67.0</td>\n",
       "      <td>0.99680</td>\n",
       "      <td>3.20</td>\n",
       "      <td>0.68</td>\n",
       "      <td>9.8</td>\n",
       "      <td>5</td>\n",
       "    </tr>\n",
       "    <tr>\n",
       "      <th>2</th>\n",
       "      <td>7.8</td>\n",
       "      <td>0.760</td>\n",
       "      <td>0.04</td>\n",
       "      <td>2.3</td>\n",
       "      <td>0.092</td>\n",
       "      <td>15.0</td>\n",
       "      <td>54.0</td>\n",
       "      <td>0.99700</td>\n",
       "      <td>3.26</td>\n",
       "      <td>0.65</td>\n",
       "      <td>9.8</td>\n",
       "      <td>5</td>\n",
       "    </tr>\n",
       "    <tr>\n",
       "      <th>3</th>\n",
       "      <td>11.2</td>\n",
       "      <td>0.280</td>\n",
       "      <td>0.56</td>\n",
       "      <td>1.9</td>\n",
       "      <td>0.075</td>\n",
       "      <td>17.0</td>\n",
       "      <td>60.0</td>\n",
       "      <td>0.99800</td>\n",
       "      <td>3.16</td>\n",
       "      <td>0.58</td>\n",
       "      <td>9.8</td>\n",
       "      <td>6</td>\n",
       "    </tr>\n",
       "    <tr>\n",
       "      <th>4</th>\n",
       "      <td>7.4</td>\n",
       "      <td>0.700</td>\n",
       "      <td>0.00</td>\n",
       "      <td>1.9</td>\n",
       "      <td>0.076</td>\n",
       "      <td>11.0</td>\n",
       "      <td>34.0</td>\n",
       "      <td>0.99780</td>\n",
       "      <td>3.51</td>\n",
       "      <td>0.56</td>\n",
       "      <td>9.4</td>\n",
       "      <td>5</td>\n",
       "    </tr>\n",
       "    <tr>\n",
       "      <th>...</th>\n",
       "      <td>...</td>\n",
       "      <td>...</td>\n",
       "      <td>...</td>\n",
       "      <td>...</td>\n",
       "      <td>...</td>\n",
       "      <td>...</td>\n",
       "      <td>...</td>\n",
       "      <td>...</td>\n",
       "      <td>...</td>\n",
       "      <td>...</td>\n",
       "      <td>...</td>\n",
       "      <td>...</td>\n",
       "    </tr>\n",
       "    <tr>\n",
       "      <th>1594</th>\n",
       "      <td>6.2</td>\n",
       "      <td>0.600</td>\n",
       "      <td>0.08</td>\n",
       "      <td>2.0</td>\n",
       "      <td>0.090</td>\n",
       "      <td>32.0</td>\n",
       "      <td>44.0</td>\n",
       "      <td>0.99490</td>\n",
       "      <td>3.45</td>\n",
       "      <td>0.58</td>\n",
       "      <td>10.5</td>\n",
       "      <td>5</td>\n",
       "    </tr>\n",
       "    <tr>\n",
       "      <th>1595</th>\n",
       "      <td>5.9</td>\n",
       "      <td>0.550</td>\n",
       "      <td>0.10</td>\n",
       "      <td>2.2</td>\n",
       "      <td>0.062</td>\n",
       "      <td>39.0</td>\n",
       "      <td>51.0</td>\n",
       "      <td>0.99512</td>\n",
       "      <td>3.52</td>\n",
       "      <td>0.76</td>\n",
       "      <td>11.2</td>\n",
       "      <td>6</td>\n",
       "    </tr>\n",
       "    <tr>\n",
       "      <th>1596</th>\n",
       "      <td>6.3</td>\n",
       "      <td>0.510</td>\n",
       "      <td>0.13</td>\n",
       "      <td>2.3</td>\n",
       "      <td>0.076</td>\n",
       "      <td>29.0</td>\n",
       "      <td>40.0</td>\n",
       "      <td>0.99574</td>\n",
       "      <td>3.42</td>\n",
       "      <td>0.75</td>\n",
       "      <td>11.0</td>\n",
       "      <td>6</td>\n",
       "    </tr>\n",
       "    <tr>\n",
       "      <th>1597</th>\n",
       "      <td>5.9</td>\n",
       "      <td>0.645</td>\n",
       "      <td>0.12</td>\n",
       "      <td>2.0</td>\n",
       "      <td>0.075</td>\n",
       "      <td>32.0</td>\n",
       "      <td>44.0</td>\n",
       "      <td>0.99547</td>\n",
       "      <td>3.57</td>\n",
       "      <td>0.71</td>\n",
       "      <td>10.2</td>\n",
       "      <td>5</td>\n",
       "    </tr>\n",
       "    <tr>\n",
       "      <th>1598</th>\n",
       "      <td>6.0</td>\n",
       "      <td>0.310</td>\n",
       "      <td>0.47</td>\n",
       "      <td>3.6</td>\n",
       "      <td>0.067</td>\n",
       "      <td>18.0</td>\n",
       "      <td>42.0</td>\n",
       "      <td>0.99549</td>\n",
       "      <td>3.39</td>\n",
       "      <td>0.66</td>\n",
       "      <td>11.0</td>\n",
       "      <td>6</td>\n",
       "    </tr>\n",
       "  </tbody>\n",
       "</table>\n",
       "<p>1599 rows × 12 columns</p>\n",
       "</div>"
      ],
      "text/plain": [
       "      fixed acidity  volatile acidity  citric acid  residual sugar  chlorides  \\\n",
       "0               7.4             0.700         0.00             1.9      0.076   \n",
       "1               7.8             0.880         0.00             2.6      0.098   \n",
       "2               7.8             0.760         0.04             2.3      0.092   \n",
       "3              11.2             0.280         0.56             1.9      0.075   \n",
       "4               7.4             0.700         0.00             1.9      0.076   \n",
       "...             ...               ...          ...             ...        ...   \n",
       "1594            6.2             0.600         0.08             2.0      0.090   \n",
       "1595            5.9             0.550         0.10             2.2      0.062   \n",
       "1596            6.3             0.510         0.13             2.3      0.076   \n",
       "1597            5.9             0.645         0.12             2.0      0.075   \n",
       "1598            6.0             0.310         0.47             3.6      0.067   \n",
       "\n",
       "      free sulfur dioxide  total sulfur dioxide  density    pH  sulphates  \\\n",
       "0                    11.0                  34.0  0.99780  3.51       0.56   \n",
       "1                    25.0                  67.0  0.99680  3.20       0.68   \n",
       "2                    15.0                  54.0  0.99700  3.26       0.65   \n",
       "3                    17.0                  60.0  0.99800  3.16       0.58   \n",
       "4                    11.0                  34.0  0.99780  3.51       0.56   \n",
       "...                   ...                   ...      ...   ...        ...   \n",
       "1594                 32.0                  44.0  0.99490  3.45       0.58   \n",
       "1595                 39.0                  51.0  0.99512  3.52       0.76   \n",
       "1596                 29.0                  40.0  0.99574  3.42       0.75   \n",
       "1597                 32.0                  44.0  0.99547  3.57       0.71   \n",
       "1598                 18.0                  42.0  0.99549  3.39       0.66   \n",
       "\n",
       "      alcohol  quality  \n",
       "0         9.4        5  \n",
       "1         9.8        5  \n",
       "2         9.8        5  \n",
       "3         9.8        6  \n",
       "4         9.4        5  \n",
       "...       ...      ...  \n",
       "1594     10.5        5  \n",
       "1595     11.2        6  \n",
       "1596     11.0        6  \n",
       "1597     10.2        5  \n",
       "1598     11.0        6  \n",
       "\n",
       "[1599 rows x 12 columns]"
      ]
     },
     "execution_count": 223,
     "metadata": {},
     "output_type": "execute_result"
    }
   ],
   "source": [
    "#Importing Dataset\n",
    "df=pd.read_csv('https://raw.githubusercontent.com/dsrscientist/DSData/master/winequality-red.csv')\n",
    "df"
   ]
  },
  {
   "cell_type": "code",
   "execution_count": 224,
   "id": "b8ee6e01",
   "metadata": {},
   "outputs": [
    {
     "data": {
      "text/html": [
       "<div>\n",
       "<style scoped>\n",
       "    .dataframe tbody tr th:only-of-type {\n",
       "        vertical-align: middle;\n",
       "    }\n",
       "\n",
       "    .dataframe tbody tr th {\n",
       "        vertical-align: top;\n",
       "    }\n",
       "\n",
       "    .dataframe thead th {\n",
       "        text-align: right;\n",
       "    }\n",
       "</style>\n",
       "<table border=\"1\" class=\"dataframe\">\n",
       "  <thead>\n",
       "    <tr style=\"text-align: right;\">\n",
       "      <th></th>\n",
       "      <th>fixed acidity</th>\n",
       "      <th>volatile acidity</th>\n",
       "      <th>citric acid</th>\n",
       "      <th>residual sugar</th>\n",
       "      <th>chlorides</th>\n",
       "      <th>free sulfur dioxide</th>\n",
       "      <th>total sulfur dioxide</th>\n",
       "      <th>density</th>\n",
       "      <th>pH</th>\n",
       "      <th>sulphates</th>\n",
       "      <th>alcohol</th>\n",
       "      <th>quality</th>\n",
       "    </tr>\n",
       "  </thead>\n",
       "  <tbody>\n",
       "    <tr>\n",
       "      <th>1594</th>\n",
       "      <td>6.2</td>\n",
       "      <td>0.600</td>\n",
       "      <td>0.08</td>\n",
       "      <td>2.0</td>\n",
       "      <td>0.090</td>\n",
       "      <td>32.0</td>\n",
       "      <td>44.0</td>\n",
       "      <td>0.99490</td>\n",
       "      <td>3.45</td>\n",
       "      <td>0.58</td>\n",
       "      <td>10.5</td>\n",
       "      <td>5</td>\n",
       "    </tr>\n",
       "    <tr>\n",
       "      <th>1595</th>\n",
       "      <td>5.9</td>\n",
       "      <td>0.550</td>\n",
       "      <td>0.10</td>\n",
       "      <td>2.2</td>\n",
       "      <td>0.062</td>\n",
       "      <td>39.0</td>\n",
       "      <td>51.0</td>\n",
       "      <td>0.99512</td>\n",
       "      <td>3.52</td>\n",
       "      <td>0.76</td>\n",
       "      <td>11.2</td>\n",
       "      <td>6</td>\n",
       "    </tr>\n",
       "    <tr>\n",
       "      <th>1596</th>\n",
       "      <td>6.3</td>\n",
       "      <td>0.510</td>\n",
       "      <td>0.13</td>\n",
       "      <td>2.3</td>\n",
       "      <td>0.076</td>\n",
       "      <td>29.0</td>\n",
       "      <td>40.0</td>\n",
       "      <td>0.99574</td>\n",
       "      <td>3.42</td>\n",
       "      <td>0.75</td>\n",
       "      <td>11.0</td>\n",
       "      <td>6</td>\n",
       "    </tr>\n",
       "    <tr>\n",
       "      <th>1597</th>\n",
       "      <td>5.9</td>\n",
       "      <td>0.645</td>\n",
       "      <td>0.12</td>\n",
       "      <td>2.0</td>\n",
       "      <td>0.075</td>\n",
       "      <td>32.0</td>\n",
       "      <td>44.0</td>\n",
       "      <td>0.99547</td>\n",
       "      <td>3.57</td>\n",
       "      <td>0.71</td>\n",
       "      <td>10.2</td>\n",
       "      <td>5</td>\n",
       "    </tr>\n",
       "    <tr>\n",
       "      <th>1598</th>\n",
       "      <td>6.0</td>\n",
       "      <td>0.310</td>\n",
       "      <td>0.47</td>\n",
       "      <td>3.6</td>\n",
       "      <td>0.067</td>\n",
       "      <td>18.0</td>\n",
       "      <td>42.0</td>\n",
       "      <td>0.99549</td>\n",
       "      <td>3.39</td>\n",
       "      <td>0.66</td>\n",
       "      <td>11.0</td>\n",
       "      <td>6</td>\n",
       "    </tr>\n",
       "  </tbody>\n",
       "</table>\n",
       "</div>"
      ],
      "text/plain": [
       "      fixed acidity  volatile acidity  citric acid  residual sugar  chlorides  \\\n",
       "1594            6.2             0.600         0.08             2.0      0.090   \n",
       "1595            5.9             0.550         0.10             2.2      0.062   \n",
       "1596            6.3             0.510         0.13             2.3      0.076   \n",
       "1597            5.9             0.645         0.12             2.0      0.075   \n",
       "1598            6.0             0.310         0.47             3.6      0.067   \n",
       "\n",
       "      free sulfur dioxide  total sulfur dioxide  density    pH  sulphates  \\\n",
       "1594                 32.0                  44.0  0.99490  3.45       0.58   \n",
       "1595                 39.0                  51.0  0.99512  3.52       0.76   \n",
       "1596                 29.0                  40.0  0.99574  3.42       0.75   \n",
       "1597                 32.0                  44.0  0.99547  3.57       0.71   \n",
       "1598                 18.0                  42.0  0.99549  3.39       0.66   \n",
       "\n",
       "      alcohol  quality  \n",
       "1594     10.5        5  \n",
       "1595     11.2        6  \n",
       "1596     11.0        6  \n",
       "1597     10.2        5  \n",
       "1598     11.0        6  "
      ]
     },
     "execution_count": 224,
     "metadata": {},
     "output_type": "execute_result"
    }
   ],
   "source": [
    "#getting last five record\n",
    "df.tail()"
   ]
  },
  {
   "cell_type": "code",
   "execution_count": 225,
   "id": "aefda45a",
   "metadata": {},
   "outputs": [
    {
     "name": "stdout",
     "output_type": "stream",
     "text": [
      "The rows and columns in the dataset:(1599, 12)\n",
      "\n",
      " The columns in the dataset:Index(['fixed acidity', 'volatile acidity', 'citric acid', 'residual sugar',\n",
      "       'chlorides', 'free sulfur dioxide', 'total sulfur dioxide', 'density',\n",
      "       'pH', 'sulphates', 'alcohol', 'quality'],\n",
      "      dtype='object')\n"
     ]
    }
   ],
   "source": [
    "print(f'The rows and columns in the dataset:{df.shape}')\n",
    "print(f'\\n The columns in the dataset:{df.columns}')"
   ]
  },
  {
   "cell_type": "code",
   "execution_count": 226,
   "id": "00d072ef",
   "metadata": {
    "scrolled": true
   },
   "outputs": [
    {
     "data": {
      "text/plain": [
       "fixed acidity           float64\n",
       "volatile acidity        float64\n",
       "citric acid             float64\n",
       "residual sugar          float64\n",
       "chlorides               float64\n",
       "free sulfur dioxide     float64\n",
       "total sulfur dioxide    float64\n",
       "density                 float64\n",
       "pH                      float64\n",
       "sulphates               float64\n",
       "alcohol                 float64\n",
       "quality                   int64\n",
       "dtype: object"
      ]
     },
     "execution_count": 226,
     "metadata": {},
     "output_type": "execute_result"
    }
   ],
   "source": [
    "#chceking the data-types of columns\n",
    "df.dtypes"
   ]
  },
  {
   "cell_type": "markdown",
   "id": "99451f22",
   "metadata": {},
   "source": [
    "<span style=\"color:BLUE\">Observation -There are two data types of present in  dataset:(float64,int64)"
   ]
  },
  {
   "cell_type": "markdown",
   "id": "b1988a10",
   "metadata": {},
   "source": [
    "# <span style=\"color:red\">****Checking the null values****"
   ]
  },
  {
   "cell_type": "code",
   "execution_count": 227,
   "id": "cc7099d2",
   "metadata": {},
   "outputs": [
    {
     "data": {
      "text/plain": [
       "fixed acidity           0\n",
       "volatile acidity        0\n",
       "citric acid             0\n",
       "residual sugar          0\n",
       "chlorides               0\n",
       "free sulfur dioxide     0\n",
       "total sulfur dioxide    0\n",
       "density                 0\n",
       "pH                      0\n",
       "sulphates               0\n",
       "alcohol                 0\n",
       "quality                 0\n",
       "dtype: int64"
      ]
     },
     "execution_count": 227,
     "metadata": {},
     "output_type": "execute_result"
    }
   ],
   "source": [
    "#checking the null values in each column\n",
    "df.isnull().sum()"
   ]
  },
  {
   "cell_type": "code",
   "execution_count": 228,
   "id": "9a8b54e6",
   "metadata": {},
   "outputs": [
    {
     "data": {
      "text/plain": [
       "<AxesSubplot:>"
      ]
     },
     "execution_count": 228,
     "metadata": {},
     "output_type": "execute_result"
    },
    {
     "data": {
      "image/png": "[encoded data removed]",
      "text/plain": [
       "<Figure size 432x288 with 2 Axes>"
      ]
     },
     "metadata": {
      "needs_background": "light"
     },
     "output_type": "display_data"
    }
   ],
   "source": [
    "#Lets Visualise Null Values using Heatmap\n",
    "sns.heatmap(df.isnull())"
   ]
  },
  {
   "cell_type": "markdown",
   "id": "6b4becba",
   "metadata": {},
   "source": [
    "<span style=\"color:blue\">Observation - No null values are present in any column."
   ]
  },
  {
   "cell_type": "code",
   "execution_count": 229,
   "id": "35438254",
   "metadata": {},
   "outputs": [
    {
     "name": "stdout",
     "output_type": "stream",
     "text": [
      "<class 'pandas.core.frame.DataFrame'>\n",
      "RangeIndex: 1599 entries, 0 to 1598\n",
      "Data columns (total 12 columns):\n",
      " #   Column                Non-Null Count  Dtype  \n",
      "---  ------                --------------  -----  \n",
      " 0   fixed acidity         1599 non-null   float64\n",
      " 1   volatile acidity      1599 non-null   float64\n",
      " 2   citric acid           1599 non-null   float64\n",
      " 3   residual sugar        1599 non-null   float64\n",
      " 4   chlorides             1599 non-null   float64\n",
      " 5   free sulfur dioxide   1599 non-null   float64\n",
      " 6   total sulfur dioxide  1599 non-null   float64\n",
      " 7   density               1599 non-null   float64\n",
      " 8   pH                    1599 non-null   float64\n",
      " 9   sulphates             1599 non-null   float64\n",
      " 10  alcohol               1599 non-null   float64\n",
      " 11  quality               1599 non-null   int64  \n",
      "dtypes: float64(11), int64(1)\n",
      "memory usage: 150.0 KB\n"
     ]
    }
   ],
   "source": [
    "# getting all information of dataset \n",
    "df.info()"
   ]
  },
  {
   "cell_type": "markdown",
   "id": "b02a4572",
   "metadata": {},
   "source": [
    "# <span style=\"color:red\">Checking Duplicate values"
   ]
  },
  {
   "cell_type": "code",
   "execution_count": 230,
   "id": "77e809fa",
   "metadata": {},
   "outputs": [
    {
     "name": "stdout",
     "output_type": "stream",
     "text": [
      "Total Dublicate rows are: 240\n"
     ]
    }
   ],
   "source": [
    "#Checking Duplicate values in DataFrame\n",
    "print(\"Total Dublicate rows are:\",df.duplicated().sum())"
   ]
  },
  {
   "cell_type": "code",
   "execution_count": 231,
   "id": "7d7c9f1c",
   "metadata": {},
   "outputs": [],
   "source": [
    "#showing dublicate values\n",
    "duplicate=df[df.duplicated(keep=False)]"
   ]
  },
  {
   "cell_type": "code",
   "execution_count": 232,
   "id": "ed78ef0c",
   "metadata": {},
   "outputs": [],
   "source": [
    "#removing dublicate values\n",
    "df.drop_duplicates(inplace=True)\n",
    "#reset the index after removing dublicate values\n",
    "df.reset_index(drop=True , inplace=True)"
   ]
  },
  {
   "cell_type": "code",
   "execution_count": 233,
   "id": "34e7de5a",
   "metadata": {},
   "outputs": [
    {
     "data": {
      "text/html": [
       "<div>\n",
       "<style scoped>\n",
       "    .dataframe tbody tr th:only-of-type {\n",
       "        vertical-align: middle;\n",
       "    }\n",
       "\n",
       "    .dataframe tbody tr th {\n",
       "        vertical-align: top;\n",
       "    }\n",
       "\n",
       "    .dataframe thead th {\n",
       "        text-align: right;\n",
       "    }\n",
       "</style>\n",
       "<table border=\"1\" class=\"dataframe\">\n",
       "  <thead>\n",
       "    <tr style=\"text-align: right;\">\n",
       "      <th></th>\n",
       "      <th>fixed acidity</th>\n",
       "      <th>volatile acidity</th>\n",
       "      <th>citric acid</th>\n",
       "      <th>residual sugar</th>\n",
       "      <th>chlorides</th>\n",
       "      <th>free sulfur dioxide</th>\n",
       "      <th>total sulfur dioxide</th>\n",
       "      <th>density</th>\n",
       "      <th>pH</th>\n",
       "      <th>sulphates</th>\n",
       "      <th>alcohol</th>\n",
       "      <th>quality</th>\n",
       "    </tr>\n",
       "  </thead>\n",
       "  <tbody>\n",
       "    <tr>\n",
       "      <th>0</th>\n",
       "      <td>7.4</td>\n",
       "      <td>0.700</td>\n",
       "      <td>0.00</td>\n",
       "      <td>1.9</td>\n",
       "      <td>0.076</td>\n",
       "      <td>11.0</td>\n",
       "      <td>34.0</td>\n",
       "      <td>0.99780</td>\n",
       "      <td>3.51</td>\n",
       "      <td>0.56</td>\n",
       "      <td>9.4</td>\n",
       "      <td>5</td>\n",
       "    </tr>\n",
       "    <tr>\n",
       "      <th>1</th>\n",
       "      <td>7.8</td>\n",
       "      <td>0.880</td>\n",
       "      <td>0.00</td>\n",
       "      <td>2.6</td>\n",
       "      <td>0.098</td>\n",
       "      <td>25.0</td>\n",
       "      <td>67.0</td>\n",
       "      <td>0.99680</td>\n",
       "      <td>3.20</td>\n",
       "      <td>0.68</td>\n",
       "      <td>9.8</td>\n",
       "      <td>5</td>\n",
       "    </tr>\n",
       "    <tr>\n",
       "      <th>2</th>\n",
       "      <td>7.8</td>\n",
       "      <td>0.760</td>\n",
       "      <td>0.04</td>\n",
       "      <td>2.3</td>\n",
       "      <td>0.092</td>\n",
       "      <td>15.0</td>\n",
       "      <td>54.0</td>\n",
       "      <td>0.99700</td>\n",
       "      <td>3.26</td>\n",
       "      <td>0.65</td>\n",
       "      <td>9.8</td>\n",
       "      <td>5</td>\n",
       "    </tr>\n",
       "    <tr>\n",
       "      <th>3</th>\n",
       "      <td>11.2</td>\n",
       "      <td>0.280</td>\n",
       "      <td>0.56</td>\n",
       "      <td>1.9</td>\n",
       "      <td>0.075</td>\n",
       "      <td>17.0</td>\n",
       "      <td>60.0</td>\n",
       "      <td>0.99800</td>\n",
       "      <td>3.16</td>\n",
       "      <td>0.58</td>\n",
       "      <td>9.8</td>\n",
       "      <td>6</td>\n",
       "    </tr>\n",
       "    <tr>\n",
       "      <th>4</th>\n",
       "      <td>7.4</td>\n",
       "      <td>0.660</td>\n",
       "      <td>0.00</td>\n",
       "      <td>1.8</td>\n",
       "      <td>0.075</td>\n",
       "      <td>13.0</td>\n",
       "      <td>40.0</td>\n",
       "      <td>0.99780</td>\n",
       "      <td>3.51</td>\n",
       "      <td>0.56</td>\n",
       "      <td>9.4</td>\n",
       "      <td>5</td>\n",
       "    </tr>\n",
       "    <tr>\n",
       "      <th>...</th>\n",
       "      <td>...</td>\n",
       "      <td>...</td>\n",
       "      <td>...</td>\n",
       "      <td>...</td>\n",
       "      <td>...</td>\n",
       "      <td>...</td>\n",
       "      <td>...</td>\n",
       "      <td>...</td>\n",
       "      <td>...</td>\n",
       "      <td>...</td>\n",
       "      <td>...</td>\n",
       "      <td>...</td>\n",
       "    </tr>\n",
       "    <tr>\n",
       "      <th>1354</th>\n",
       "      <td>6.8</td>\n",
       "      <td>0.620</td>\n",
       "      <td>0.08</td>\n",
       "      <td>1.9</td>\n",
       "      <td>0.068</td>\n",
       "      <td>28.0</td>\n",
       "      <td>38.0</td>\n",
       "      <td>0.99651</td>\n",
       "      <td>3.42</td>\n",
       "      <td>0.82</td>\n",
       "      <td>9.5</td>\n",
       "      <td>6</td>\n",
       "    </tr>\n",
       "    <tr>\n",
       "      <th>1355</th>\n",
       "      <td>6.2</td>\n",
       "      <td>0.600</td>\n",
       "      <td>0.08</td>\n",
       "      <td>2.0</td>\n",
       "      <td>0.090</td>\n",
       "      <td>32.0</td>\n",
       "      <td>44.0</td>\n",
       "      <td>0.99490</td>\n",
       "      <td>3.45</td>\n",
       "      <td>0.58</td>\n",
       "      <td>10.5</td>\n",
       "      <td>5</td>\n",
       "    </tr>\n",
       "    <tr>\n",
       "      <th>1356</th>\n",
       "      <td>5.9</td>\n",
       "      <td>0.550</td>\n",
       "      <td>0.10</td>\n",
       "      <td>2.2</td>\n",
       "      <td>0.062</td>\n",
       "      <td>39.0</td>\n",
       "      <td>51.0</td>\n",
       "      <td>0.99512</td>\n",
       "      <td>3.52</td>\n",
       "      <td>0.76</td>\n",
       "      <td>11.2</td>\n",
       "      <td>6</td>\n",
       "    </tr>\n",
       "    <tr>\n",
       "      <th>1357</th>\n",
       "      <td>5.9</td>\n",
       "      <td>0.645</td>\n",
       "      <td>0.12</td>\n",
       "      <td>2.0</td>\n",
       "      <td>0.075</td>\n",
       "      <td>32.0</td>\n",
       "      <td>44.0</td>\n",
       "      <td>0.99547</td>\n",
       "      <td>3.57</td>\n",
       "      <td>0.71</td>\n",
       "      <td>10.2</td>\n",
       "      <td>5</td>\n",
       "    </tr>\n",
       "    <tr>\n",
       "      <th>1358</th>\n",
       "      <td>6.0</td>\n",
       "      <td>0.310</td>\n",
       "      <td>0.47</td>\n",
       "      <td>3.6</td>\n",
       "      <td>0.067</td>\n",
       "      <td>18.0</td>\n",
       "      <td>42.0</td>\n",
       "      <td>0.99549</td>\n",
       "      <td>3.39</td>\n",
       "      <td>0.66</td>\n",
       "      <td>11.0</td>\n",
       "      <td>6</td>\n",
       "    </tr>\n",
       "  </tbody>\n",
       "</table>\n",
       "<p>1359 rows × 12 columns</p>\n",
       "</div>"
      ],
      "text/plain": [
       "      fixed acidity  volatile acidity  citric acid  residual sugar  chlorides  \\\n",
       "0               7.4             0.700         0.00             1.9      0.076   \n",
       "1               7.8             0.880         0.00             2.6      0.098   \n",
       "2               7.8             0.760         0.04             2.3      0.092   \n",
       "3              11.2             0.280         0.56             1.9      0.075   \n",
       "4               7.4             0.660         0.00             1.8      0.075   \n",
       "...             ...               ...          ...             ...        ...   \n",
       "1354            6.8             0.620         0.08             1.9      0.068   \n",
       "1355            6.2             0.600         0.08             2.0      0.090   \n",
       "1356            5.9             0.550         0.10             2.2      0.062   \n",
       "1357            5.9             0.645         0.12             2.0      0.075   \n",
       "1358            6.0             0.310         0.47             3.6      0.067   \n",
       "\n",
       "      free sulfur dioxide  total sulfur dioxide  density    pH  sulphates  \\\n",
       "0                    11.0                  34.0  0.99780  3.51       0.56   \n",
       "1                    25.0                  67.0  0.99680  3.20       0.68   \n",
       "2                    15.0                  54.0  0.99700  3.26       0.65   \n",
       "3                    17.0                  60.0  0.99800  3.16       0.58   \n",
       "4                    13.0                  40.0  0.99780  3.51       0.56   \n",
       "...                   ...                   ...      ...   ...        ...   \n",
       "1354                 28.0                  38.0  0.99651  3.42       0.82   \n",
       "1355                 32.0                  44.0  0.99490  3.45       0.58   \n",
       "1356                 39.0                  51.0  0.99512  3.52       0.76   \n",
       "1357                 32.0                  44.0  0.99547  3.57       0.71   \n",
       "1358                 18.0                  42.0  0.99549  3.39       0.66   \n",
       "\n",
       "      alcohol  quality  \n",
       "0         9.4        5  \n",
       "1         9.8        5  \n",
       "2         9.8        5  \n",
       "3         9.8        6  \n",
       "4         9.4        5  \n",
       "...       ...      ...  \n",
       "1354      9.5        6  \n",
       "1355     10.5        5  \n",
       "1356     11.2        6  \n",
       "1357     10.2        5  \n",
       "1358     11.0        6  \n",
       "\n",
       "[1359 rows x 12 columns]"
      ]
     },
     "execution_count": 233,
     "metadata": {},
     "output_type": "execute_result"
    }
   ],
   "source": [
    "#printing dataframe again\n",
    "df"
   ]
  },
  {
   "cell_type": "markdown",
   "id": "42641ffe",
   "metadata": {},
   "source": [
    "Previously the rows in the dataset:(1599) after removing duplicate rows 1359 rows are left.\n"
   ]
  },
  {
   "cell_type": "code",
   "execution_count": 234,
   "id": "ed2d3f8d",
   "metadata": {},
   "outputs": [
    {
     "data": {
      "text/html": [
       "<div>\n",
       "<style scoped>\n",
       "    .dataframe tbody tr th:only-of-type {\n",
       "        vertical-align: middle;\n",
       "    }\n",
       "\n",
       "    .dataframe tbody tr th {\n",
       "        vertical-align: top;\n",
       "    }\n",
       "\n",
       "    .dataframe thead th {\n",
       "        text-align: right;\n",
       "    }\n",
       "</style>\n",
       "<table border=\"1\" class=\"dataframe\">\n",
       "  <thead>\n",
       "    <tr style=\"text-align: right;\">\n",
       "      <th></th>\n",
       "      <th>No of unique values</th>\n",
       "    </tr>\n",
       "  </thead>\n",
       "  <tbody>\n",
       "    <tr>\n",
       "      <th>fixed acidity</th>\n",
       "      <td>96</td>\n",
       "    </tr>\n",
       "    <tr>\n",
       "      <th>volatile acidity</th>\n",
       "      <td>143</td>\n",
       "    </tr>\n",
       "    <tr>\n",
       "      <th>citric acid</th>\n",
       "      <td>80</td>\n",
       "    </tr>\n",
       "    <tr>\n",
       "      <th>residual sugar</th>\n",
       "      <td>91</td>\n",
       "    </tr>\n",
       "    <tr>\n",
       "      <th>chlorides</th>\n",
       "      <td>153</td>\n",
       "    </tr>\n",
       "    <tr>\n",
       "      <th>free sulfur dioxide</th>\n",
       "      <td>60</td>\n",
       "    </tr>\n",
       "    <tr>\n",
       "      <th>total sulfur dioxide</th>\n",
       "      <td>144</td>\n",
       "    </tr>\n",
       "    <tr>\n",
       "      <th>density</th>\n",
       "      <td>436</td>\n",
       "    </tr>\n",
       "    <tr>\n",
       "      <th>pH</th>\n",
       "      <td>89</td>\n",
       "    </tr>\n",
       "    <tr>\n",
       "      <th>sulphates</th>\n",
       "      <td>96</td>\n",
       "    </tr>\n",
       "    <tr>\n",
       "      <th>alcohol</th>\n",
       "      <td>65</td>\n",
       "    </tr>\n",
       "    <tr>\n",
       "      <th>quality</th>\n",
       "      <td>6</td>\n",
       "    </tr>\n",
       "  </tbody>\n",
       "</table>\n",
       "</div>"
      ],
      "text/plain": [
       "                      No of unique values\n",
       "fixed acidity                          96\n",
       "volatile acidity                      143\n",
       "citric acid                            80\n",
       "residual sugar                         91\n",
       "chlorides                             153\n",
       "free sulfur dioxide                    60\n",
       "total sulfur dioxide                  144\n",
       "density                               436\n",
       "pH                                     89\n",
       "sulphates                              96\n",
       "alcohol                                65\n",
       "quality                                 6"
      ]
     },
     "execution_count": 234,
     "metadata": {},
     "output_type": "execute_result"
    }
   ],
   "source": [
    "#checking number of unique values in each column \n",
    "df.nunique().to_frame(\"No of unique values\")"
   ]
  },
  {
   "cell_type": "code",
   "execution_count": 235,
   "id": "8e4b517c",
   "metadata": {},
   "outputs": [
    {
     "name": "stdout",
     "output_type": "stream",
     "text": [
      "7.2     49\n",
      "7.8     48\n",
      "7.1     46\n",
      "7.0     44\n",
      "7.5     42\n",
      "        ..\n",
      "13.8     1\n",
      "13.4     1\n",
      "4.7      1\n",
      "15.0     1\n",
      "5.5      1\n",
      "Name: fixed acidity, Length: 96, dtype: int64\n",
      "\n",
      "\n",
      "0.500    37\n",
      "0.580    36\n",
      "0.400    35\n",
      "0.600    34\n",
      "0.430    33\n",
      "         ..\n",
      "1.185     1\n",
      "1.240     1\n",
      "0.845     1\n",
      "0.365     1\n",
      "1.090     1\n",
      "Name: volatile acidity, Length: 143, dtype: int64\n",
      "\n",
      "\n",
      "0.00    118\n",
      "0.49     59\n",
      "0.24     41\n",
      "0.02     38\n",
      "0.08     32\n",
      "       ... \n",
      "0.72      1\n",
      "0.62      1\n",
      "0.71      1\n",
      "0.79      1\n",
      "0.78      1\n",
      "Name: citric acid, Length: 80, dtype: int64\n",
      "\n",
      "\n",
      "2.00     133\n",
      "2.20     110\n",
      "1.80     108\n",
      "2.10     104\n",
      "1.90      97\n",
      "        ... \n",
      "2.25       1\n",
      "2.95       1\n",
      "2.85       1\n",
      "3.45       1\n",
      "13.90      1\n",
      "Name: residual sugar, Length: 91, dtype: int64\n",
      "\n",
      "\n",
      "0.080    50\n",
      "0.078    44\n",
      "0.074    43\n",
      "0.084    40\n",
      "0.076    39\n",
      "         ..\n",
      "0.360     1\n",
      "0.148     1\n",
      "0.143     1\n",
      "0.222     1\n",
      "0.230     1\n",
      "Name: chlorides, Length: 153, dtype: int64\n",
      "\n",
      "\n",
      "6.0     121\n",
      "5.0      88\n",
      "15.0     65\n",
      "12.0     64\n",
      "10.0     63\n",
      "7.0      61\n",
      "9.0      55\n",
      "16.0     53\n",
      "17.0     50\n",
      "11.0     49\n",
      "13.0     48\n",
      "8.0      47\n",
      "14.0     41\n",
      "3.0      41\n",
      "18.0     40\n",
      "21.0     36\n",
      "4.0      34\n",
      "19.0     34\n",
      "26.0     29\n",
      "23.0     28\n",
      "24.0     27\n",
      "20.0     26\n",
      "27.0     24\n",
      "25.0     21\n",
      "28.0     20\n",
      "22.0     19\n",
      "29.0     19\n",
      "32.0     19\n",
      "34.0     17\n",
      "35.0     14\n",
      "31.0     14\n",
      "30.0     13\n",
      "33.0     10\n",
      "36.0      9\n",
      "38.0      7\n",
      "41.0      5\n",
      "40.0      5\n",
      "39.0      4\n",
      "37.0      3\n",
      "42.0      3\n",
      "48.0      3\n",
      "52.0      3\n",
      "51.0      3\n",
      "45.0      3\n",
      "43.0      3\n",
      "37.5      2\n",
      "1.0       2\n",
      "50.0      2\n",
      "47.0      1\n",
      "54.0      1\n",
      "46.0      1\n",
      "68.0      1\n",
      "2.0       1\n",
      "5.5       1\n",
      "53.0      1\n",
      "40.5      1\n",
      "57.0      1\n",
      "72.0      1\n",
      "55.0      1\n",
      "66.0      1\n",
      "Name: free sulfur dioxide, dtype: int64\n",
      "\n",
      "\n",
      "28.0     35\n",
      "24.0     32\n",
      "14.0     30\n",
      "20.0     29\n",
      "18.0     28\n",
      "         ..\n",
      "116.0     1\n",
      "165.0     1\n",
      "128.0     1\n",
      "126.0     1\n",
      "131.0     1\n",
      "Name: total sulfur dioxide, Length: 144, dtype: int64\n",
      "\n",
      "\n",
      "0.99680    33\n",
      "0.99760    30\n",
      "0.99720    29\n",
      "0.99800    28\n",
      "0.99620    23\n",
      "           ..\n",
      "0.99756     1\n",
      "0.99859     1\n",
      "0.99426     1\n",
      "0.99747     1\n",
      "0.99651     1\n",
      "Name: density, Length: 436, dtype: int64\n",
      "\n",
      "\n",
      "3.30    47\n",
      "3.26    45\n",
      "3.36    42\n",
      "3.38    41\n",
      "3.32    40\n",
      "        ..\n",
      "3.75     1\n",
      "3.85     1\n",
      "2.74     1\n",
      "3.70     1\n",
      "2.90     1\n",
      "Name: pH, Length: 89, dtype: int64\n",
      "\n",
      "\n",
      "0.54    58\n",
      "0.58    57\n",
      "0.60    57\n",
      "0.62    53\n",
      "0.56    52\n",
      "        ..\n",
      "1.59     1\n",
      "1.26     1\n",
      "0.33     1\n",
      "1.09     1\n",
      "1.01     1\n",
      "Name: sulphates, Length: 96, dtype: int64\n",
      "\n",
      "\n",
      "9.500000     111\n",
      "9.400000      91\n",
      "9.200000      65\n",
      "9.800000      63\n",
      "10.000000     61\n",
      "            ... \n",
      "8.500000       1\n",
      "10.033333      1\n",
      "13.500000      1\n",
      "13.200000      1\n",
      "10.750000      1\n",
      "Name: alcohol, Length: 65, dtype: int64\n",
      "\n",
      "\n",
      "5    577\n",
      "6    535\n",
      "7    167\n",
      "4     53\n",
      "8     17\n",
      "3     10\n",
      "Name: quality, dtype: int64\n",
      "\n",
      "\n"
     ]
    }
   ],
   "source": [
    "#Checking the valuecount(i.e frequency of each value ) of each column \n",
    "for i in df.columns:\n",
    "    print(df[i].value_counts())\n",
    "    print(\"\\n\")"
   ]
  },
  {
   "cell_type": "markdown",
   "id": "c98ef330",
   "metadata": {},
   "source": [
    "# <span style=\"color:red\">Description of Dataset"
   ]
  },
  {
   "cell_type": "code",
   "execution_count": 236,
   "id": "b644bc27",
   "metadata": {},
   "outputs": [
    {
     "data": {
      "text/html": [
       "<div>\n",
       "<style scoped>\n",
       "    .dataframe tbody tr th:only-of-type {\n",
       "        vertical-align: middle;\n",
       "    }\n",
       "\n",
       "    .dataframe tbody tr th {\n",
       "        vertical-align: top;\n",
       "    }\n",
       "\n",
       "    .dataframe thead th {\n",
       "        text-align: right;\n",
       "    }\n",
       "</style>\n",
       "<table border=\"1\" class=\"dataframe\">\n",
       "  <thead>\n",
       "    <tr style=\"text-align: right;\">\n",
       "      <th></th>\n",
       "      <th>count</th>\n",
       "      <th>mean</th>\n",
       "      <th>std</th>\n",
       "      <th>min</th>\n",
       "      <th>25%</th>\n",
       "      <th>50%</th>\n",
       "      <th>75%</th>\n",
       "      <th>max</th>\n",
       "    </tr>\n",
       "  </thead>\n",
       "  <tbody>\n",
       "    <tr>\n",
       "      <th>fixed acidity</th>\n",
       "      <td>1359.0</td>\n",
       "      <td>8.310596</td>\n",
       "      <td>1.736990</td>\n",
       "      <td>4.60000</td>\n",
       "      <td>7.1000</td>\n",
       "      <td>7.9000</td>\n",
       "      <td>9.20000</td>\n",
       "      <td>15.90000</td>\n",
       "    </tr>\n",
       "    <tr>\n",
       "      <th>volatile acidity</th>\n",
       "      <td>1359.0</td>\n",
       "      <td>0.529478</td>\n",
       "      <td>0.183031</td>\n",
       "      <td>0.12000</td>\n",
       "      <td>0.3900</td>\n",
       "      <td>0.5200</td>\n",
       "      <td>0.64000</td>\n",
       "      <td>1.58000</td>\n",
       "    </tr>\n",
       "    <tr>\n",
       "      <th>citric acid</th>\n",
       "      <td>1359.0</td>\n",
       "      <td>0.272333</td>\n",
       "      <td>0.195537</td>\n",
       "      <td>0.00000</td>\n",
       "      <td>0.0900</td>\n",
       "      <td>0.2600</td>\n",
       "      <td>0.43000</td>\n",
       "      <td>1.00000</td>\n",
       "    </tr>\n",
       "    <tr>\n",
       "      <th>residual sugar</th>\n",
       "      <td>1359.0</td>\n",
       "      <td>2.523400</td>\n",
       "      <td>1.352314</td>\n",
       "      <td>0.90000</td>\n",
       "      <td>1.9000</td>\n",
       "      <td>2.2000</td>\n",
       "      <td>2.60000</td>\n",
       "      <td>15.50000</td>\n",
       "    </tr>\n",
       "    <tr>\n",
       "      <th>chlorides</th>\n",
       "      <td>1359.0</td>\n",
       "      <td>0.088124</td>\n",
       "      <td>0.049377</td>\n",
       "      <td>0.01200</td>\n",
       "      <td>0.0700</td>\n",
       "      <td>0.0790</td>\n",
       "      <td>0.09100</td>\n",
       "      <td>0.61100</td>\n",
       "    </tr>\n",
       "    <tr>\n",
       "      <th>free sulfur dioxide</th>\n",
       "      <td>1359.0</td>\n",
       "      <td>15.893304</td>\n",
       "      <td>10.447270</td>\n",
       "      <td>1.00000</td>\n",
       "      <td>7.0000</td>\n",
       "      <td>14.0000</td>\n",
       "      <td>21.00000</td>\n",
       "      <td>72.00000</td>\n",
       "    </tr>\n",
       "    <tr>\n",
       "      <th>total sulfur dioxide</th>\n",
       "      <td>1359.0</td>\n",
       "      <td>46.825975</td>\n",
       "      <td>33.408946</td>\n",
       "      <td>6.00000</td>\n",
       "      <td>22.0000</td>\n",
       "      <td>38.0000</td>\n",
       "      <td>63.00000</td>\n",
       "      <td>289.00000</td>\n",
       "    </tr>\n",
       "    <tr>\n",
       "      <th>density</th>\n",
       "      <td>1359.0</td>\n",
       "      <td>0.996709</td>\n",
       "      <td>0.001869</td>\n",
       "      <td>0.99007</td>\n",
       "      <td>0.9956</td>\n",
       "      <td>0.9967</td>\n",
       "      <td>0.99782</td>\n",
       "      <td>1.00369</td>\n",
       "    </tr>\n",
       "    <tr>\n",
       "      <th>pH</th>\n",
       "      <td>1359.0</td>\n",
       "      <td>3.309787</td>\n",
       "      <td>0.155036</td>\n",
       "      <td>2.74000</td>\n",
       "      <td>3.2100</td>\n",
       "      <td>3.3100</td>\n",
       "      <td>3.40000</td>\n",
       "      <td>4.01000</td>\n",
       "    </tr>\n",
       "    <tr>\n",
       "      <th>sulphates</th>\n",
       "      <td>1359.0</td>\n",
       "      <td>0.658705</td>\n",
       "      <td>0.170667</td>\n",
       "      <td>0.33000</td>\n",
       "      <td>0.5500</td>\n",
       "      <td>0.6200</td>\n",
       "      <td>0.73000</td>\n",
       "      <td>2.00000</td>\n",
       "    </tr>\n",
       "    <tr>\n",
       "      <th>alcohol</th>\n",
       "      <td>1359.0</td>\n",
       "      <td>10.432315</td>\n",
       "      <td>1.082065</td>\n",
       "      <td>8.40000</td>\n",
       "      <td>9.5000</td>\n",
       "      <td>10.2000</td>\n",
       "      <td>11.10000</td>\n",
       "      <td>14.90000</td>\n",
       "    </tr>\n",
       "    <tr>\n",
       "      <th>quality</th>\n",
       "      <td>1359.0</td>\n",
       "      <td>5.623252</td>\n",
       "      <td>0.823578</td>\n",
       "      <td>3.00000</td>\n",
       "      <td>5.0000</td>\n",
       "      <td>6.0000</td>\n",
       "      <td>6.00000</td>\n",
       "      <td>8.00000</td>\n",
       "    </tr>\n",
       "  </tbody>\n",
       "</table>\n",
       "</div>"
      ],
      "text/plain": [
       "                       count       mean        std      min      25%      50%  \\\n",
       "fixed acidity         1359.0   8.310596   1.736990  4.60000   7.1000   7.9000   \n",
       "volatile acidity      1359.0   0.529478   0.183031  0.12000   0.3900   0.5200   \n",
       "citric acid           1359.0   0.272333   0.195537  0.00000   0.0900   0.2600   \n",
       "residual sugar        1359.0   2.523400   1.352314  0.90000   1.9000   2.2000   \n",
       "chlorides             1359.0   0.088124   0.049377  0.01200   0.0700   0.0790   \n",
       "free sulfur dioxide   1359.0  15.893304  10.447270  1.00000   7.0000  14.0000   \n",
       "total sulfur dioxide  1359.0  46.825975  33.408946  6.00000  22.0000  38.0000   \n",
       "density               1359.0   0.996709   0.001869  0.99007   0.9956   0.9967   \n",
       "pH                    1359.0   3.309787   0.155036  2.74000   3.2100   3.3100   \n",
       "sulphates             1359.0   0.658705   0.170667  0.33000   0.5500   0.6200   \n",
       "alcohol               1359.0  10.432315   1.082065  8.40000   9.5000  10.2000   \n",
       "quality               1359.0   5.623252   0.823578  3.00000   5.0000   6.0000   \n",
       "\n",
       "                           75%        max  \n",
       "fixed acidity          9.20000   15.90000  \n",
       "volatile acidity       0.64000    1.58000  \n",
       "citric acid            0.43000    1.00000  \n",
       "residual sugar         2.60000   15.50000  \n",
       "chlorides              0.09100    0.61100  \n",
       "free sulfur dioxide   21.00000   72.00000  \n",
       "total sulfur dioxide  63.00000  289.00000  \n",
       "density                0.99782    1.00369  \n",
       "pH                     3.40000    4.01000  \n",
       "sulphates              0.73000    2.00000  \n",
       "alcohol               11.10000   14.90000  \n",
       "quality                6.00000    8.00000  "
      ]
     },
     "execution_count": 236,
     "metadata": {},
     "output_type": "execute_result"
    }
   ],
   "source": [
    "#Statistical summary of numerical column\n",
    "df.describe().T"
   ]
  },
  {
   "cell_type": "markdown",
   "id": "ff83685a",
   "metadata": {},
   "source": [
    "<span style=\"color:green\">Observation-1) No negative value present, so this dataset is valid.               \n",
    "2)Count value is same in all column ,Hence there is no missing values.      \n",
    "3)The mean value is greater than median(50%) in \"free sulfur dioxide\",\"total sulfur dioxide\",\"fixed acidity\" which means data is skewed right in these.                  \n",
    "4)Rest of the features's data is normally distributed.                     \n",
    "5)There is huge difference in 75% and max value,it means Outliers are present in the dataset."
   ]
  },
  {
   "cell_type": "markdown",
   "id": "4d2226c6",
   "metadata": {},
   "source": [
    "# <span style=\"color:red\">Data Visualization"
   ]
  },
  {
   "cell_type": "markdown",
   "id": "a37d7a71",
   "metadata": {},
   "source": [
    "<span style=\"color:green\">****Univariate Analysis****"
   ]
  },
  {
   "cell_type": "code",
   "execution_count": 237,
   "id": "acec7d07",
   "metadata": {},
   "outputs": [
    {
     "name": "stdout",
     "output_type": "stream",
     "text": [
      "5    577\n",
      "6    535\n",
      "7    167\n",
      "4     53\n",
      "8     17\n",
      "3     10\n",
      "Name: quality, dtype: int64\n"
     ]
    },
    {
     "data": {
      "image/png": "[encoded data removed]",
      "text/plain": [
       "<Figure size 432x288 with 1 Axes>"
      ]
     },
     "metadata": {
      "needs_background": "light"
     },
     "output_type": "display_data"
    }
   ],
   "source": [
    "#Visualise the \"quality\" \n",
    "ax=sns.countplot(x=\"quality\",data =df)\n",
    "print(df[\"quality\"].value_counts())"
   ]
  },
  {
   "cell_type": "markdown",
   "id": "b2d0f899",
   "metadata": {},
   "source": [
    "<span style=\"color:green\">Observation-As we can see, the quality ranges from 03 to 08 but wine's quality are mostly fall in 5 and 6 that makes Data Imbalance. "
   ]
  },
  {
   "cell_type": "code",
   "execution_count": 238,
   "id": "a4da4a19",
   "metadata": {},
   "outputs": [
    {
     "data": {
      "image/png": "[encoded data removed]",
      "text/plain": [
       "<Figure size 1440x1080 with 11 Axes>"
      ]
     },
     "metadata": {},
     "output_type": "display_data"
    }
   ],
   "source": [
    "#Checking for data distribution in features only\n",
    "plt.figure(figsize = (20,15), facecolor = 'yellow')\n",
    "plotnumber = 1 #this is an initiator\n",
    "\n",
    "for column in df:\n",
    "    if plotnumber <=11: #here 11 is the number of  features\n",
    "        ax = plt.subplot (4,3,plotnumber)\n",
    "        sns.distplot (df [column],color='g')\n",
    "        plt.xlabel (column, fontsize =12)\n",
    "    plotnumber +=1\n",
    "plt.tight_layout()"
   ]
  },
  {
   "cell_type": "markdown",
   "id": "20e5d422",
   "metadata": {},
   "source": [
    "<span style=\"color:green\">Observation- \"free sulfur dioxide\",\"total sulfur dioxide\",\"fixed acidity\" ,\"sulphates\",\"residual sugar\",\"chlorides\" has high skewness as compared to others features"
   ]
  },
  {
   "cell_type": "markdown",
   "id": "fabe5775",
   "metadata": {},
   "source": [
    "<span style=\"color:red\">****Bivariate Analysis****"
   ]
  },
  {
   "cell_type": "code",
   "execution_count": 239,
   "id": "6644c9a7",
   "metadata": {},
   "outputs": [
    {
     "data": {
      "image/png": "[encoded data removed]",
      "text/plain": [
       "<Figure size 1440x1080 with 11 Axes>"
      ]
     },
     "metadata": {},
     "output_type": "display_data"
    }
   ],
   "source": [
    "#Checking relationship of features with target only\n",
    "plt.figure(figsize = (20,15), facecolor = 'yellow')\n",
    "plotnumber = 1 #this is an initiator\n",
    "\n",
    "for column in df:\n",
    "    if plotnumber <=11: #here 11 is the number of  features\n",
    "        ax = plt.subplot (4,3,plotnumber)\n",
    "        sns.barplot (x=\"quality\",y=df[column],data=df)\n",
    "        plt.xlabel (\"quality\", fontsize =12)\n",
    "        plt.grid(axis ='y')\n",
    "    plotnumber +=1\n",
    "plt.tight_layout()"
   ]
  },
  {
   "cell_type": "markdown",
   "id": "163cb662",
   "metadata": {},
   "source": [
    "<span style=\"color:green\">Observation-             \n",
    "Plotnumber-1)No Direct Relationship between \"fixed acidity\" and \"quality\".                              \n",
    "Plotnumber-2)As'volatile acidity'increases \"quality\" drops.                       \n",
    "Plotnumber-3)As'citric acid' increases \"quality\" increases.                 \n",
    "Plotnumber-4)No Direct Relationship between 'residual sugar' and \"quality\"                  \n",
    "Plotnumber-5)As'chlorides'increases \"quality\" drops.                \n",
    "Plotnumber-6)At first'free sulfur dioxide'increases \"quality\" increase but when it touches maximum value and then after when it dcreases ,quality increases. \n",
    "Plotnumber-7)At first'total sulfur dioxide'increases \"quality\" increase but when it touches maximum value and then after when it dcreases ,quality increases.\n",
    "Hence no direct relationship.                                    \n",
    "Plotnumber-8,9)No Direct Relationship of 'density' and \"pH\" with \"quality\"                   \n",
    "Plotnumber-10)As'sulphates' increases \"quality\" increases.                      \n",
    "Plotnumber-11)As'alcohol' increases \"quality\" increases.                             "
   ]
  },
  {
   "cell_type": "markdown",
   "id": "714ec683",
   "metadata": {},
   "source": [
    "# <span style=\"color:red\">****Checking for outliers****"
   ]
  },
  {
   "cell_type": "code",
   "execution_count": 240,
   "id": "21d67689",
   "metadata": {},
   "outputs": [
    {
     "data": {
      "image/png": "[encoded data removed]",
      "text/plain": [
       "<Figure size 1440x1800 with 11 Axes>"
      ]
     },
     "metadata": {
      "needs_background": "light"
     },
     "output_type": "display_data"
    }
   ],
   "source": [
    "#checking outliers by using Boxplot\n",
    "plt.figure(figsize=(20,25))\n",
    "p=1\n",
    "for i in df:\n",
    "    if p<=11:\n",
    "        plt.subplot(4,3,p)\n",
    "        sns.boxplot(y=df[i], palette=\"Set2_r\")\n",
    "        plt.xlabel(i)\n",
    "    p+=1\n",
    "plt.show()"
   ]
  },
  {
   "cell_type": "markdown",
   "id": "42f896df",
   "metadata": {},
   "source": [
    "<span style=\"color:green\">Observation- Almost all Features has Outliers.Lets remove Outliers by IQR method or Z-score method."
   ]
  },
  {
   "cell_type": "markdown",
   "id": "63f5c43e",
   "metadata": {},
   "source": [
    "<span style=\"color:red\">1st Method: Z score"
   ]
  },
  {
   "cell_type": "markdown",
   "id": "f5f8f533",
   "metadata": {},
   "source": [
    "z-score helps to understand if a data value is greater or smaller than mean and how far away it is from the mean.\n",
    "Z score = (x -mean) / std. deviation"
   ]
  },
  {
   "cell_type": "code",
   "execution_count": 241,
   "id": "c998f963",
   "metadata": {},
   "outputs": [
    {
     "data": {
      "text/html": [
       "<div>\n",
       "<style scoped>\n",
       "    .dataframe tbody tr th:only-of-type {\n",
       "        vertical-align: middle;\n",
       "    }\n",
       "\n",
       "    .dataframe tbody tr th {\n",
       "        vertical-align: top;\n",
       "    }\n",
       "\n",
       "    .dataframe thead th {\n",
       "        text-align: right;\n",
       "    }\n",
       "</style>\n",
       "<table border=\"1\" class=\"dataframe\">\n",
       "  <thead>\n",
       "    <tr style=\"text-align: right;\">\n",
       "      <th></th>\n",
       "      <th>fixed acidity</th>\n",
       "      <th>volatile acidity</th>\n",
       "      <th>citric acid</th>\n",
       "      <th>residual sugar</th>\n",
       "      <th>chlorides</th>\n",
       "      <th>free sulfur dioxide</th>\n",
       "      <th>total sulfur dioxide</th>\n",
       "      <th>density</th>\n",
       "      <th>pH</th>\n",
       "      <th>sulphates</th>\n",
       "      <th>alcohol</th>\n",
       "      <th>quality</th>\n",
       "    </tr>\n",
       "  </thead>\n",
       "  <tbody>\n",
       "    <tr>\n",
       "      <th>0</th>\n",
       "      <td>0.524431</td>\n",
       "      <td>0.932000</td>\n",
       "      <td>1.393258</td>\n",
       "      <td>0.461157</td>\n",
       "      <td>0.245623</td>\n",
       "      <td>0.468554</td>\n",
       "      <td>0.384050</td>\n",
       "      <td>0.584003</td>\n",
       "      <td>1.291872</td>\n",
       "      <td>0.578561</td>\n",
       "      <td>0.954374</td>\n",
       "      <td>0.757040</td>\n",
       "    </tr>\n",
       "    <tr>\n",
       "      <th>1</th>\n",
       "      <td>0.294063</td>\n",
       "      <td>1.915800</td>\n",
       "      <td>1.393258</td>\n",
       "      <td>0.056665</td>\n",
       "      <td>0.200094</td>\n",
       "      <td>0.872003</td>\n",
       "      <td>0.604073</td>\n",
       "      <td>0.048737</td>\n",
       "      <td>0.708395</td>\n",
       "      <td>0.124822</td>\n",
       "      <td>0.584575</td>\n",
       "      <td>0.757040</td>\n",
       "    </tr>\n",
       "    <tr>\n",
       "      <th>2</th>\n",
       "      <td>0.294063</td>\n",
       "      <td>1.259934</td>\n",
       "      <td>1.188617</td>\n",
       "      <td>0.165259</td>\n",
       "      <td>0.078535</td>\n",
       "      <td>0.085537</td>\n",
       "      <td>0.214813</td>\n",
       "      <td>0.155790</td>\n",
       "      <td>0.321247</td>\n",
       "      <td>0.051024</td>\n",
       "      <td>0.584575</td>\n",
       "      <td>0.757040</td>\n",
       "    </tr>\n",
       "    <tr>\n",
       "      <th>3</th>\n",
       "      <td>1.664067</td>\n",
       "      <td>1.363534</td>\n",
       "      <td>1.471711</td>\n",
       "      <td>0.461157</td>\n",
       "      <td>0.265883</td>\n",
       "      <td>0.105971</td>\n",
       "      <td>0.394471</td>\n",
       "      <td>0.691057</td>\n",
       "      <td>0.966495</td>\n",
       "      <td>0.461331</td>\n",
       "      <td>0.584575</td>\n",
       "      <td>0.457621</td>\n",
       "    </tr>\n",
       "    <tr>\n",
       "      <th>4</th>\n",
       "      <td>0.524431</td>\n",
       "      <td>0.713378</td>\n",
       "      <td>1.393258</td>\n",
       "      <td>0.535132</td>\n",
       "      <td>0.265883</td>\n",
       "      <td>0.277045</td>\n",
       "      <td>0.204391</td>\n",
       "      <td>0.584003</td>\n",
       "      <td>1.291872</td>\n",
       "      <td>0.578561</td>\n",
       "      <td>0.954374</td>\n",
       "      <td>0.757040</td>\n",
       "    </tr>\n",
       "    <tr>\n",
       "      <th>...</th>\n",
       "      <td>...</td>\n",
       "      <td>...</td>\n",
       "      <td>...</td>\n",
       "      <td>...</td>\n",
       "      <td>...</td>\n",
       "      <td>...</td>\n",
       "      <td>...</td>\n",
       "      <td>...</td>\n",
       "      <td>...</td>\n",
       "      <td>...</td>\n",
       "      <td>...</td>\n",
       "      <td>...</td>\n",
       "    </tr>\n",
       "    <tr>\n",
       "      <th>1354</th>\n",
       "      <td>0.869983</td>\n",
       "      <td>0.494756</td>\n",
       "      <td>0.983977</td>\n",
       "      <td>0.461157</td>\n",
       "      <td>0.407702</td>\n",
       "      <td>1.159265</td>\n",
       "      <td>0.264277</td>\n",
       "      <td>0.106490</td>\n",
       "      <td>0.711149</td>\n",
       "      <td>0.945435</td>\n",
       "      <td>0.861924</td>\n",
       "      <td>0.457621</td>\n",
       "    </tr>\n",
       "    <tr>\n",
       "      <th>1355</th>\n",
       "      <td>1.215536</td>\n",
       "      <td>0.385444</td>\n",
       "      <td>0.983977</td>\n",
       "      <td>0.387183</td>\n",
       "      <td>0.038015</td>\n",
       "      <td>1.542281</td>\n",
       "      <td>0.084619</td>\n",
       "      <td>0.968269</td>\n",
       "      <td>0.904724</td>\n",
       "      <td>0.461331</td>\n",
       "      <td>0.062574</td>\n",
       "      <td>0.757040</td>\n",
       "    </tr>\n",
       "    <tr>\n",
       "      <th>1356</th>\n",
       "      <td>1.388312</td>\n",
       "      <td>0.112167</td>\n",
       "      <td>0.881656</td>\n",
       "      <td>0.239233</td>\n",
       "      <td>0.529261</td>\n",
       "      <td>2.212559</td>\n",
       "      <td>0.124983</td>\n",
       "      <td>0.850510</td>\n",
       "      <td>1.356397</td>\n",
       "      <td>0.593744</td>\n",
       "      <td>0.709723</td>\n",
       "      <td>0.457621</td>\n",
       "    </tr>\n",
       "    <tr>\n",
       "      <th>1357</th>\n",
       "      <td>1.388312</td>\n",
       "      <td>0.631395</td>\n",
       "      <td>0.779336</td>\n",
       "      <td>0.387183</td>\n",
       "      <td>0.265883</td>\n",
       "      <td>1.542281</td>\n",
       "      <td>0.084619</td>\n",
       "      <td>0.663167</td>\n",
       "      <td>1.679021</td>\n",
       "      <td>0.300667</td>\n",
       "      <td>0.214775</td>\n",
       "      <td>0.757040</td>\n",
       "    </tr>\n",
       "    <tr>\n",
       "      <th>1358</th>\n",
       "      <td>1.330720</td>\n",
       "      <td>1.199567</td>\n",
       "      <td>1.011270</td>\n",
       "      <td>0.796410</td>\n",
       "      <td>0.427962</td>\n",
       "      <td>0.201725</td>\n",
       "      <td>0.144505</td>\n",
       "      <td>0.652461</td>\n",
       "      <td>0.517575</td>\n",
       "      <td>0.007591</td>\n",
       "      <td>0.524824</td>\n",
       "      <td>0.457621</td>\n",
       "    </tr>\n",
       "  </tbody>\n",
       "</table>\n",
       "<p>1359 rows × 12 columns</p>\n",
       "</div>"
      ],
      "text/plain": [
       "      fixed acidity  volatile acidity  citric acid  residual sugar  chlorides  \\\n",
       "0          0.524431          0.932000     1.393258        0.461157   0.245623   \n",
       "1          0.294063          1.915800     1.393258        0.056665   0.200094   \n",
       "2          0.294063          1.259934     1.188617        0.165259   0.078535   \n",
       "3          1.664067          1.363534     1.471711        0.461157   0.265883   \n",
       "4          0.524431          0.713378     1.393258        0.535132   0.265883   \n",
       "...             ...               ...          ...             ...        ...   \n",
       "1354       0.869983          0.494756     0.983977        0.461157   0.407702   \n",
       "1355       1.215536          0.385444     0.983977        0.387183   0.038015   \n",
       "1356       1.388312          0.112167     0.881656        0.239233   0.529261   \n",
       "1357       1.388312          0.631395     0.779336        0.387183   0.265883   \n",
       "1358       1.330720          1.199567     1.011270        0.796410   0.427962   \n",
       "\n",
       "      free sulfur dioxide  total sulfur dioxide   density        pH  \\\n",
       "0                0.468554              0.384050  0.584003  1.291872   \n",
       "1                0.872003              0.604073  0.048737  0.708395   \n",
       "2                0.085537              0.214813  0.155790  0.321247   \n",
       "3                0.105971              0.394471  0.691057  0.966495   \n",
       "4                0.277045              0.204391  0.584003  1.291872   \n",
       "...                   ...                   ...       ...       ...   \n",
       "1354             1.159265              0.264277  0.106490  0.711149   \n",
       "1355             1.542281              0.084619  0.968269  0.904724   \n",
       "1356             2.212559              0.124983  0.850510  1.356397   \n",
       "1357             1.542281              0.084619  0.663167  1.679021   \n",
       "1358             0.201725              0.144505  0.652461  0.517575   \n",
       "\n",
       "      sulphates   alcohol   quality  \n",
       "0      0.578561  0.954374  0.757040  \n",
       "1      0.124822  0.584575  0.757040  \n",
       "2      0.051024  0.584575  0.757040  \n",
       "3      0.461331  0.584575  0.457621  \n",
       "4      0.578561  0.954374  0.757040  \n",
       "...         ...       ...       ...  \n",
       "1354   0.945435  0.861924  0.457621  \n",
       "1355   0.461331  0.062574  0.757040  \n",
       "1356   0.593744  0.709723  0.457621  \n",
       "1357   0.300667  0.214775  0.757040  \n",
       "1358   0.007591  0.524824  0.457621  \n",
       "\n",
       "[1359 rows x 12 columns]"
      ]
     },
     "execution_count": 241,
     "metadata": {},
     "output_type": "execute_result"
    }
   ],
   "source": [
    "from scipy.stats import zscore\n",
    "outliers_feature=df[['fixed acidity', 'volatile acidity', 'citric acid', 'residual sugar',\n",
    "       'chlorides', 'free sulfur dioxide', 'total sulfur dioxide', 'density',\n",
    "       'pH', 'sulphates', 'alcohol', 'quality']]\n",
    "z=np.abs(zscore(outliers_feature)) #.abs() to remove negative values\n",
    "z"
   ]
  },
  {
   "cell_type": "markdown",
   "id": "f1ae5913",
   "metadata": {},
   "source": [
    "<span style=\"color:blue\">In normal distribution, it is estimated that                     \n",
    "68% of the data points lie between +/- 1 standard deviation.                                \n",
    "95% of the data points lie between +/- 2 standard deviation                              \n",
    "99.7% of the data points lie between +/- 3 standard deviation  "
   ]
  },
  {
   "cell_type": "code",
   "execution_count": 242,
   "id": "0003cf5b",
   "metadata": {},
   "outputs": [
    {
     "data": {
      "text/plain": [
       "(array([  11,   12,   13,   13,   15,   15,   17,   30,   35,   38,   39,\n",
       "          41,   53,   75,   75,   77,   80,   82,   85,   87,   96,   96,\n",
       "          99,  114,  115,  127,  135,  135,  135,  135,  144,  145,  150,\n",
       "         150,  159,  176,  202,  202,  211,  214,  226,  226,  241,  245,\n",
       "         252,  282,  295,  296,  302,  309,  328,  334,  346,  346,  361,\n",
       "         363,  385,  385,  393,  400,  408,  420,  420,  433,  448,  450,\n",
       "         473,  483,  483,  485,  485,  492,  506,  510,  513,  516,  528,\n",
       "         534,  555,  562,  562,  564,  565,  565,  565,  582,  582,  592,\n",
       "         597,  597,  599,  602,  626,  627,  632,  652,  671,  672,  687,\n",
       "         710,  718,  722,  764,  764,  771,  781,  786,  791,  792,  838,\n",
       "         866,  888,  895,  895,  912,  918,  918,  920,  920,  945,  948,\n",
       "         963,  985,  994, 1003, 1013, 1049, 1052, 1060, 1060, 1060, 1073,\n",
       "        1081, 1081, 1082, 1082, 1103, 1106, 1106, 1107, 1117, 1121, 1123,\n",
       "        1123, 1125, 1151, 1159, 1162, 1165, 1165, 1216, 1216, 1216, 1245,\n",
       "        1250, 1250, 1250, 1253, 1276, 1325, 1325, 1336, 1350], dtype=int64),\n",
       " array([ 9,  5,  5,  6,  4,  9,  4,  3,  1,  4,  9,  8,  5,  4,  9,  4,  9,\n",
       "         9,  9,  8,  4,  9,  6,  1,  1, 10,  2,  4,  8,  9,  3,  3,  4,  9,\n",
       "         4,  1,  4,  9,  4,  0,  4,  9,  3,  4,  4,  3,  9,  9,  0,  6,  0,\n",
       "         0,  3,  5,  3,  3,  0,  7,  4, 11, 10,  3,  7,  3,  6, 11,  0,  0,\n",
       "         7,  0,  7,  4,  5, 10,  6,  3,  7,  9,  9,  3,  6,  6,  0,  3, 10,\n",
       "         1,  6,  6,  1, 11,  4,  8,  9,  1,  4,  4,  4,  4,  9, 10, 11,  7,\n",
       "         3,  7, 11,  3,  3,  5,  5,  5,  7,  3,  4,  9,  3,  3,  6,  3,  6,\n",
       "         8,  7,  5,  5,  4,  5,  3,  5,  3,  3,  5,  6,  4,  7, 10,  7, 10,\n",
       "         5,  1, 11,  8,  1,  8,  4,  9,  8,  5,  9,  4,  4, 11,  3,  5,  7,\n",
       "        11,  3,  5,  7, 11, 11,  3,  5,  3,  3], dtype=int64))"
      ]
     },
     "execution_count": 242,
     "metadata": {},
     "output_type": "execute_result"
    }
   ],
   "source": [
    "#Z-score>3\n",
    "np.where(z>3)"
   ]
  },
  {
   "cell_type": "markdown",
   "id": "ffb7a27b",
   "metadata": {},
   "source": [
    "Upper is row number and lower is column number"
   ]
  },
  {
   "cell_type": "code",
   "execution_count": 243,
   "id": "c06888aa",
   "metadata": {},
   "outputs": [
    {
     "name": "stdout",
     "output_type": "stream",
     "text": [
      "3.1863625056138702\n",
      "3.903341837313056\n"
     ]
    }
   ],
   "source": [
    "#checkling the value of z^2\n",
    "print(z.iloc[1276,11])\n",
    "print(z.iloc[1350,3])"
   ]
  },
  {
   "cell_type": "code",
   "execution_count": 244,
   "id": "a078fd36",
   "metadata": {},
   "outputs": [
    {
     "name": "stdout",
     "output_type": "stream",
     "text": [
      "New Dataframe having rows and column:  (1232, 12)\n",
      "New Dataframe column's name:  Index(['fixed acidity', 'volatile acidity', 'citric acid', 'residual sugar',\n",
      "       'chlorides', 'free sulfur dioxide', 'total sulfur dioxide', 'density',\n",
      "       'pH', 'sulphates', 'alcohol', 'quality'],\n",
      "      dtype='object')\n"
     ]
    }
   ],
   "source": [
    "#now removing the data above zscore and creating a new dataframe\n",
    "df1=df[(z<3).all(axis=1)]\n",
    "print(\"New Dataframe having rows and column: \" ,df1.shape)\n",
    "print(\"New Dataframe column's name: \" ,df1.columns)\n"
   ]
  },
  {
   "cell_type": "code",
   "execution_count": 245,
   "id": "4a2693de",
   "metadata": {},
   "outputs": [
    {
     "name": "stdout",
     "output_type": "stream",
     "text": [
      "OLd Dataframe :  1359\n",
      "New Dataframe :  1232\n"
     ]
    }
   ],
   "source": [
    "#shape of old and new dataframe\n",
    "print(\"OLd Dataframe : \" ,df.shape[0])\n",
    "print(\"New Dataframe : \" ,df1.shape[0])"
   ]
  },
  {
   "cell_type": "code",
   "execution_count": 246,
   "id": "0aef0552",
   "metadata": {},
   "outputs": [
    {
     "name": "stdout",
     "output_type": "stream",
     "text": [
      "Data Loss Percentage with Z-score method: 9.345106696100073\n"
     ]
    }
   ],
   "source": [
    "print(\"Data Loss Percentage with Z-score method:\",((df.shape[0]-df1.shape[0])/df.shape[0])*100)"
   ]
  },
  {
   "cell_type": "markdown",
   "id": "2be5eca6",
   "metadata": {},
   "source": [
    "<span style=\"color:BLUE\">Accepted Data Loss Percentage is below 10% ."
   ]
  },
  {
   "cell_type": "code",
   "execution_count": 247,
   "id": "401ba840",
   "metadata": {},
   "outputs": [
    {
     "data": {
      "text/html": [
       "<div>\n",
       "<style scoped>\n",
       "    .dataframe tbody tr th:only-of-type {\n",
       "        vertical-align: middle;\n",
       "    }\n",
       "\n",
       "    .dataframe tbody tr th {\n",
       "        vertical-align: top;\n",
       "    }\n",
       "\n",
       "    .dataframe thead th {\n",
       "        text-align: right;\n",
       "    }\n",
       "</style>\n",
       "<table border=\"1\" class=\"dataframe\">\n",
       "  <thead>\n",
       "    <tr style=\"text-align: right;\">\n",
       "      <th></th>\n",
       "      <th>fixed acidity</th>\n",
       "      <th>volatile acidity</th>\n",
       "      <th>citric acid</th>\n",
       "      <th>residual sugar</th>\n",
       "      <th>chlorides</th>\n",
       "      <th>free sulfur dioxide</th>\n",
       "      <th>total sulfur dioxide</th>\n",
       "      <th>density</th>\n",
       "      <th>pH</th>\n",
       "      <th>sulphates</th>\n",
       "      <th>alcohol</th>\n",
       "      <th>quality</th>\n",
       "    </tr>\n",
       "  </thead>\n",
       "  <tbody>\n",
       "    <tr>\n",
       "      <th>0</th>\n",
       "      <td>7.4</td>\n",
       "      <td>0.700</td>\n",
       "      <td>0.00</td>\n",
       "      <td>1.9</td>\n",
       "      <td>0.076</td>\n",
       "      <td>11.0</td>\n",
       "      <td>34.0</td>\n",
       "      <td>0.99780</td>\n",
       "      <td>3.51</td>\n",
       "      <td>0.56</td>\n",
       "      <td>9.4</td>\n",
       "      <td>5</td>\n",
       "    </tr>\n",
       "    <tr>\n",
       "      <th>1</th>\n",
       "      <td>7.8</td>\n",
       "      <td>0.880</td>\n",
       "      <td>0.00</td>\n",
       "      <td>2.6</td>\n",
       "      <td>0.098</td>\n",
       "      <td>25.0</td>\n",
       "      <td>67.0</td>\n",
       "      <td>0.99680</td>\n",
       "      <td>3.20</td>\n",
       "      <td>0.68</td>\n",
       "      <td>9.8</td>\n",
       "      <td>5</td>\n",
       "    </tr>\n",
       "    <tr>\n",
       "      <th>2</th>\n",
       "      <td>7.8</td>\n",
       "      <td>0.760</td>\n",
       "      <td>0.04</td>\n",
       "      <td>2.3</td>\n",
       "      <td>0.092</td>\n",
       "      <td>15.0</td>\n",
       "      <td>54.0</td>\n",
       "      <td>0.99700</td>\n",
       "      <td>3.26</td>\n",
       "      <td>0.65</td>\n",
       "      <td>9.8</td>\n",
       "      <td>5</td>\n",
       "    </tr>\n",
       "    <tr>\n",
       "      <th>3</th>\n",
       "      <td>11.2</td>\n",
       "      <td>0.280</td>\n",
       "      <td>0.56</td>\n",
       "      <td>1.9</td>\n",
       "      <td>0.075</td>\n",
       "      <td>17.0</td>\n",
       "      <td>60.0</td>\n",
       "      <td>0.99800</td>\n",
       "      <td>3.16</td>\n",
       "      <td>0.58</td>\n",
       "      <td>9.8</td>\n",
       "      <td>6</td>\n",
       "    </tr>\n",
       "    <tr>\n",
       "      <th>4</th>\n",
       "      <td>7.4</td>\n",
       "      <td>0.660</td>\n",
       "      <td>0.00</td>\n",
       "      <td>1.8</td>\n",
       "      <td>0.075</td>\n",
       "      <td>13.0</td>\n",
       "      <td>40.0</td>\n",
       "      <td>0.99780</td>\n",
       "      <td>3.51</td>\n",
       "      <td>0.56</td>\n",
       "      <td>9.4</td>\n",
       "      <td>5</td>\n",
       "    </tr>\n",
       "    <tr>\n",
       "      <th>...</th>\n",
       "      <td>...</td>\n",
       "      <td>...</td>\n",
       "      <td>...</td>\n",
       "      <td>...</td>\n",
       "      <td>...</td>\n",
       "      <td>...</td>\n",
       "      <td>...</td>\n",
       "      <td>...</td>\n",
       "      <td>...</td>\n",
       "      <td>...</td>\n",
       "      <td>...</td>\n",
       "      <td>...</td>\n",
       "    </tr>\n",
       "    <tr>\n",
       "      <th>1354</th>\n",
       "      <td>6.8</td>\n",
       "      <td>0.620</td>\n",
       "      <td>0.08</td>\n",
       "      <td>1.9</td>\n",
       "      <td>0.068</td>\n",
       "      <td>28.0</td>\n",
       "      <td>38.0</td>\n",
       "      <td>0.99651</td>\n",
       "      <td>3.42</td>\n",
       "      <td>0.82</td>\n",
       "      <td>9.5</td>\n",
       "      <td>6</td>\n",
       "    </tr>\n",
       "    <tr>\n",
       "      <th>1355</th>\n",
       "      <td>6.2</td>\n",
       "      <td>0.600</td>\n",
       "      <td>0.08</td>\n",
       "      <td>2.0</td>\n",
       "      <td>0.090</td>\n",
       "      <td>32.0</td>\n",
       "      <td>44.0</td>\n",
       "      <td>0.99490</td>\n",
       "      <td>3.45</td>\n",
       "      <td>0.58</td>\n",
       "      <td>10.5</td>\n",
       "      <td>5</td>\n",
       "    </tr>\n",
       "    <tr>\n",
       "      <th>1356</th>\n",
       "      <td>5.9</td>\n",
       "      <td>0.550</td>\n",
       "      <td>0.10</td>\n",
       "      <td>2.2</td>\n",
       "      <td>0.062</td>\n",
       "      <td>39.0</td>\n",
       "      <td>51.0</td>\n",
       "      <td>0.99512</td>\n",
       "      <td>3.52</td>\n",
       "      <td>0.76</td>\n",
       "      <td>11.2</td>\n",
       "      <td>6</td>\n",
       "    </tr>\n",
       "    <tr>\n",
       "      <th>1357</th>\n",
       "      <td>5.9</td>\n",
       "      <td>0.645</td>\n",
       "      <td>0.12</td>\n",
       "      <td>2.0</td>\n",
       "      <td>0.075</td>\n",
       "      <td>32.0</td>\n",
       "      <td>44.0</td>\n",
       "      <td>0.99547</td>\n",
       "      <td>3.57</td>\n",
       "      <td>0.71</td>\n",
       "      <td>10.2</td>\n",
       "      <td>5</td>\n",
       "    </tr>\n",
       "    <tr>\n",
       "      <th>1358</th>\n",
       "      <td>6.0</td>\n",
       "      <td>0.310</td>\n",
       "      <td>0.47</td>\n",
       "      <td>3.6</td>\n",
       "      <td>0.067</td>\n",
       "      <td>18.0</td>\n",
       "      <td>42.0</td>\n",
       "      <td>0.99549</td>\n",
       "      <td>3.39</td>\n",
       "      <td>0.66</td>\n",
       "      <td>11.0</td>\n",
       "      <td>6</td>\n",
       "    </tr>\n",
       "  </tbody>\n",
       "</table>\n",
       "<p>1232 rows × 12 columns</p>\n",
       "</div>"
      ],
      "text/plain": [
       "      fixed acidity  volatile acidity  citric acid  residual sugar  chlorides  \\\n",
       "0               7.4             0.700         0.00             1.9      0.076   \n",
       "1               7.8             0.880         0.00             2.6      0.098   \n",
       "2               7.8             0.760         0.04             2.3      0.092   \n",
       "3              11.2             0.280         0.56             1.9      0.075   \n",
       "4               7.4             0.660         0.00             1.8      0.075   \n",
       "...             ...               ...          ...             ...        ...   \n",
       "1354            6.8             0.620         0.08             1.9      0.068   \n",
       "1355            6.2             0.600         0.08             2.0      0.090   \n",
       "1356            5.9             0.550         0.10             2.2      0.062   \n",
       "1357            5.9             0.645         0.12             2.0      0.075   \n",
       "1358            6.0             0.310         0.47             3.6      0.067   \n",
       "\n",
       "      free sulfur dioxide  total sulfur dioxide  density    pH  sulphates  \\\n",
       "0                    11.0                  34.0  0.99780  3.51       0.56   \n",
       "1                    25.0                  67.0  0.99680  3.20       0.68   \n",
       "2                    15.0                  54.0  0.99700  3.26       0.65   \n",
       "3                    17.0                  60.0  0.99800  3.16       0.58   \n",
       "4                    13.0                  40.0  0.99780  3.51       0.56   \n",
       "...                   ...                   ...      ...   ...        ...   \n",
       "1354                 28.0                  38.0  0.99651  3.42       0.82   \n",
       "1355                 32.0                  44.0  0.99490  3.45       0.58   \n",
       "1356                 39.0                  51.0  0.99512  3.52       0.76   \n",
       "1357                 32.0                  44.0  0.99547  3.57       0.71   \n",
       "1358                 18.0                  42.0  0.99549  3.39       0.66   \n",
       "\n",
       "      alcohol  quality  \n",
       "0         9.4        5  \n",
       "1         9.8        5  \n",
       "2         9.8        5  \n",
       "3         9.8        6  \n",
       "4         9.4        5  \n",
       "...       ...      ...  \n",
       "1354      9.5        6  \n",
       "1355     10.5        5  \n",
       "1356     11.2        6  \n",
       "1357     10.2        5  \n",
       "1358     11.0        6  \n",
       "\n",
       "[1232 rows x 12 columns]"
      ]
     },
     "execution_count": 247,
     "metadata": {},
     "output_type": "execute_result"
    }
   ],
   "source": [
    "#printing new Dataframe\n",
    "df1"
   ]
  },
  {
   "cell_type": "markdown",
   "id": "fd3a21ec",
   "metadata": {},
   "source": [
    "<span style=\"color:red\">2nd Method: IQR (Inter Quantile Method)"
   ]
  },
  {
   "cell_type": "code",
   "execution_count": 248,
   "id": "941099ba",
   "metadata": {},
   "outputs": [],
   "source": [
    "#1st Quantile\n",
    "q1=outliers_feature.quantile(0.25)\n",
    "\n",
    "#3rd Quantile\n",
    "q3=outliers_feature.quantile(0.75)\n",
    "\n",
    "#calculating IQR\n",
    "iqr=q3-q1\n",
    "\n",
    "df2=df[~((df < (q1 - 1.5*iqr ))|(df > (q3 + 1.5*iqr ))).any(axis=1)]"
   ]
  },
  {
   "cell_type": "code",
   "execution_count": 249,
   "id": "a596ce1d",
   "metadata": {},
   "outputs": [
    {
     "name": "stdout",
     "output_type": "stream",
     "text": [
      "New Dataframe after IQR :  (1005, 12)\n"
     ]
    }
   ],
   "source": [
    "print(\"New Dataframe after IQR : \" ,df2.shape)"
   ]
  },
  {
   "cell_type": "code",
   "execution_count": 250,
   "id": "c6db3c15",
   "metadata": {},
   "outputs": [
    {
     "name": "stdout",
     "output_type": "stream",
     "text": [
      "Data Loss Percentage  with IQR method : 26.048565121412803\n"
     ]
    }
   ],
   "source": [
    "print(\"Data Loss Percentage  with IQR method :\",((df.shape[0]-df2.shape[0])/df.shape[0])*100)"
   ]
  },
  {
   "cell_type": "markdown",
   "id": "e6686717",
   "metadata": {},
   "source": [
    "<span style=\"color:green\">Conclusion -Data Loss Percentage  with IQR method is very high as compared with Z-score . So i go with z-score "
   ]
  },
  {
   "cell_type": "code",
   "execution_count": 251,
   "id": "e4119df1",
   "metadata": {},
   "outputs": [],
   "source": [
    "#Storing Dataframe with Z-score method in old dataframe\n",
    "df=df1"
   ]
  },
  {
   "cell_type": "markdown",
   "id": "166351b1",
   "metadata": {},
   "source": [
    "# <span style=\"color:red\">****Removing Skewness****"
   ]
  },
  {
   "cell_type": "code",
   "execution_count": 252,
   "id": "deb595e7",
   "metadata": {},
   "outputs": [
    {
     "data": {
      "text/plain": [
       "fixed acidity           0.807145\n",
       "volatile acidity        0.433613\n",
       "citric acid             0.276303\n",
       "residual sugar          2.374715\n",
       "chlorides               2.464749\n",
       "free sulfur dioxide     0.867289\n",
       "total sulfur dioxide    1.162598\n",
       "density                 0.017683\n",
       "pH                      0.118752\n",
       "sulphates               0.950578\n",
       "alcohol                 0.767349\n",
       "quality                 0.402697\n",
       "dtype: float64"
      ]
     },
     "execution_count": 252,
     "metadata": {},
     "output_type": "execute_result"
    }
   ],
   "source": [
    "df.skew() #Default Acceptable range of Skewnesss is (-0.5 to 0.5)"
   ]
  },
  {
   "cell_type": "markdown",
   "id": "846b3b10",
   "metadata": {},
   "source": [
    "<span style=\"color:BLUE\">Skewness can be removed by following methods- log, square root,cube root or inverse transformation."
   ]
  },
  {
   "cell_type": "code",
   "execution_count": 253,
   "id": "ae27ed73",
   "metadata": {},
   "outputs": [],
   "source": [
    "#Removing Skewness using cuberoot method\n",
    "df[\"fixed acidity\"]=np.cbrt(df[\"fixed acidity\"])\n",
    "df[\"residual sugar\"]=np.cbrt(df[\"residual sugar\"])\n",
    "df[\"chlorides\"]=np.cbrt(df[\"chlorides\"])\n",
    "df[\"free sulfur dioxide\"]=np.cbrt(df[\"free sulfur dioxide\"])\n",
    "df[\"total sulfur dioxide\"]=np.cbrt(df[\"total sulfur dioxide\"])\n",
    "df[\"sulphates\"]=np.cbrt(df[\"sulphates\"])\n",
    "df[\"alcohol\"]=np.cbrt(df[\"alcohol\"])"
   ]
  },
  {
   "cell_type": "code",
   "execution_count": 254,
   "id": "fab610c4",
   "metadata": {},
   "outputs": [
    {
     "data": {
      "text/plain": [
       "fixed acidity           0.507544\n",
       "volatile acidity        0.433613\n",
       "citric acid             0.276303\n",
       "residual sugar          1.527389\n",
       "chlorides               1.162982\n",
       "free sulfur dioxide     0.126237\n",
       "total sulfur dioxide    0.333459\n",
       "density                 0.017683\n",
       "pH                      0.118752\n",
       "sulphates               0.571180\n",
       "alcohol                 0.656438\n",
       "quality                 0.402697\n",
       "dtype: float64"
      ]
     },
     "execution_count": 254,
     "metadata": {},
     "output_type": "execute_result"
    }
   ],
   "source": [
    "df.skew() #Default Acceptable range of Skewnesss is (-0.5 to 0.5)"
   ]
  },
  {
   "cell_type": "code",
   "execution_count": 255,
   "id": "45cbd468",
   "metadata": {},
   "outputs": [],
   "source": [
    "df[\"residual sugar\"]=np.sqrt(df[\"residual sugar\"])\n",
    "df[\"chlorides\"]=np.sqrt(df[\"chlorides\"])\n",
    "df[\"alcohol\"]=np.sqrt(df[\"alcohol\"])"
   ]
  },
  {
   "cell_type": "code",
   "execution_count": 256,
   "id": "ccfd655c",
   "metadata": {},
   "outputs": [
    {
     "data": {
      "text/plain": [
       "fixed acidity           0.507544\n",
       "volatile acidity        0.433613\n",
       "citric acid             0.276303\n",
       "residual sugar          1.324846\n",
       "chlorides               0.877902\n",
       "free sulfur dioxide     0.126237\n",
       "total sulfur dioxide    0.333459\n",
       "density                 0.017683\n",
       "pH                      0.118752\n",
       "sulphates               0.571180\n",
       "alcohol                 0.629469\n",
       "quality                 0.402697\n",
       "dtype: float64"
      ]
     },
     "execution_count": 256,
     "metadata": {},
     "output_type": "execute_result"
    }
   ],
   "source": [
    "df.skew() #Default Acceptable range of Skewnesss is (-0.5 to 0.5)"
   ]
  },
  {
   "cell_type": "code",
   "execution_count": 257,
   "id": "03730633",
   "metadata": {},
   "outputs": [],
   "source": [
    "df[\"residual sugar\"]=np.sqrt(df[\"residual sugar\"])\n",
    "df[\"chlorides\"]=np.sqrt(df[\"chlorides\"])\n",
    "df[\"alcohol\"]=np.sqrt(df[\"alcohol\"])"
   ]
  },
  {
   "cell_type": "code",
   "execution_count": 258,
   "id": "166b2c80",
   "metadata": {},
   "outputs": [
    {
     "data": {
      "text/plain": [
       "fixed acidity           0.507544\n",
       "volatile acidity        0.433613\n",
       "citric acid             0.276303\n",
       "residual sugar          1.225490\n",
       "chlorides               0.740857\n",
       "free sulfur dioxide     0.126237\n",
       "total sulfur dioxide    0.333459\n",
       "density                 0.017683\n",
       "pH                      0.118752\n",
       "sulphates               0.571180\n",
       "alcohol                 0.616095\n",
       "quality                 0.402697\n",
       "dtype: float64"
      ]
     },
     "execution_count": 258,
     "metadata": {},
     "output_type": "execute_result"
    }
   ],
   "source": [
    "df.skew() #Default Acceptable range of Skewnesss is (-0.5 to 0.5)"
   ]
  },
  {
   "cell_type": "markdown",
   "id": "e6cbd117",
   "metadata": {},
   "source": [
    "<span style=\"color:green\">Observation-We can minimise the skewness after using skewness method multiple times.lets go with these."
   ]
  },
  {
   "cell_type": "code",
   "execution_count": 259,
   "id": "7512394f",
   "metadata": {},
   "outputs": [
    {
     "data": {
      "image/png": "[encoded data removed]",
      "text/plain": [
       "<Figure size 432x288 with 1 Axes>"
      ]
     },
     "metadata": {
      "needs_background": "light"
     },
     "output_type": "display_data"
    }
   ],
   "source": [
    "#Lets vsualize how the data has been been distributed after removing skewness\n",
    "sns.distplot(df[\"residual sugar\"],color='m',kde_kws ={\"shade\":True},hist=False)\n",
    "plt.show()"
   ]
  },
  {
   "cell_type": "code",
   "execution_count": 260,
   "id": "3973f084",
   "metadata": {},
   "outputs": [
    {
     "data": {
      "image/png": "[encoded data removed]",
      "text/plain": [
       "<Figure size 432x288 with 1 Axes>"
      ]
     },
     "metadata": {
      "needs_background": "light"
     },
     "output_type": "display_data"
    }
   ],
   "source": [
    "sns.distplot(df[\"chlorides\"],color='m',kde_kws ={\"shade\":True},hist=False)\n",
    "plt.show()"
   ]
  },
  {
   "cell_type": "code",
   "execution_count": 261,
   "id": "6fb77f66",
   "metadata": {},
   "outputs": [
    {
     "data": {
      "image/png": "[encoded data removed]",
      "text/plain": [
       "<Figure size 432x288 with 1 Axes>"
      ]
     },
     "metadata": {
      "needs_background": "light"
     },
     "output_type": "display_data"
    }
   ],
   "source": [
    "sns.distplot(df[\"alcohol\"],color='m',kde_kws ={\"shade\":True},hist=False)\n",
    "plt.show()"
   ]
  },
  {
   "cell_type": "markdown",
   "id": "440b370f",
   "metadata": {},
   "source": [
    "<span style=\"color:green\">Observation-Hence Data distribution looks good."
   ]
  },
  {
   "cell_type": "markdown",
   "id": "8e7e1898",
   "metadata": {},
   "source": [
    "# <span style=\"color:red\">****Correlation between target variable and Independent variable****"
   ]
  },
  {
   "cell_type": "code",
   "execution_count": 262,
   "id": "5779416c",
   "metadata": {},
   "outputs": [
    {
     "data": {
      "text/html": [
       "<div>\n",
       "<style scoped>\n",
       "    .dataframe tbody tr th:only-of-type {\n",
       "        vertical-align: middle;\n",
       "    }\n",
       "\n",
       "    .dataframe tbody tr th {\n",
       "        vertical-align: top;\n",
       "    }\n",
       "\n",
       "    .dataframe thead th {\n",
       "        text-align: right;\n",
       "    }\n",
       "</style>\n",
       "<table border=\"1\" class=\"dataframe\">\n",
       "  <thead>\n",
       "    <tr style=\"text-align: right;\">\n",
       "      <th></th>\n",
       "      <th>fixed acidity</th>\n",
       "      <th>volatile acidity</th>\n",
       "      <th>citric acid</th>\n",
       "      <th>residual sugar</th>\n",
       "      <th>chlorides</th>\n",
       "      <th>free sulfur dioxide</th>\n",
       "      <th>total sulfur dioxide</th>\n",
       "      <th>density</th>\n",
       "      <th>pH</th>\n",
       "      <th>sulphates</th>\n",
       "      <th>alcohol</th>\n",
       "      <th>quality</th>\n",
       "    </tr>\n",
       "  </thead>\n",
       "  <tbody>\n",
       "    <tr>\n",
       "      <th>fixed acidity</th>\n",
       "      <td>1.000000</td>\n",
       "      <td>-0.296075</td>\n",
       "      <td>0.689025</td>\n",
       "      <td>0.209355</td>\n",
       "      <td>0.199996</td>\n",
       "      <td>-0.148324</td>\n",
       "      <td>-0.093589</td>\n",
       "      <td>0.662247</td>\n",
       "      <td>-0.721743</td>\n",
       "      <td>0.199498</td>\n",
       "      <td>-0.030442</td>\n",
       "      <td>0.137805</td>\n",
       "    </tr>\n",
       "    <tr>\n",
       "      <th>volatile acidity</th>\n",
       "      <td>-0.296075</td>\n",
       "      <td>1.000000</td>\n",
       "      <td>-0.586314</td>\n",
       "      <td>0.035273</td>\n",
       "      <td>0.096838</td>\n",
       "      <td>0.027015</td>\n",
       "      <td>0.110975</td>\n",
       "      <td>0.004609</td>\n",
       "      <td>0.262100</td>\n",
       "      <td>-0.344469</td>\n",
       "      <td>-0.217557</td>\n",
       "      <td>-0.359736</td>\n",
       "    </tr>\n",
       "    <tr>\n",
       "      <th>citric acid</th>\n",
       "      <td>0.689025</td>\n",
       "      <td>-0.586314</td>\n",
       "      <td>1.000000</td>\n",
       "      <td>0.185214</td>\n",
       "      <td>0.093459</td>\n",
       "      <td>-0.082368</td>\n",
       "      <td>-0.007582</td>\n",
       "      <td>0.358471</td>\n",
       "      <td>-0.526370</td>\n",
       "      <td>0.318093</td>\n",
       "      <td>0.166602</td>\n",
       "      <td>0.245672</td>\n",
       "    </tr>\n",
       "    <tr>\n",
       "      <th>residual sugar</th>\n",
       "      <td>0.209355</td>\n",
       "      <td>0.035273</td>\n",
       "      <td>0.185214</td>\n",
       "      <td>1.000000</td>\n",
       "      <td>0.170511</td>\n",
       "      <td>0.020133</td>\n",
       "      <td>0.096567</td>\n",
       "      <td>0.370528</td>\n",
       "      <td>-0.083370</td>\n",
       "      <td>0.052417</td>\n",
       "      <td>0.156310</td>\n",
       "      <td>0.046110</td>\n",
       "    </tr>\n",
       "    <tr>\n",
       "      <th>chlorides</th>\n",
       "      <td>0.199996</td>\n",
       "      <td>0.096838</td>\n",
       "      <td>0.093459</td>\n",
       "      <td>0.170511</td>\n",
       "      <td>1.000000</td>\n",
       "      <td>-0.021984</td>\n",
       "      <td>0.096965</td>\n",
       "      <td>0.372292</td>\n",
       "      <td>-0.201801</td>\n",
       "      <td>0.010072</td>\n",
       "      <td>-0.262021</td>\n",
       "      <td>-0.151985</td>\n",
       "    </tr>\n",
       "    <tr>\n",
       "      <th>free sulfur dioxide</th>\n",
       "      <td>-0.148324</td>\n",
       "      <td>0.027015</td>\n",
       "      <td>-0.082368</td>\n",
       "      <td>0.020133</td>\n",
       "      <td>-0.021984</td>\n",
       "      <td>1.000000</td>\n",
       "      <td>0.749073</td>\n",
       "      <td>-0.024160</td>\n",
       "      <td>0.104523</td>\n",
       "      <td>0.039402</td>\n",
       "      <td>-0.102447</td>\n",
       "      <td>-0.076561</td>\n",
       "    </tr>\n",
       "    <tr>\n",
       "      <th>total sulfur dioxide</th>\n",
       "      <td>-0.093589</td>\n",
       "      <td>0.110975</td>\n",
       "      <td>-0.007582</td>\n",
       "      <td>0.096567</td>\n",
       "      <td>0.096965</td>\n",
       "      <td>0.749073</td>\n",
       "      <td>1.000000</td>\n",
       "      <td>0.141008</td>\n",
       "      <td>-0.001034</td>\n",
       "      <td>-0.022817</td>\n",
       "      <td>-0.289775</td>\n",
       "      <td>-0.222687</td>\n",
       "    </tr>\n",
       "    <tr>\n",
       "      <th>density</th>\n",
       "      <td>0.662247</td>\n",
       "      <td>0.004609</td>\n",
       "      <td>0.358471</td>\n",
       "      <td>0.370528</td>\n",
       "      <td>0.372292</td>\n",
       "      <td>-0.024160</td>\n",
       "      <td>0.141008</td>\n",
       "      <td>1.000000</td>\n",
       "      <td>-0.322901</td>\n",
       "      <td>0.126242</td>\n",
       "      <td>-0.478366</td>\n",
       "      <td>-0.179034</td>\n",
       "    </tr>\n",
       "    <tr>\n",
       "      <th>pH</th>\n",
       "      <td>-0.721743</td>\n",
       "      <td>0.262100</td>\n",
       "      <td>-0.526370</td>\n",
       "      <td>-0.083370</td>\n",
       "      <td>-0.201801</td>\n",
       "      <td>0.104523</td>\n",
       "      <td>-0.001034</td>\n",
       "      <td>-0.322901</td>\n",
       "      <td>1.000000</td>\n",
       "      <td>-0.044527</td>\n",
       "      <td>0.140675</td>\n",
       "      <td>-0.078959</td>\n",
       "    </tr>\n",
       "    <tr>\n",
       "      <th>sulphates</th>\n",
       "      <td>0.199498</td>\n",
       "      <td>-0.344469</td>\n",
       "      <td>0.318093</td>\n",
       "      <td>0.052417</td>\n",
       "      <td>0.010072</td>\n",
       "      <td>0.039402</td>\n",
       "      <td>-0.022817</td>\n",
       "      <td>0.126242</td>\n",
       "      <td>-0.044527</td>\n",
       "      <td>1.000000</td>\n",
       "      <td>0.260120</td>\n",
       "      <td>0.398256</td>\n",
       "    </tr>\n",
       "    <tr>\n",
       "      <th>alcohol</th>\n",
       "      <td>-0.030442</td>\n",
       "      <td>-0.217557</td>\n",
       "      <td>0.166602</td>\n",
       "      <td>0.156310</td>\n",
       "      <td>-0.262021</td>\n",
       "      <td>-0.102447</td>\n",
       "      <td>-0.289775</td>\n",
       "      <td>-0.478366</td>\n",
       "      <td>0.140675</td>\n",
       "      <td>0.260120</td>\n",
       "      <td>1.000000</td>\n",
       "      <td>0.505544</td>\n",
       "    </tr>\n",
       "    <tr>\n",
       "      <th>quality</th>\n",
       "      <td>0.137805</td>\n",
       "      <td>-0.359736</td>\n",
       "      <td>0.245672</td>\n",
       "      <td>0.046110</td>\n",
       "      <td>-0.151985</td>\n",
       "      <td>-0.076561</td>\n",
       "      <td>-0.222687</td>\n",
       "      <td>-0.179034</td>\n",
       "      <td>-0.078959</td>\n",
       "      <td>0.398256</td>\n",
       "      <td>0.505544</td>\n",
       "      <td>1.000000</td>\n",
       "    </tr>\n",
       "  </tbody>\n",
       "</table>\n",
       "</div>"
      ],
      "text/plain": [
       "                      fixed acidity  volatile acidity  citric acid  \\\n",
       "fixed acidity              1.000000         -0.296075     0.689025   \n",
       "volatile acidity          -0.296075          1.000000    -0.586314   \n",
       "citric acid                0.689025         -0.586314     1.000000   \n",
       "residual sugar             0.209355          0.035273     0.185214   \n",
       "chlorides                  0.199996          0.096838     0.093459   \n",
       "free sulfur dioxide       -0.148324          0.027015    -0.082368   \n",
       "total sulfur dioxide      -0.093589          0.110975    -0.007582   \n",
       "density                    0.662247          0.004609     0.358471   \n",
       "pH                        -0.721743          0.262100    -0.526370   \n",
       "sulphates                  0.199498         -0.344469     0.318093   \n",
       "alcohol                   -0.030442         -0.217557     0.166602   \n",
       "quality                    0.137805         -0.359736     0.245672   \n",
       "\n",
       "                      residual sugar  chlorides  free sulfur dioxide  \\\n",
       "fixed acidity               0.209355   0.199996            -0.148324   \n",
       "volatile acidity            0.035273   0.096838             0.027015   \n",
       "citric acid                 0.185214   0.093459            -0.082368   \n",
       "residual sugar              1.000000   0.170511             0.020133   \n",
       "chlorides                   0.170511   1.000000            -0.021984   \n",
       "free sulfur dioxide         0.020133  -0.021984             1.000000   \n",
       "total sulfur dioxide        0.096567   0.096965             0.749073   \n",
       "density                     0.370528   0.372292            -0.024160   \n",
       "pH                         -0.083370  -0.201801             0.104523   \n",
       "sulphates                   0.052417   0.010072             0.039402   \n",
       "alcohol                     0.156310  -0.262021            -0.102447   \n",
       "quality                     0.046110  -0.151985            -0.076561   \n",
       "\n",
       "                      total sulfur dioxide   density        pH  sulphates  \\\n",
       "fixed acidity                    -0.093589  0.662247 -0.721743   0.199498   \n",
       "volatile acidity                  0.110975  0.004609  0.262100  -0.344469   \n",
       "citric acid                      -0.007582  0.358471 -0.526370   0.318093   \n",
       "residual sugar                    0.096567  0.370528 -0.083370   0.052417   \n",
       "chlorides                         0.096965  0.372292 -0.201801   0.010072   \n",
       "free sulfur dioxide               0.749073 -0.024160  0.104523   0.039402   \n",
       "total sulfur dioxide              1.000000  0.141008 -0.001034  -0.022817   \n",
       "density                           0.141008  1.000000 -0.322901   0.126242   \n",
       "pH                               -0.001034 -0.322901  1.000000  -0.044527   \n",
       "sulphates                        -0.022817  0.126242 -0.044527   1.000000   \n",
       "alcohol                          -0.289775 -0.478366  0.140675   0.260120   \n",
       "quality                          -0.222687 -0.179034 -0.078959   0.398256   \n",
       "\n",
       "                       alcohol   quality  \n",
       "fixed acidity        -0.030442  0.137805  \n",
       "volatile acidity     -0.217557 -0.359736  \n",
       "citric acid           0.166602  0.245672  \n",
       "residual sugar        0.156310  0.046110  \n",
       "chlorides            -0.262021 -0.151985  \n",
       "free sulfur dioxide  -0.102447 -0.076561  \n",
       "total sulfur dioxide -0.289775 -0.222687  \n",
       "density              -0.478366 -0.179034  \n",
       "pH                    0.140675 -0.078959  \n",
       "sulphates             0.260120  0.398256  \n",
       "alcohol               1.000000  0.505544  \n",
       "quality               0.505544  1.000000  "
      ]
     },
     "execution_count": 262,
     "metadata": {},
     "output_type": "execute_result"
    }
   ],
   "source": [
    "#checking Correlation \n",
    "df.corr()"
   ]
  },
  {
   "cell_type": "code",
   "execution_count": 263,
   "id": "98aa4a37",
   "metadata": {},
   "outputs": [
    {
     "data": {
      "text/plain": [
       "<AxesSubplot:>"
      ]
     },
     "execution_count": 263,
     "metadata": {},
     "output_type": "execute_result"
    },
    {
     "data": {
      "image/png": "[encoded data removed]",
      "text/plain": [
       "<Figure size 1080x504 with 2 Axes>"
      ]
     },
     "metadata": {
      "needs_background": "light"
     },
     "output_type": "display_data"
    }
   ],
   "source": [
    "#checking the corelation  again using heatmaps (only absolute values)\n",
    "plt.figure(figsize = (15,7))\n",
    "sns.heatmap(df.corr(), annot = True, linewidths=0.5, fmt='.2f',cmap = \"YlGnBu\")"
   ]
  },
  {
   "cell_type": "code",
   "execution_count": 264,
   "id": "c4975e4f",
   "metadata": {},
   "outputs": [
    {
     "data": {
      "text/plain": [
       "volatile acidity       -0.359736\n",
       "total sulfur dioxide   -0.222687\n",
       "density                -0.179034\n",
       "chlorides              -0.151985\n",
       "pH                     -0.078959\n",
       "free sulfur dioxide    -0.076561\n",
       "residual sugar          0.046110\n",
       "fixed acidity           0.137805\n",
       "citric acid             0.245672\n",
       "sulphates               0.398256\n",
       "alcohol                 0.505544\n",
       "quality                 1.000000\n",
       "Name: quality, dtype: float64"
      ]
     },
     "execution_count": 264,
     "metadata": {},
     "output_type": "execute_result"
    }
   ],
   "source": [
    "#checking Correlation with \"quality\" Column\n",
    "df.corr().quality.sort_values()"
   ]
  },
  {
   "cell_type": "markdown",
   "id": "e4dc9f0b",
   "metadata": {},
   "source": [
    "<span style=\"color:blue\">Here are some  values for the correlation coefficient:            \n",
    "0-0.19: Very weak                \n",
    "0.2-0.39: Weak                 \n",
    "0.40-0.59: Moderate                  \n",
    "0.6-0.79: Strong                        \n",
    "0.8-1: Very strong             "
   ]
  },
  {
   "cell_type": "markdown",
   "id": "859c5ca1",
   "metadata": {},
   "source": [
    "<span style=\"color:green\">Observation-1)volatile acidity , pH, chlorides , free sulphur dioxide, total sulphur dioxide , density has negative correlation.                        \n",
    "2)alcohol, sulphates,citric acid ,residual suagr ,fixed acidity has positive correlation with target variable."
   ]
  },
  {
   "cell_type": "markdown",
   "id": "4532c155",
   "metadata": {},
   "source": [
    "<span style=\"color:red\">****As suggested in the problem discription, converting the labels into only two variables. \n",
    "Reference text (What might be an interesting thing to do, is to set an arbitrary cutoff \n",
    "for your dependent variable (wine quality) at e.g. 7 or higher getting classified as 'good/1'\n",
    "and the remainder as 'not good/0'.)****"
   ]
  },
  {
   "cell_type": "code",
   "execution_count": 266,
   "id": "bbfeb2fd",
   "metadata": {},
   "outputs": [
    {
     "data": {
      "text/plain": [
       "0    1063\n",
       "1     169\n",
       "Name: quality, dtype: int64"
      ]
     },
     "execution_count": 266,
     "metadata": {},
     "output_type": "execute_result"
    }
   ],
   "source": [
    "#  For \" good /1\" label variable\n",
    "df.loc[df.quality >= 7, 'quality'] = 1\n",
    "#  For \" not good /0\" label variable\n",
    "df.loc[df.quality >1, 'quality'] = 0\n",
    "#number of \"good\" and \"not good \"quality of wine\n",
    "df.quality.value_counts()"
   ]
  },
  {
   "cell_type": "code",
   "execution_count": 267,
   "id": "01bde63a",
   "metadata": {},
   "outputs": [
    {
     "name": "stdout",
     "output_type": "stream",
     "text": [
      "0    1063\n",
      "1     169\n",
      "Name: quality, dtype: int64\n"
     ]
    },
    {
     "data": {
      "image/png": "[encoded data removed]",
      "text/plain": [
       "<Figure size 432x288 with 1 Axes>"
      ]
     },
     "metadata": {
      "needs_background": "light"
     },
     "output_type": "display_data"
    }
   ],
   "source": [
    "#Visualise the \"quality\" column again\n",
    "ax=sns.countplot(x=\"quality\",data =df)\n",
    "print(df[\"quality\"].value_counts())"
   ]
  },
  {
   "cell_type": "markdown",
   "id": "190d9f10",
   "metadata": {},
   "source": [
    "<span style=\"color:green\">Observation-There is  Class Imbalance in data. we can rectify it by using Oversampling method in later part. "
   ]
  },
  {
   "cell_type": "markdown",
   "id": "c1fa8167",
   "metadata": {},
   "source": [
    "# <span style=\"color:red\">****Seperating Feature and Label**** "
   ]
  },
  {
   "cell_type": "code",
   "execution_count": 268,
   "id": "e244e995",
   "metadata": {},
   "outputs": [
    {
     "name": "stdout",
     "output_type": "stream",
     "text": [
      "Feature Dimension : (1232, 11)\n",
      "Target Dimension : (1232,)\n"
     ]
    }
   ],
   "source": [
    "#Seperating Feature and label into x and y\n",
    "x=df.drop([\"quality\"],axis=1)\n",
    "y=df[\"quality\"]\n",
    "\n",
    "print(\"Feature Dimension :\" ,x.shape)\n",
    "print(\"Target Dimension :\" ,y.shape)"
   ]
  },
  {
   "cell_type": "markdown",
   "id": "76715929",
   "metadata": {},
   "source": [
    "# <span style=\"color:red\">****Feature Elimination Using p-values****"
   ]
  },
  {
   "cell_type": "code",
   "execution_count": 269,
   "id": "c0feb879",
   "metadata": {},
   "outputs": [
    {
     "data": {
      "text/html": [
       "<div>\n",
       "<style scoped>\n",
       "    .dataframe tbody tr th:only-of-type {\n",
       "        vertical-align: middle;\n",
       "    }\n",
       "\n",
       "    .dataframe tbody tr th {\n",
       "        vertical-align: top;\n",
       "    }\n",
       "\n",
       "    .dataframe thead th {\n",
       "        text-align: right;\n",
       "    }\n",
       "</style>\n",
       "<table border=\"1\" class=\"dataframe\">\n",
       "  <thead>\n",
       "    <tr style=\"text-align: right;\">\n",
       "      <th></th>\n",
       "      <th>Features</th>\n",
       "      <th>chi2score</th>\n",
       "      <th>p_values</th>\n",
       "    </tr>\n",
       "  </thead>\n",
       "  <tbody>\n",
       "    <tr>\n",
       "      <th>7</th>\n",
       "      <td>density</td>\n",
       "      <td>0.000099</td>\n",
       "      <td>0.992064</td>\n",
       "    </tr>\n",
       "    <tr>\n",
       "      <th>3</th>\n",
       "      <td>residual sugar</td>\n",
       "      <td>0.005339</td>\n",
       "      <td>0.941753</td>\n",
       "    </tr>\n",
       "    <tr>\n",
       "      <th>4</th>\n",
       "      <td>chlorides</td>\n",
       "      <td>0.008209</td>\n",
       "      <td>0.927808</td>\n",
       "    </tr>\n",
       "    <tr>\n",
       "      <th>10</th>\n",
       "      <td>alcohol</td>\n",
       "      <td>0.017677</td>\n",
       "      <td>0.894229</td>\n",
       "    </tr>\n",
       "    <tr>\n",
       "      <th>8</th>\n",
       "      <td>pH</td>\n",
       "      <td>0.042998</td>\n",
       "      <td>0.835728</td>\n",
       "    </tr>\n",
       "    <tr>\n",
       "      <th>0</th>\n",
       "      <td>fixed acidity</td>\n",
       "      <td>0.147271</td>\n",
       "      <td>0.701157</td>\n",
       "    </tr>\n",
       "    <tr>\n",
       "      <th>9</th>\n",
       "      <td>sulphates</td>\n",
       "      <td>0.443653</td>\n",
       "      <td>0.505365</td>\n",
       "    </tr>\n",
       "    <tr>\n",
       "      <th>5</th>\n",
       "      <td>free sulfur dioxide</td>\n",
       "      <td>1.279602</td>\n",
       "      <td>0.257973</td>\n",
       "    </tr>\n",
       "    <tr>\n",
       "      <th>1</th>\n",
       "      <td>volatile acidity</td>\n",
       "      <td>4.881378</td>\n",
       "      <td>0.027148</td>\n",
       "    </tr>\n",
       "    <tr>\n",
       "      <th>6</th>\n",
       "      <td>total sulfur dioxide</td>\n",
       "      <td>7.381496</td>\n",
       "      <td>0.006590</td>\n",
       "    </tr>\n",
       "    <tr>\n",
       "      <th>2</th>\n",
       "      <td>citric acid</td>\n",
       "      <td>7.638212</td>\n",
       "      <td>0.005714</td>\n",
       "    </tr>\n",
       "  </tbody>\n",
       "</table>\n",
       "</div>"
      ],
      "text/plain": [
       "                Features  chi2score  p_values\n",
       "7                density   0.000099  0.992064\n",
       "3         residual sugar   0.005339  0.941753\n",
       "4              chlorides   0.008209  0.927808\n",
       "10               alcohol   0.017677  0.894229\n",
       "8                     pH   0.042998  0.835728\n",
       "0          fixed acidity   0.147271  0.701157\n",
       "9              sulphates   0.443653  0.505365\n",
       "5    free sulfur dioxide   1.279602  0.257973\n",
       "1       volatile acidity   4.881378  0.027148\n",
       "6   total sulfur dioxide   7.381496  0.006590\n",
       "2            citric acid   7.638212  0.005714"
      ]
     },
     "execution_count": 269,
     "metadata": {},
     "output_type": "execute_result"
    }
   ],
   "source": [
    "#Select features according to a percentile of the highest scores.\n",
    "from sklearn.feature_selection import SelectPercentile,chi2\n",
    "SP = SelectPercentile(score_func = chi2)\n",
    "SP = Spercentile.fit(x,y)\n",
    "feature_scores = pd.DataFrame({'Features': x.columns, 'chi2score': SP.scores_, 'p_values': SP.pvalues_})\n",
    "feature_scores.sort_values('chi2score', ascending = True)"
   ]
  },
  {
   "cell_type": "markdown",
   "id": "3b99f6ba",
   "metadata": {},
   "source": [
    "<span style=\"color:green\">Observation- A P-value less than 0.5 is statistically significant, while a value higher than 0.5.\n",
    "\"residual sugar\",\"density\",\"chlorides\",\"alcohol\" variables create less impact on \"quality\" , Hence to be dropped."
   ]
  },
  {
   "cell_type": "code",
   "execution_count": 270,
   "id": "276c26a7",
   "metadata": {},
   "outputs": [
    {
     "data": {
      "text/plain": [
       "Index(['fixed acidity', 'volatile acidity', 'citric acid',\n",
       "       'free sulfur dioxide', 'total sulfur dioxide', 'pH', 'sulphates'],\n",
       "      dtype='object')"
      ]
     },
     "execution_count": 270,
     "metadata": {},
     "output_type": "execute_result"
    }
   ],
   "source": [
    "x=df.drop([\"residual sugar\",\"density\",\"chlorides\",\"alcohol\"],axis=1)\n",
    "x.columns"
   ]
  },
  {
   "cell_type": "markdown",
   "id": "5ab75bbd",
   "metadata": {},
   "source": [
    "# <span style=\"color:red\">****Feature Scaling Using Standard Scaler**** "
   ]
  },
  {
   "cell_type": "code",
   "execution_count": 271,
   "id": "5fa8ed5a",
   "metadata": {},
   "outputs": [
    {
     "data": {
      "text/html": [
       "<div>\n",
       "<style scoped>\n",
       "    .dataframe tbody tr th:only-of-type {\n",
       "        vertical-align: middle;\n",
       "    }\n",
       "\n",
       "    .dataframe tbody tr th {\n",
       "        vertical-align: top;\n",
       "    }\n",
       "\n",
       "    .dataframe thead th {\n",
       "        text-align: right;\n",
       "    }\n",
       "</style>\n",
       "<table border=\"1\" class=\"dataframe\">\n",
       "  <thead>\n",
       "    <tr style=\"text-align: right;\">\n",
       "      <th></th>\n",
       "      <th>fixed acidity</th>\n",
       "      <th>volatile acidity</th>\n",
       "      <th>citric acid</th>\n",
       "      <th>free sulfur dioxide</th>\n",
       "      <th>total sulfur dioxide</th>\n",
       "      <th>pH</th>\n",
       "      <th>sulphates</th>\n",
       "    </tr>\n",
       "  </thead>\n",
       "  <tbody>\n",
       "    <tr>\n",
       "      <th>0</th>\n",
       "      <td>-0.522070</td>\n",
       "      <td>1.023020</td>\n",
       "      <td>-1.396433</td>\n",
       "      <td>-0.289125</td>\n",
       "      <td>-0.169087</td>\n",
       "      <td>1.395796</td>\n",
       "      <td>-0.620726</td>\n",
       "    </tr>\n",
       "    <tr>\n",
       "      <th>1</th>\n",
       "      <td>-0.256592</td>\n",
       "      <td>2.070146</td>\n",
       "      <td>-1.396433</td>\n",
       "      <td>1.087294</td>\n",
       "      <td>0.902015</td>\n",
       "      <td>-0.804660</td>\n",
       "      <td>0.361991</td>\n",
       "    </tr>\n",
       "    <tr>\n",
       "      <th>2</th>\n",
       "      <td>-0.256592</td>\n",
       "      <td>1.372062</td>\n",
       "      <td>-1.186653</td>\n",
       "      <td>0.187153</td>\n",
       "      <td>0.534809</td>\n",
       "      <td>-0.378765</td>\n",
       "      <td>0.127909</td>\n",
       "    </tr>\n",
       "    <tr>\n",
       "      <th>3</th>\n",
       "      <td>1.699524</td>\n",
       "      <td>-1.420272</td>\n",
       "      <td>1.540487</td>\n",
       "      <td>0.393742</td>\n",
       "      <td>0.710869</td>\n",
       "      <td>-1.088589</td>\n",
       "      <td>-0.447788</td>\n",
       "    </tr>\n",
       "    <tr>\n",
       "      <th>4</th>\n",
       "      <td>-0.522070</td>\n",
       "      <td>0.790326</td>\n",
       "      <td>-1.396433</td>\n",
       "      <td>-0.038719</td>\n",
       "      <td>0.065923</td>\n",
       "      <td>1.395796</td>\n",
       "      <td>-0.620726</td>\n",
       "    </tr>\n",
       "    <tr>\n",
       "      <th>...</th>\n",
       "      <td>...</td>\n",
       "      <td>...</td>\n",
       "      <td>...</td>\n",
       "      <td>...</td>\n",
       "      <td>...</td>\n",
       "      <td>...</td>\n",
       "      <td>...</td>\n",
       "    </tr>\n",
       "    <tr>\n",
       "      <th>1227</th>\n",
       "      <td>-0.938855</td>\n",
       "      <td>0.557631</td>\n",
       "      <td>-0.976873</td>\n",
       "      <td>1.308632</td>\n",
       "      <td>-0.009629</td>\n",
       "      <td>0.756954</td>\n",
       "      <td>1.371730</td>\n",
       "    </tr>\n",
       "    <tr>\n",
       "      <th>1228</th>\n",
       "      <td>-1.380937</td>\n",
       "      <td>0.441284</td>\n",
       "      <td>-0.976873</td>\n",
       "      <td>1.580388</td>\n",
       "      <td>0.209785</td>\n",
       "      <td>0.969901</td>\n",
       "      <td>-0.447788</td>\n",
       "    </tr>\n",
       "    <tr>\n",
       "      <th>1229</th>\n",
       "      <td>-1.612743</td>\n",
       "      <td>0.150416</td>\n",
       "      <td>-0.871983</td>\n",
       "      <td>2.005893</td>\n",
       "      <td>0.441851</td>\n",
       "      <td>1.466778</td>\n",
       "      <td>0.954283</td>\n",
       "    </tr>\n",
       "    <tr>\n",
       "      <th>1230</th>\n",
       "      <td>-1.612743</td>\n",
       "      <td>0.703065</td>\n",
       "      <td>-0.767093</td>\n",
       "      <td>1.580388</td>\n",
       "      <td>0.209785</td>\n",
       "      <td>1.821691</td>\n",
       "      <td>0.589285</td>\n",
       "    </tr>\n",
       "    <tr>\n",
       "      <th>1231</th>\n",
       "      <td>-1.534619</td>\n",
       "      <td>-1.245752</td>\n",
       "      <td>1.068482</td>\n",
       "      <td>0.490990</td>\n",
       "      <td>0.138996</td>\n",
       "      <td>0.544007</td>\n",
       "      <td>0.206722</td>\n",
       "    </tr>\n",
       "  </tbody>\n",
       "</table>\n",
       "<p>1232 rows × 7 columns</p>\n",
       "</div>"
      ],
      "text/plain": [
       "      fixed acidity  volatile acidity  citric acid  free sulfur dioxide  \\\n",
       "0         -0.522070          1.023020    -1.396433            -0.289125   \n",
       "1         -0.256592          2.070146    -1.396433             1.087294   \n",
       "2         -0.256592          1.372062    -1.186653             0.187153   \n",
       "3          1.699524         -1.420272     1.540487             0.393742   \n",
       "4         -0.522070          0.790326    -1.396433            -0.038719   \n",
       "...             ...               ...          ...                  ...   \n",
       "1227      -0.938855          0.557631    -0.976873             1.308632   \n",
       "1228      -1.380937          0.441284    -0.976873             1.580388   \n",
       "1229      -1.612743          0.150416    -0.871983             2.005893   \n",
       "1230      -1.612743          0.703065    -0.767093             1.580388   \n",
       "1231      -1.534619         -1.245752     1.068482             0.490990   \n",
       "\n",
       "      total sulfur dioxide        pH  sulphates  \n",
       "0                -0.169087  1.395796  -0.620726  \n",
       "1                 0.902015 -0.804660   0.361991  \n",
       "2                 0.534809 -0.378765   0.127909  \n",
       "3                 0.710869 -1.088589  -0.447788  \n",
       "4                 0.065923  1.395796  -0.620726  \n",
       "...                    ...       ...        ...  \n",
       "1227             -0.009629  0.756954   1.371730  \n",
       "1228              0.209785  0.969901  -0.447788  \n",
       "1229              0.441851  1.466778   0.954283  \n",
       "1230              0.209785  1.821691   0.589285  \n",
       "1231              0.138996  0.544007   0.206722  \n",
       "\n",
       "[1232 rows x 7 columns]"
      ]
     },
     "execution_count": 271,
     "metadata": {},
     "output_type": "execute_result"
    }
   ],
   "source": [
    "# data scaling \n",
    "from sklearn.preprocessing import StandardScaler\n",
    "scaler = StandardScaler()\n",
    "x_scaled = pd.DataFrame(scaler.fit_transform(x),columns=x.columns)\n",
    "x_scaled"
   ]
  },
  {
   "cell_type": "markdown",
   "id": "0ac83556",
   "metadata": {},
   "source": [
    "# <span style=\"color:red\">****Detecting Multicollinearity Using a Variance Inflation Factor (VIF)****"
   ]
  },
  {
   "cell_type": "code",
   "execution_count": 272,
   "id": "e5fec58e",
   "metadata": {},
   "outputs": [
    {
     "data": {
      "text/html": [
       "<div>\n",
       "<style scoped>\n",
       "    .dataframe tbody tr th:only-of-type {\n",
       "        vertical-align: middle;\n",
       "    }\n",
       "\n",
       "    .dataframe tbody tr th {\n",
       "        vertical-align: top;\n",
       "    }\n",
       "\n",
       "    .dataframe thead th {\n",
       "        text-align: right;\n",
       "    }\n",
       "</style>\n",
       "<table border=\"1\" class=\"dataframe\">\n",
       "  <thead>\n",
       "    <tr style=\"text-align: right;\">\n",
       "      <th></th>\n",
       "      <th>VIF</th>\n",
       "      <th>Features</th>\n",
       "    </tr>\n",
       "  </thead>\n",
       "  <tbody>\n",
       "    <tr>\n",
       "      <th>0</th>\n",
       "      <td>3.129605</td>\n",
       "      <td>fixed acidity</td>\n",
       "    </tr>\n",
       "    <tr>\n",
       "      <th>1</th>\n",
       "      <td>1.757435</td>\n",
       "      <td>volatile acidity</td>\n",
       "    </tr>\n",
       "    <tr>\n",
       "      <th>2</th>\n",
       "      <td>2.905556</td>\n",
       "      <td>citric acid</td>\n",
       "    </tr>\n",
       "    <tr>\n",
       "      <th>3</th>\n",
       "      <td>2.445560</td>\n",
       "      <td>free sulfur dioxide</td>\n",
       "    </tr>\n",
       "    <tr>\n",
       "      <th>4</th>\n",
       "      <td>2.505528</td>\n",
       "      <td>total sulfur dioxide</td>\n",
       "    </tr>\n",
       "    <tr>\n",
       "      <th>5</th>\n",
       "      <td>2.220296</td>\n",
       "      <td>pH</td>\n",
       "    </tr>\n",
       "    <tr>\n",
       "      <th>6</th>\n",
       "      <td>1.208862</td>\n",
       "      <td>sulphates</td>\n",
       "    </tr>\n",
       "  </tbody>\n",
       "</table>\n",
       "</div>"
      ],
      "text/plain": [
       "        VIF              Features\n",
       "0  3.129605         fixed acidity\n",
       "1  1.757435      volatile acidity\n",
       "2  2.905556           citric acid\n",
       "3  2.445560   free sulfur dioxide\n",
       "4  2.505528  total sulfur dioxide\n",
       "5  2.220296                    pH\n",
       "6  1.208862             sulphates"
      ]
     },
     "execution_count": 272,
     "metadata": {},
     "output_type": "execute_result"
    }
   ],
   "source": [
    "#finding VIF in each scaled column i.e x_scaled.shape[1](1/1- R^2 )\n",
    "\n",
    "from statsmodels.stats.outliers_influence import variance_inflation_factor\n",
    "vif=pd.DataFrame()\n",
    "\n",
    "vif[\"VIF\"] = [variance_inflation_factor(x_scaled.values, i) for i in range(len(x_scaled.columns))]\n",
    "vif[\"Features\"] = x_scaled.columns\n",
    "\n",
    "vif"
   ]
  },
  {
   "cell_type": "markdown",
   "id": "a1564954",
   "metadata": {},
   "source": [
    "<span style=\"color:green\">Conclusion -There is no case of multicollinearity"
   ]
  },
  {
   "cell_type": "markdown",
   "id": "6da1483c",
   "metadata": {},
   "source": [
    "# <span style=\"color:red\">****Data Balance by Oversampling****"
   ]
  },
  {
   "cell_type": "code",
   "execution_count": 273,
   "id": "26b644f3",
   "metadata": {},
   "outputs": [],
   "source": [
    "from imblearn.over_sampling import SMOTE\n",
    "SM = SMOTE()\n",
    "x1,y1 = SM.fit_resample(x_scaled,y)"
   ]
  },
  {
   "cell_type": "code",
   "execution_count": 274,
   "id": "4fb24922",
   "metadata": {},
   "outputs": [
    {
     "data": {
      "text/plain": [
       "0    1063\n",
       "1    1063\n",
       "Name: quality, dtype: int64"
      ]
     },
     "execution_count": 274,
     "metadata": {},
     "output_type": "execute_result"
    }
   ],
   "source": [
    "y1.value_counts()"
   ]
  },
  {
   "cell_type": "markdown",
   "id": "85dd746c",
   "metadata": {},
   "source": [
    "<span style=\"color:green\">Conclusion -Hence Data is balanced ."
   ]
  },
  {
   "cell_type": "markdown",
   "id": "2ed767bc",
   "metadata": {},
   "source": [
    "# <span style=\"color:red\">****Split the data into training and testing sets****"
   ]
  },
  {
   "cell_type": "code",
   "execution_count": 277,
   "id": "c6c29659",
   "metadata": {},
   "outputs": [
    {
     "name": "stdout",
     "output_type": "stream",
     "text": [
      "Total Size Of Feature in Dataset : (2126, 7)\n",
      "Total Size Of Training Feature Dataset :  (1488, 7)\n",
      "Total Size Of Testing Feature Dataset :  (638, 7)\n",
      "Total Size Of Label in Dataset : (2126,)\n",
      "Total Size Of Training Label Dataset :  (1488,)\n",
      "Total Size Of Testing Label Dataset :  (638,)\n"
     ]
    }
   ],
   "source": [
    "# Split the data into training and testing sets \n",
    "from sklearn.model_selection import train_test_split\n",
    "\n",
    "x_train,x_test,y_train,y_test = train_test_split (x1, y1, test_size = .30, random_state = 48)\n",
    "print(\"Total Size Of Feature in Dataset :\",x1.shape)\n",
    "print(\"Total Size Of Training Feature Dataset : \" ,x_train.shape)\n",
    "print(\"Total Size Of Testing Feature Dataset : \", x_test.shape)\n",
    "\n",
    "print(\"Total Size Of Label in Dataset :\",y1.shape)\n",
    "print(\"Total Size Of Training Label Dataset : \" ,y_train.shape)\n",
    "print(\"Total Size Of Testing Label Dataset : \", y_test.shape)"
   ]
  },
  {
   "cell_type": "markdown",
   "id": "ad5c90eb",
   "metadata": {},
   "source": [
    "# <span style=\"color:red\">****------------------Models--------------------****"
   ]
  },
  {
   "cell_type": "markdown",
   "id": "80942f24",
   "metadata": {},
   "source": [
    "# Logistic Regression"
   ]
  },
  {
   "cell_type": "code",
   "execution_count": 287,
   "id": "6d444999",
   "metadata": {},
   "outputs": [
    {
     "name": "stdout",
     "output_type": "stream",
     "text": [
      "Accuracy: 0.7711598746081505\n",
      "Confusion Matrix:\n",
      " [[235  81]\n",
      " [ 65 257]]\n",
      "Classification Report:\n",
      "               precision    recall  f1-score   support\n",
      "\n",
      "           0       0.78      0.74      0.76       316\n",
      "           1       0.76      0.80      0.78       322\n",
      "\n",
      "    accuracy                           0.77       638\n",
      "   macro avg       0.77      0.77      0.77       638\n",
      "weighted avg       0.77      0.77      0.77       638\n",
      "\n"
     ]
    }
   ],
   "source": [
    "from sklearn.linear_model import LogisticRegression\n",
    "# Create a logistic regression model\n",
    "logreg = LogisticRegression()\n",
    "\n",
    "# Fit the model on the training data\n",
    "logreg.fit(x_train, y_train)\n",
    "\n",
    "# Predict the target variable for the test data\n",
    "y_pred = logreg.predict(x_test) \n",
    "\n",
    "# Model Evaluation\n",
    "from sklearn.metrics import accuracy_score, confusion_matrix, classification_report, roc_curve, roc_auc_score\n",
    "# Evaluate the model's performance\n",
    "print(\"Accuracy:\", accuracy_score(y_test, y_pred))\n",
    "print(\"Confusion Matrix:\\n\", confusion_matrix(y_test, y_pred))\n",
    "print(\"Classification Report:\\n\", classification_report(y_test, y_pred))"
   ]
  },
  {
   "cell_type": "markdown",
   "id": "aa7beee4",
   "metadata": {},
   "source": [
    "# XGBClassifier"
   ]
  },
  {
   "cell_type": "code",
   "execution_count": 286,
   "id": "ee745882",
   "metadata": {},
   "outputs": [
    {
     "name": "stdout",
     "output_type": "stream",
     "text": [
      "Accuracy: 0.9106583072100314\n",
      "Confusion Matrix:\n",
      " [[276  40]\n",
      " [ 17 305]]\n",
      "Classification Report:\n",
      "               precision    recall  f1-score   support\n",
      "\n",
      "           0       0.94      0.87      0.91       316\n",
      "           1       0.88      0.95      0.91       322\n",
      "\n",
      "    accuracy                           0.91       638\n",
      "   macro avg       0.91      0.91      0.91       638\n",
      "weighted avg       0.91      0.91      0.91       638\n",
      "\n"
     ]
    }
   ],
   "source": [
    "from xgboost import XGBClassifier\n",
    "xgb = XGBClassifier(use_label_encoder=False, eval_metric='mlogloss')\n",
    "xgb.fit(x_train, y_train)\n",
    "y_pred = xgb.predict(x_test)\n",
    "\n",
    "# Model Evaluation\n",
    "from sklearn.metrics import accuracy_score, confusion_matrix, classification_report, roc_curve, roc_auc_score\n",
    "# Evaluate the model's performance\n",
    "print(\"Accuracy:\", accuracy_score(y_test, y_pred))\n",
    "print(\"Confusion Matrix:\\n\", confusion_matrix(y_test, y_pred))\n",
    "print(\"Classification Report:\\n\", classification_report(y_test, y_pred))"
   ]
  },
  {
   "cell_type": "markdown",
   "id": "492c503b",
   "metadata": {},
   "source": [
    "#  KNNClassifier"
   ]
  },
  {
   "cell_type": "code",
   "execution_count": 288,
   "id": "cfdb46f9",
   "metadata": {},
   "outputs": [
    {
     "name": "stdout",
     "output_type": "stream",
     "text": [
      "Accuracy: 0.8620689655172413\n",
      "Confusion Matrix:\n",
      " [[236  80]\n",
      " [  8 314]]\n",
      "Classification Report:\n",
      "               precision    recall  f1-score   support\n",
      "\n",
      "           0       0.97      0.75      0.84       316\n",
      "           1       0.80      0.98      0.88       322\n",
      "\n",
      "    accuracy                           0.86       638\n",
      "   macro avg       0.88      0.86      0.86       638\n",
      "weighted avg       0.88      0.86      0.86       638\n",
      "\n"
     ]
    }
   ],
   "source": [
    "from sklearn.neighbors import KNeighborsClassifier\n",
    "knn= KNeighborsClassifier()\n",
    "knn.fit(x_train, y_train)\n",
    "y_pred = knn.predict (x_test)\n",
    "\n",
    "# Model Evaluation\n",
    "from sklearn.metrics import accuracy_score, confusion_matrix, classification_report, roc_curve, roc_auc_score\n",
    "# Evaluate the model's performance\n",
    "print(\"Accuracy:\", accuracy_score(y_test, y_pred))\n",
    "print(\"Confusion Matrix:\\n\", confusion_matrix(y_test, y_pred))\n",
    "print(\"Classification Report:\\n\", classification_report(y_test, y_pred))"
   ]
  },
  {
   "cell_type": "markdown",
   "id": "3734231b",
   "metadata": {},
   "source": [
    "#  Decision Tree Classifier"
   ]
  },
  {
   "cell_type": "code",
   "execution_count": 289,
   "id": "1cf5cf2d",
   "metadata": {},
   "outputs": [
    {
     "name": "stdout",
     "output_type": "stream",
     "text": [
      "Accuracy: 0.8448275862068966\n",
      "Confusion Matrix:\n",
      " [[254  62]\n",
      " [ 37 285]]\n",
      "Classification Report:\n",
      "               precision    recall  f1-score   support\n",
      "\n",
      "           0       0.87      0.80      0.84       316\n",
      "           1       0.82      0.89      0.85       322\n",
      "\n",
      "    accuracy                           0.84       638\n",
      "   macro avg       0.85      0.84      0.84       638\n",
      "weighted avg       0.85      0.84      0.84       638\n",
      "\n"
     ]
    }
   ],
   "source": [
    "from sklearn.tree import DecisionTreeClassifier\n",
    "dtc = DecisionTreeClassifier()\n",
    "dtc.fit(x_train, y_train)\n",
    "y_pred = dtc.predict (x_test)\n",
    "\n",
    "# Model Evaluation\n",
    "from sklearn.metrics import accuracy_score, confusion_matrix, classification_report, roc_curve, roc_auc_score\n",
    "# Evaluate the model's performance\n",
    "print(\"Accuracy:\", accuracy_score(y_test, y_pred))\n",
    "print(\"Confusion Matrix:\\n\", confusion_matrix(y_test, y_pred))\n",
    "print(\"Classification Report:\\n\", classification_report(y_test, y_pred))"
   ]
  },
  {
   "cell_type": "markdown",
   "id": "d8490633",
   "metadata": {},
   "source": [
    "# SVM"
   ]
  },
  {
   "cell_type": "code",
   "execution_count": 291,
   "id": "df47c2dc",
   "metadata": {},
   "outputs": [
    {
     "name": "stdout",
     "output_type": "stream",
     "text": [
      "Accuracy: 0.8463949843260188\n",
      "Confusion Matrix:\n",
      " [[241  75]\n",
      " [ 23 299]]\n",
      "Classification Report:\n",
      "               precision    recall  f1-score   support\n",
      "\n",
      "           0       0.91      0.76      0.83       316\n",
      "           1       0.80      0.93      0.86       322\n",
      "\n",
      "    accuracy                           0.85       638\n",
      "   macro avg       0.86      0.85      0.85       638\n",
      "weighted avg       0.86      0.85      0.85       638\n",
      "\n"
     ]
    }
   ],
   "source": [
    "from sklearn.svm import SVC\n",
    "svc = SVC()\n",
    "svc.fit(x_train, y_train)\n",
    "y_pred = svc.predict (x_test)\n",
    "\n",
    "# Model Evaluation\n",
    "from sklearn.metrics import accuracy_score, confusion_matrix, classification_report, roc_curve, roc_auc_score\n",
    "# Evaluate the model's performance\n",
    "print(\"Accuracy:\", accuracy_score(y_test, y_pred))\n",
    "print(\"Confusion Matrix:\\n\", confusion_matrix(y_test, y_pred))\n",
    "print(\"Classification Report:\\n\", classification_report(y_test, y_pred))"
   ]
  },
  {
   "cell_type": "markdown",
   "id": "5acdeceb",
   "metadata": {},
   "source": [
    "# AdaBoostClassifier"
   ]
  },
  {
   "cell_type": "code",
   "execution_count": 292,
   "id": "b80a2d03",
   "metadata": {},
   "outputs": [
    {
     "name": "stdout",
     "output_type": "stream",
     "text": [
      "Accuracy: 0.8385579937304075\n",
      "Confusion Matrix:\n",
      " [[260  56]\n",
      " [ 47 275]]\n",
      "Classification Report:\n",
      "               precision    recall  f1-score   support\n",
      "\n",
      "           0       0.85      0.82      0.83       316\n",
      "           1       0.83      0.85      0.84       322\n",
      "\n",
      "    accuracy                           0.84       638\n",
      "   macro avg       0.84      0.84      0.84       638\n",
      "weighted avg       0.84      0.84      0.84       638\n",
      "\n"
     ]
    }
   ],
   "source": [
    "from sklearn.ensemble import AdaBoostClassifier\n",
    "ada = AdaBoostClassifier()\n",
    "ada.fit(x_train, y_train)\n",
    "y_pred = ada.predict (x_test)\n",
    "\n",
    "# Model Evaluation\n",
    "from sklearn.metrics import accuracy_score, confusion_matrix, classification_report, roc_curve, roc_auc_score\n",
    "# Evaluate the model's performance\n",
    "print(\"Accuracy:\", accuracy_score(y_test, y_pred))\n",
    "print(\"Confusion Matrix:\\n\", confusion_matrix(y_test, y_pred))\n",
    "print(\"Classification Report:\\n\", classification_report(y_test, y_pred))"
   ]
  },
  {
   "cell_type": "markdown",
   "id": "0fe51889",
   "metadata": {},
   "source": [
    "# RandomForest Classifier"
   ]
  },
  {
   "cell_type": "code",
   "execution_count": 293,
   "id": "ef22d048",
   "metadata": {},
   "outputs": [
    {
     "name": "stdout",
     "output_type": "stream",
     "text": [
      "Accuracy: 0.9059561128526645\n",
      "Confusion Matrix:\n",
      " [[276  40]\n",
      " [ 20 302]]\n",
      "Classification Report:\n",
      "               precision    recall  f1-score   support\n",
      "\n",
      "           0       0.93      0.87      0.90       316\n",
      "           1       0.88      0.94      0.91       322\n",
      "\n",
      "    accuracy                           0.91       638\n",
      "   macro avg       0.91      0.91      0.91       638\n",
      "weighted avg       0.91      0.91      0.91       638\n",
      "\n"
     ]
    }
   ],
   "source": [
    "from sklearn.ensemble import RandomForestClassifier\n",
    "RFC = RandomForestClassifier()\n",
    "RFC.fit(x_train, y_train)\n",
    "y_pred = RFC.predict(x_test)\n",
    "\n",
    "# Model Evaluation\n",
    "from sklearn.metrics import accuracy_score, confusion_matrix, classification_report, roc_curve, roc_auc_score\n",
    "# Evaluate the model's performance\n",
    "print(\"Accuracy:\", accuracy_score(y_test, y_pred))\n",
    "print(\"Confusion Matrix:\\n\", confusion_matrix(y_test, y_pred))\n",
    "print(\"Classification Report:\\n\", classification_report(y_test, y_pred))"
   ]
  },
  {
   "cell_type": "markdown",
   "id": "58d1155e",
   "metadata": {},
   "source": [
    "# <span style=\"color:green\">Here we see that XGBClassifier works the best in this dataset with accuracy 91%."
   ]
  },
  {
   "cell_type": "markdown",
   "id": "699248a7",
   "metadata": {},
   "source": [
    "<span style=\"color:red\">****AUC- RUC Curve**** "
   ]
  },
  {
   "cell_type": "code",
   "execution_count": 294,
   "id": "571144ab",
   "metadata": {},
   "outputs": [],
   "source": [
    "from sklearn.metrics import roc_curve, roc_auc_score\n",
    "from sklearn.metrics import plot_roc_curve"
   ]
  },
  {
   "cell_type": "code",
   "execution_count": 297,
   "id": "55bbe8e8",
   "metadata": {},
   "outputs": [
    {
     "data": {
      "image/png": "[encoded data removed]",
      "text/plain": [
       "<Figure size 432x288 with 1 Axes>"
      ]
     },
     "metadata": {
      "needs_background": "light"
     },
     "output_type": "display_data"
    }
   ],
   "source": [
    "#For Training Data\n",
    "disp = plot_roc_curve (xgb, x_train, y_train)\n",
    "plot_roc_curve (logreg, x_train, y_train, ax = disp.ax_)\n",
    "plot_roc_curve (knn, x_train, y_train, ax = disp.ax_)\n",
    "plot_roc_curve (dtc, x_train, y_train, ax = disp.ax_)\n",
    "plot_roc_curve (svc, x_train, y_train, ax = disp.ax_)\n",
    "plot_roc_curve (ada, x_train, y_train, ax = disp.ax_)\n",
    "plot_roc_curve (RFC, x_train, y_train, ax = disp.ax_)\n",
    "\n",
    "plt.legend (prop = {'size' : 10}, loc = 'lower right')\n",
    "plt.show()"
   ]
  },
  {
   "cell_type": "code",
   "execution_count": 298,
   "id": "9a84de91",
   "metadata": {},
   "outputs": [
    {
     "data": {
      "image/png": "[encoded data removed]",
      "text/plain": [
       "<Figure size 432x288 with 1 Axes>"
      ]
     },
     "metadata": {
      "needs_background": "light"
     },
     "output_type": "display_data"
    }
   ],
   "source": [
    "#For Tetsing Data\n",
    "disp = plot_roc_curve (xgb, x_test, y_test)\n",
    "plot_roc_curve (logreg, x_test, y_test, ax = disp.ax_)\n",
    "plot_roc_curve (knn, x_test, y_test, ax = disp.ax_)\n",
    "plot_roc_curve (dtc, x_test, y_test, ax = disp.ax_)\n",
    "plot_roc_curve (svc, x_test, y_test, ax = disp.ax_)\n",
    "plot_roc_curve (ada, x_test, y_test, ax = disp.ax_)\n",
    "plot_roc_curve (RFC, x_test, y_test, ax = disp.ax_)\n",
    "\n",
    "plt.legend (prop = {'size' : 10}, loc = 'lower right')\n",
    "plt.show()"
   ]
  },
  {
   "cell_type": "markdown",
   "id": "0e3f6a18",
   "metadata": {},
   "source": [
    "#  <span style=\"color:green\">Clearly XGB Classifier is the best in this dataset"
   ]
  },
  {
   "cell_type": "markdown",
   "id": "eb0209b5",
   "metadata": {},
   "source": [
    "<span style=\"color:red\">****Hyper Parameter Tuning****"
   ]
  },
  {
   "cell_type": "code",
   "execution_count": 300,
   "id": "f47597a3",
   "metadata": {},
   "outputs": [],
   "source": [
    "from sklearn.model_selection import GridSearchCV, KFold\n",
    "\n",
    "params = {\n",
    "    'n_estimators': [100, 200, 500],\n",
    "    'learning_rate': [0.01,0.05,0.1],\n",
    "    'booster': ['gbtree', 'gblinear'],\n",
    "    'gamma': [0, 0.5, 1],\n",
    "    'reg_alpha': [0, 0.5, 1],\n",
    "    'reg_lambda': [0.5, 1, 5],\n",
    "    'base_score': [0.2, 0.5, 1]\n",
    "}"
   ]
  },
  {
   "cell_type": "code",
   "execution_count": 301,
   "id": "6001dc09",
   "metadata": {},
   "outputs": [
    {
     "name": "stdout",
     "output_type": "stream",
     "text": [
      "Best score: 0.8918010752688171\n",
      "Best score: {'base_score': 0.5, 'booster': 'gbtree', 'gamma': 0, 'learning_rate': 0.1, 'n_estimators': 500, 'reg_alpha': 0, 'reg_lambda': 1}\n"
     ]
    }
   ],
   "source": [
    "gs2 = GridSearchCV(XGBClassifier(n_jobs=-1), params, n_jobs=-1, cv=KFold(n_splits=3))\n",
    "gs2.fit(x_train, y_train)\n",
    "\n",
    "print('Best score:', gs2.best_score_)\n",
    "print('Best score:', gs2.best_params_)"
   ]
  },
  {
   "cell_type": "code",
   "execution_count": 302,
   "id": "da8d158b",
   "metadata": {},
   "outputs": [
    {
     "name": "stdout",
     "output_type": "stream",
     "text": [
      "[08:58:53] WARNING: C:\\buildkite-agent\\builds\\buildkite-windows-cpu-autoscaling-group-i-07593ffd91cd9da33-1\\xgboost\\xgboost-ci-windows\\src\\learner.cc:767: \n",
      "Parameters: { \"n_estimator\", \"reg_aplha\", \"reg_lamdba\" } are not used.\n",
      "\n"
     ]
    }
   ],
   "source": [
    "xgb = XGBClassifier(n_estimator = 500, base_score = 0.5,learning_rate = 0.1, reg_aplha = 0, reg_lamdba = 0.5)\n",
    "xgb.fit(x_train, y_train)\n",
    "y_pred = xgb.predict (x_test)"
   ]
  },
  {
   "cell_type": "code",
   "execution_count": 303,
   "id": "c712e83a",
   "metadata": {},
   "outputs": [
    {
     "data": {
      "text/plain": [
       "0.9059561128526645"
      ]
     },
     "execution_count": 303,
     "metadata": {},
     "output_type": "execute_result"
    }
   ],
   "source": [
    "accuracy = accuracy_score(y_test, y_pred)\n",
    "accuracy"
   ]
  },
  {
   "cell_type": "markdown",
   "id": "a51defbc",
   "metadata": {},
   "source": [
    "<span style=\"color:red\">****The Accuracy is Same as before****"
   ]
  },
  {
   "cell_type": "markdown",
   "id": "0a13d9bf",
   "metadata": {},
   "source": [
    "# <span style=\"color:green\">Conclusion- "
   ]
  },
  {
   "cell_type": "markdown",
   "id": "f2142a67",
   "metadata": {},
   "source": [
    "<span style=\"color:green\">Based on the analysis performed on the Vinho Verde wine dataset, a classification model was built to predict\n",
    "the quality of wine based on its physicochemical properties. The model XGB Classifier achieved an accuracy of 91%, which suggests that it is only slightly better than RandomForestClassifie in predicting the quality of wine\n",
    "XGB Classifier performs best to predict the wine quality."
   ]
  },
  {
   "cell_type": "code",
   "execution_count": null,
   "id": "f8e7ad68",
   "metadata": {},
   "outputs": [],
   "source": []
  },
  {
   "cell_type": "code",
   "execution_count": null,
   "id": "551f0db3",
   "metadata": {},
   "outputs": [],
   "source": []
  }
 ],
 "metadata": {
  "kernelspec": {
   "display_name": "Python 3 (ipykernel)",
   "language": "python",
   "name": "python3"
  },
  "language_info": {
   "codemirror_mode": {
    "name": "ipython",
    "version": 3
   },
   "file_extension": ".py",
   "mimetype": "text/x-python",
   "name": "python",
   "nbconvert_exporter": "python",
   "pygments_lexer": "ipython3",
   "version": "3.9.12"
  }
 },
 "nbformat": 4,
 "nbformat_minor": 5
}
