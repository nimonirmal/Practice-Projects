{
 "cells": [
  {
   "cell_type": "markdown",
   "id": "3e60d9af",
   "metadata": {},
   "source": [
    "# <span style=\"color:Brown\">World Happiness Report"
   ]
  },
  {
   "cell_type": "markdown",
   "id": "57da9e4b",
   "metadata": {},
   "source": [
    "# <span style=\"color:green\">Project Description    \n",
    "    \n",
    "The World Happiness Report is a landmark survey of the state of global happiness. The first report was published in 2012, the second in 2013, the third in 2015, and the fourth in the 2016 Update. The World Happiness 2017, which ranks 155 countries by their happiness levels, was released at the United Nations at an event celebrating International Day of Happiness on March 20th. The report continues to gain global recognition as governments, organizations and civil society increasingly use happiness indicators to inform their policy-making decisions. Leading experts across fields – economics, psychology, survey analysis, national statistics, health, public policy and more – describe how measurements of well-being can be used effectively to assess the progress of nations. The reports review the state of happiness in the world today and show how the new science of happiness explains personal and national variations in happiness.\n"
   ]
  },
  {
   "cell_type": "markdown",
   "id": "bcd1adf7",
   "metadata": {},
   "source": [
    "What is Dystopia?                        \n",
    "Dystopia is an imaginary country that has the world’s least-happy people. The purpose in establishing Dystopia is to have a benchmark against which all countries can be favorably compared (no country performs more poorly than Dystopia) in terms of each of the six key variables, thus allowing each sub-bar to be of positive width. The lowest scores observed for the six key variables, therefore, characterize Dystopia. Since life would be very unpleasant in a country with the world’s lowest incomes, lowest life expectancy, lowest generosity, most corruption, least freedom and least social support, it is referred to as “Dystopia,” in contrast to Utopia\n"
   ]
  },
  {
   "cell_type": "markdown",
   "id": "45412a34",
   "metadata": {},
   "source": [
    "What are the residuals?                     \n",
    "The residuals, or unexplained components, differ for each country, reflecting the extent to which the six variables either over- or under-explain average life evaluations. These residuals have an average value of approximately zero over the whole set of countries\n"
   ]
  },
  {
   "cell_type": "markdown",
   "id": "eca591f1",
   "metadata": {},
   "source": [
    "What do the columns succeeding the Happiness Score(like Family, Generosity, etc.) describe?               \n",
    "The following columns: GDP per Capita, Family, Life Expectancy, Freedom, Generosity, Trust Government Corruption describe the extent to which these factors contribute in evaluating the happiness in each country.              \n",
    "The Dystopia Residual metric actually is the Dystopia Happiness Score(1.85) + the Residual value or the unexplained value for each country.               \n",
    "The Dystopia Residual is already provided in the dataset.                               \n",
    "If you add all these factors up, you get the happiness score so it might be un-reliable to model them to predict Happiness Scores.\n"
   ]
  },
  {
   "cell_type": "markdown",
   "id": "ceb070a8",
   "metadata": {},
   "source": [
    "You need to predict the happiness score considering all the other factors mentioned in the dataset"
   ]
  },
  {
   "cell_type": "markdown",
   "id": "8535066d",
   "metadata": {},
   "source": [
    "<span style=\"color:purple\">****We have to predict Happiness score. Happiness score is our target variable and continious in nature .It is clearly a Regression problem which scaled from (0-10)score  .**** "
   ]
  },
  {
   "cell_type": "markdown",
   "id": "f2d9c145",
   "metadata": {},
   "source": [
    "<span style=\"color:red\">****# Importing Necessary Libraries****"
   ]
  },
  {
   "cell_type": "code",
   "execution_count": 1,
   "id": "ce67d5fa",
   "metadata": {},
   "outputs": [],
   "source": [
    "import numpy as np\n",
    "import pandas as pd\n",
    "import seaborn as sns\n",
    "import matplotlib.pyplot as plt\n",
    "\n",
    "import warnings\n",
    "warnings.filterwarnings('ignore')"
   ]
  },
  {
   "cell_type": "code",
   "execution_count": 2,
   "id": "0c1dc3ef",
   "metadata": {},
   "outputs": [
    {
     "data": {
      "text/html": [
       "<div>\n",
       "<style scoped>\n",
       "    .dataframe tbody tr th:only-of-type {\n",
       "        vertical-align: middle;\n",
       "    }\n",
       "\n",
       "    .dataframe tbody tr th {\n",
       "        vertical-align: top;\n",
       "    }\n",
       "\n",
       "    .dataframe thead th {\n",
       "        text-align: right;\n",
       "    }\n",
       "</style>\n",
       "<table border=\"1\" class=\"dataframe\">\n",
       "  <thead>\n",
       "    <tr style=\"text-align: right;\">\n",
       "      <th></th>\n",
       "      <th>Country</th>\n",
       "      <th>Region</th>\n",
       "      <th>Happiness Rank</th>\n",
       "      <th>Happiness Score</th>\n",
       "      <th>Standard Error</th>\n",
       "      <th>Economy (GDP per Capita)</th>\n",
       "      <th>Family</th>\n",
       "      <th>Health (Life Expectancy)</th>\n",
       "      <th>Freedom</th>\n",
       "      <th>Trust (Government Corruption)</th>\n",
       "      <th>Generosity</th>\n",
       "      <th>Dystopia Residual</th>\n",
       "    </tr>\n",
       "  </thead>\n",
       "  <tbody>\n",
       "    <tr>\n",
       "      <th>0</th>\n",
       "      <td>Switzerland</td>\n",
       "      <td>Western Europe</td>\n",
       "      <td>1</td>\n",
       "      <td>7.587</td>\n",
       "      <td>0.03411</td>\n",
       "      <td>1.39651</td>\n",
       "      <td>1.34951</td>\n",
       "      <td>0.94143</td>\n",
       "      <td>0.66557</td>\n",
       "      <td>0.41978</td>\n",
       "      <td>0.29678</td>\n",
       "      <td>2.51738</td>\n",
       "    </tr>\n",
       "    <tr>\n",
       "      <th>1</th>\n",
       "      <td>Iceland</td>\n",
       "      <td>Western Europe</td>\n",
       "      <td>2</td>\n",
       "      <td>7.561</td>\n",
       "      <td>0.04884</td>\n",
       "      <td>1.30232</td>\n",
       "      <td>1.40223</td>\n",
       "      <td>0.94784</td>\n",
       "      <td>0.62877</td>\n",
       "      <td>0.14145</td>\n",
       "      <td>0.43630</td>\n",
       "      <td>2.70201</td>\n",
       "    </tr>\n",
       "    <tr>\n",
       "      <th>2</th>\n",
       "      <td>Denmark</td>\n",
       "      <td>Western Europe</td>\n",
       "      <td>3</td>\n",
       "      <td>7.527</td>\n",
       "      <td>0.03328</td>\n",
       "      <td>1.32548</td>\n",
       "      <td>1.36058</td>\n",
       "      <td>0.87464</td>\n",
       "      <td>0.64938</td>\n",
       "      <td>0.48357</td>\n",
       "      <td>0.34139</td>\n",
       "      <td>2.49204</td>\n",
       "    </tr>\n",
       "    <tr>\n",
       "      <th>3</th>\n",
       "      <td>Norway</td>\n",
       "      <td>Western Europe</td>\n",
       "      <td>4</td>\n",
       "      <td>7.522</td>\n",
       "      <td>0.03880</td>\n",
       "      <td>1.45900</td>\n",
       "      <td>1.33095</td>\n",
       "      <td>0.88521</td>\n",
       "      <td>0.66973</td>\n",
       "      <td>0.36503</td>\n",
       "      <td>0.34699</td>\n",
       "      <td>2.46531</td>\n",
       "    </tr>\n",
       "    <tr>\n",
       "      <th>4</th>\n",
       "      <td>Canada</td>\n",
       "      <td>North America</td>\n",
       "      <td>5</td>\n",
       "      <td>7.427</td>\n",
       "      <td>0.03553</td>\n",
       "      <td>1.32629</td>\n",
       "      <td>1.32261</td>\n",
       "      <td>0.90563</td>\n",
       "      <td>0.63297</td>\n",
       "      <td>0.32957</td>\n",
       "      <td>0.45811</td>\n",
       "      <td>2.45176</td>\n",
       "    </tr>\n",
       "    <tr>\n",
       "      <th>...</th>\n",
       "      <td>...</td>\n",
       "      <td>...</td>\n",
       "      <td>...</td>\n",
       "      <td>...</td>\n",
       "      <td>...</td>\n",
       "      <td>...</td>\n",
       "      <td>...</td>\n",
       "      <td>...</td>\n",
       "      <td>...</td>\n",
       "      <td>...</td>\n",
       "      <td>...</td>\n",
       "      <td>...</td>\n",
       "    </tr>\n",
       "    <tr>\n",
       "      <th>153</th>\n",
       "      <td>Rwanda</td>\n",
       "      <td>Sub-Saharan Africa</td>\n",
       "      <td>154</td>\n",
       "      <td>3.465</td>\n",
       "      <td>0.03464</td>\n",
       "      <td>0.22208</td>\n",
       "      <td>0.77370</td>\n",
       "      <td>0.42864</td>\n",
       "      <td>0.59201</td>\n",
       "      <td>0.55191</td>\n",
       "      <td>0.22628</td>\n",
       "      <td>0.67042</td>\n",
       "    </tr>\n",
       "    <tr>\n",
       "      <th>154</th>\n",
       "      <td>Benin</td>\n",
       "      <td>Sub-Saharan Africa</td>\n",
       "      <td>155</td>\n",
       "      <td>3.340</td>\n",
       "      <td>0.03656</td>\n",
       "      <td>0.28665</td>\n",
       "      <td>0.35386</td>\n",
       "      <td>0.31910</td>\n",
       "      <td>0.48450</td>\n",
       "      <td>0.08010</td>\n",
       "      <td>0.18260</td>\n",
       "      <td>1.63328</td>\n",
       "    </tr>\n",
       "    <tr>\n",
       "      <th>155</th>\n",
       "      <td>Syria</td>\n",
       "      <td>Middle East and Northern Africa</td>\n",
       "      <td>156</td>\n",
       "      <td>3.006</td>\n",
       "      <td>0.05015</td>\n",
       "      <td>0.66320</td>\n",
       "      <td>0.47489</td>\n",
       "      <td>0.72193</td>\n",
       "      <td>0.15684</td>\n",
       "      <td>0.18906</td>\n",
       "      <td>0.47179</td>\n",
       "      <td>0.32858</td>\n",
       "    </tr>\n",
       "    <tr>\n",
       "      <th>156</th>\n",
       "      <td>Burundi</td>\n",
       "      <td>Sub-Saharan Africa</td>\n",
       "      <td>157</td>\n",
       "      <td>2.905</td>\n",
       "      <td>0.08658</td>\n",
       "      <td>0.01530</td>\n",
       "      <td>0.41587</td>\n",
       "      <td>0.22396</td>\n",
       "      <td>0.11850</td>\n",
       "      <td>0.10062</td>\n",
       "      <td>0.19727</td>\n",
       "      <td>1.83302</td>\n",
       "    </tr>\n",
       "    <tr>\n",
       "      <th>157</th>\n",
       "      <td>Togo</td>\n",
       "      <td>Sub-Saharan Africa</td>\n",
       "      <td>158</td>\n",
       "      <td>2.839</td>\n",
       "      <td>0.06727</td>\n",
       "      <td>0.20868</td>\n",
       "      <td>0.13995</td>\n",
       "      <td>0.28443</td>\n",
       "      <td>0.36453</td>\n",
       "      <td>0.10731</td>\n",
       "      <td>0.16681</td>\n",
       "      <td>1.56726</td>\n",
       "    </tr>\n",
       "  </tbody>\n",
       "</table>\n",
       "<p>158 rows × 12 columns</p>\n",
       "</div>"
      ],
      "text/plain": [
       "         Country                           Region  Happiness Rank  \\\n",
       "0    Switzerland                   Western Europe               1   \n",
       "1        Iceland                   Western Europe               2   \n",
       "2        Denmark                   Western Europe               3   \n",
       "3         Norway                   Western Europe               4   \n",
       "4         Canada                    North America               5   \n",
       "..           ...                              ...             ...   \n",
       "153       Rwanda               Sub-Saharan Africa             154   \n",
       "154        Benin               Sub-Saharan Africa             155   \n",
       "155        Syria  Middle East and Northern Africa             156   \n",
       "156      Burundi               Sub-Saharan Africa             157   \n",
       "157         Togo               Sub-Saharan Africa             158   \n",
       "\n",
       "     Happiness Score  Standard Error  Economy (GDP per Capita)   Family  \\\n",
       "0              7.587         0.03411                   1.39651  1.34951   \n",
       "1              7.561         0.04884                   1.30232  1.40223   \n",
       "2              7.527         0.03328                   1.32548  1.36058   \n",
       "3              7.522         0.03880                   1.45900  1.33095   \n",
       "4              7.427         0.03553                   1.32629  1.32261   \n",
       "..               ...             ...                       ...      ...   \n",
       "153            3.465         0.03464                   0.22208  0.77370   \n",
       "154            3.340         0.03656                   0.28665  0.35386   \n",
       "155            3.006         0.05015                   0.66320  0.47489   \n",
       "156            2.905         0.08658                   0.01530  0.41587   \n",
       "157            2.839         0.06727                   0.20868  0.13995   \n",
       "\n",
       "     Health (Life Expectancy)  Freedom  Trust (Government Corruption)  \\\n",
       "0                     0.94143  0.66557                        0.41978   \n",
       "1                     0.94784  0.62877                        0.14145   \n",
       "2                     0.87464  0.64938                        0.48357   \n",
       "3                     0.88521  0.66973                        0.36503   \n",
       "4                     0.90563  0.63297                        0.32957   \n",
       "..                        ...      ...                            ...   \n",
       "153                   0.42864  0.59201                        0.55191   \n",
       "154                   0.31910  0.48450                        0.08010   \n",
       "155                   0.72193  0.15684                        0.18906   \n",
       "156                   0.22396  0.11850                        0.10062   \n",
       "157                   0.28443  0.36453                        0.10731   \n",
       "\n",
       "     Generosity  Dystopia Residual  \n",
       "0       0.29678            2.51738  \n",
       "1       0.43630            2.70201  \n",
       "2       0.34139            2.49204  \n",
       "3       0.34699            2.46531  \n",
       "4       0.45811            2.45176  \n",
       "..          ...                ...  \n",
       "153     0.22628            0.67042  \n",
       "154     0.18260            1.63328  \n",
       "155     0.47179            0.32858  \n",
       "156     0.19727            1.83302  \n",
       "157     0.16681            1.56726  \n",
       "\n",
       "[158 rows x 12 columns]"
      ]
     },
     "execution_count": 2,
     "metadata": {},
     "output_type": "execute_result"
    }
   ],
   "source": [
    "#Importing Dataset\n",
    "df=pd.read_csv(\"https://raw.githubusercontent.com/dsrscientist/DSData/master/happiness_score_dataset.csv\")\n",
    "df"
   ]
  },
  {
   "cell_type": "code",
   "execution_count": 87,
   "id": "8f2898a6",
   "metadata": {},
   "outputs": [
    {
     "name": "stdout",
     "output_type": "stream",
     "text": [
      "The rows and columns in the dataset:(158, 12)\n",
      "\n",
      " The columns in the dataset:Index(['Country', 'Region', 'Happiness Rank', 'Happiness Score',\n",
      "       'Standard Error', 'Economy (GDP per Capita)', 'Family',\n",
      "       'Health (Life Expectancy)', 'Freedom', 'Trust (Government Corruption)',\n",
      "       'Generosity', 'Dystopia Residual'],\n",
      "      dtype='object')\n"
     ]
    }
   ],
   "source": [
    "print(f'The rows and columns in the dataset:{df.shape}')\n",
    "print(f'\\n The columns in the dataset:{df.columns}')"
   ]
  },
  {
   "cell_type": "code",
   "execution_count": 88,
   "id": "d18264a1",
   "metadata": {},
   "outputs": [],
   "source": [
    "#setting \"Happiness Rank\" as Dataframe Object \n",
    "df.set_index('Happiness Rank',inplace =True)"
   ]
  },
  {
   "cell_type": "code",
   "execution_count": 90,
   "id": "8f85ce79",
   "metadata": {},
   "outputs": [
    {
     "name": "stdout",
     "output_type": "stream",
     "text": [
      "<class 'pandas.core.frame.DataFrame'>\n",
      "Int64Index: 158 entries, 1 to 158\n",
      "Data columns (total 11 columns):\n",
      " #   Column                         Non-Null Count  Dtype  \n",
      "---  ------                         --------------  -----  \n",
      " 0   Country                        158 non-null    object \n",
      " 1   Region                         158 non-null    object \n",
      " 2   Happiness Score                158 non-null    float64\n",
      " 3   Standard Error                 158 non-null    float64\n",
      " 4   Economy (GDP per Capita)       158 non-null    float64\n",
      " 5   Family                         158 non-null    float64\n",
      " 6   Health (Life Expectancy)       158 non-null    float64\n",
      " 7   Freedom                        158 non-null    float64\n",
      " 8   Trust (Government Corruption)  158 non-null    float64\n",
      " 9   Generosity                     158 non-null    float64\n",
      " 10  Dystopia Residual              158 non-null    float64\n",
      "dtypes: float64(9), object(2)\n",
      "memory usage: 14.8+ KB\n"
     ]
    }
   ],
   "source": [
    "# getting all information of dataset \n",
    "df.info()"
   ]
  },
  {
   "cell_type": "markdown",
   "id": "25e6249d",
   "metadata": {},
   "source": [
    "<span style=\"color:BLUE\">Observation -There are three data types of present in  dataset:(object,float64,int64)               \n",
    "<span style=\"color:blue\">Observation - No null values are present in any column but there is possibility of \"blankspace\" or \"whitespace\" .                    \n",
    "Lets check with value count.    "
   ]
  },
  {
   "cell_type": "code",
   "execution_count": 91,
   "id": "08bf2ead",
   "metadata": {},
   "outputs": [
    {
     "name": "stdout",
     "output_type": "stream",
     "text": [
      "Switzerland    1\n",
      "Bangladesh     1\n",
      "Greece         1\n",
      "Lebanon        1\n",
      "Hungary        1\n",
      "              ..\n",
      "Kazakhstan     1\n",
      "Slovenia       1\n",
      "Lithuania      1\n",
      "Nicaragua      1\n",
      "Togo           1\n",
      "Name: Country, Length: 158, dtype: int64\n",
      "\n",
      "\n",
      "Sub-Saharan Africa                 40\n",
      "Central and Eastern Europe         29\n",
      "Latin America and Caribbean        22\n",
      "Western Europe                     21\n",
      "Middle East and Northern Africa    20\n",
      "Southeastern Asia                   9\n",
      "Southern Asia                       7\n",
      "Eastern Asia                        6\n",
      "North America                       2\n",
      "Australia and New Zealand           2\n",
      "Name: Region, dtype: int64\n",
      "\n",
      "\n",
      "5.192    2\n",
      "7.587    1\n",
      "4.686    1\n",
      "4.839    1\n",
      "4.800    1\n",
      "        ..\n",
      "5.855    1\n",
      "5.848    1\n",
      "5.833    1\n",
      "5.828    1\n",
      "2.839    1\n",
      "Name: Happiness Score, Length: 157, dtype: int64\n",
      "\n",
      "\n",
      "0.03780    2\n",
      "0.03751    2\n",
      "0.04394    2\n",
      "0.05051    2\n",
      "0.04934    2\n",
      "          ..\n",
      "0.04114    1\n",
      "0.04251    1\n",
      "0.03843    1\n",
      "0.05371    1\n",
      "0.06727    1\n",
      "Name: Standard Error, Length: 153, dtype: int64\n",
      "\n",
      "\n",
      "1.39651    1\n",
      "0.39753    1\n",
      "1.15406    1\n",
      "1.02564    1\n",
      "1.12094    1\n",
      "          ..\n",
      "1.12254    1\n",
      "1.18498    1\n",
      "1.14723    1\n",
      "0.59325    1\n",
      "0.20868    1\n",
      "Name: Economy (GDP per Capita), Length: 158, dtype: int64\n",
      "\n",
      "\n",
      "1.34951    1\n",
      "0.43106    1\n",
      "0.92933    1\n",
      "0.80001    1\n",
      "1.20215    1\n",
      "          ..\n",
      "1.12241    1\n",
      "1.27385    1\n",
      "1.25745    1\n",
      "1.14184    1\n",
      "0.13995    1\n",
      "Name: Family, Length: 158, dtype: int64\n",
      "\n",
      "\n",
      "0.92356    2\n",
      "0.94143    1\n",
      "0.60268    1\n",
      "0.88213    1\n",
      "0.83947    1\n",
      "          ..\n",
      "0.66098    1\n",
      "0.64368    1\n",
      "0.87337    1\n",
      "0.73128    1\n",
      "0.28443    1\n",
      "Name: Health (Life Expectancy), Length: 157, dtype: int64\n",
      "\n",
      "\n",
      "0.66557    1\n",
      "0.40820    1\n",
      "0.07699    1\n",
      "0.33916    1\n",
      "0.32112    1\n",
      "          ..\n",
      "0.51649    1\n",
      "0.60855    1\n",
      "0.21342    1\n",
      "0.55475    1\n",
      "0.36453    1\n",
      "Name: Freedom, Length: 158, dtype: int64\n",
      "\n",
      "\n",
      "0.32524    2\n",
      "0.07625    1\n",
      "0.01397    1\n",
      "0.04582    1\n",
      "0.02758    1\n",
      "          ..\n",
      "0.03787    1\n",
      "0.01031    1\n",
      "0.19317    1\n",
      "0.05989    1\n",
      "0.10731    1\n",
      "Name: Trust (Government Corruption), Length: 157, dtype: int64\n",
      "\n",
      "\n",
      "0.29678    1\n",
      "0.21222    1\n",
      "0.00000    1\n",
      "0.21854    1\n",
      "0.12800    1\n",
      "          ..\n",
      "0.11827    1\n",
      "0.25328    1\n",
      "0.02641    1\n",
      "0.27815    1\n",
      "0.16681    1\n",
      "Name: Generosity, Length: 158, dtype: int64\n",
      "\n",
      "\n",
      "2.51738    1\n",
      "2.51767    1\n",
      "1.80101    1\n",
      "1.57059    1\n",
      "1.24074    1\n",
      "          ..\n",
      "2.24729    1\n",
      "1.61583    1\n",
      "2.44649    1\n",
      "2.32407    1\n",
      "1.56726    1\n",
      "Name: Dystopia Residual, Length: 158, dtype: int64\n",
      "\n",
      "\n"
     ]
    }
   ],
   "source": [
    "#Checking the valuecount(i.e frequency of each value ) of each column \n",
    "for i in df.columns:\n",
    "    print(df[i].value_counts())\n",
    "    print(\"\\n\")"
   ]
  },
  {
   "cell_type": "markdown",
   "id": "51944f17",
   "metadata": {},
   "source": [
    "<span style=\"color:blue\">Observation - \"blankspace\" or \"whitespace\" are not present in any column."
   ]
  },
  {
   "cell_type": "code",
   "execution_count": 92,
   "id": "72181d48",
   "metadata": {},
   "outputs": [
    {
     "data": {
      "text/html": [
       "<div>\n",
       "<style scoped>\n",
       "    .dataframe tbody tr th:only-of-type {\n",
       "        vertical-align: middle;\n",
       "    }\n",
       "\n",
       "    .dataframe tbody tr th {\n",
       "        vertical-align: top;\n",
       "    }\n",
       "\n",
       "    .dataframe thead th {\n",
       "        text-align: right;\n",
       "    }\n",
       "</style>\n",
       "<table border=\"1\" class=\"dataframe\">\n",
       "  <thead>\n",
       "    <tr style=\"text-align: right;\">\n",
       "      <th></th>\n",
       "      <th>No. of unique value</th>\n",
       "    </tr>\n",
       "  </thead>\n",
       "  <tbody>\n",
       "    <tr>\n",
       "      <th>Country</th>\n",
       "      <td>158</td>\n",
       "    </tr>\n",
       "    <tr>\n",
       "      <th>Region</th>\n",
       "      <td>10</td>\n",
       "    </tr>\n",
       "    <tr>\n",
       "      <th>Happiness Score</th>\n",
       "      <td>157</td>\n",
       "    </tr>\n",
       "    <tr>\n",
       "      <th>Standard Error</th>\n",
       "      <td>153</td>\n",
       "    </tr>\n",
       "    <tr>\n",
       "      <th>Economy (GDP per Capita)</th>\n",
       "      <td>158</td>\n",
       "    </tr>\n",
       "    <tr>\n",
       "      <th>Family</th>\n",
       "      <td>158</td>\n",
       "    </tr>\n",
       "    <tr>\n",
       "      <th>Health (Life Expectancy)</th>\n",
       "      <td>157</td>\n",
       "    </tr>\n",
       "    <tr>\n",
       "      <th>Freedom</th>\n",
       "      <td>158</td>\n",
       "    </tr>\n",
       "    <tr>\n",
       "      <th>Trust (Government Corruption)</th>\n",
       "      <td>157</td>\n",
       "    </tr>\n",
       "    <tr>\n",
       "      <th>Generosity</th>\n",
       "      <td>158</td>\n",
       "    </tr>\n",
       "    <tr>\n",
       "      <th>Dystopia Residual</th>\n",
       "      <td>158</td>\n",
       "    </tr>\n",
       "  </tbody>\n",
       "</table>\n",
       "</div>"
      ],
      "text/plain": [
       "                               No. of unique value\n",
       "Country                                        158\n",
       "Region                                          10\n",
       "Happiness Score                                157\n",
       "Standard Error                                 153\n",
       "Economy (GDP per Capita)                       158\n",
       "Family                                         158\n",
       "Health (Life Expectancy)                       157\n",
       "Freedom                                        158\n",
       "Trust (Government Corruption)                  157\n",
       "Generosity                                     158\n",
       "Dystopia Residual                              158"
      ]
     },
     "execution_count": 92,
     "metadata": {},
     "output_type": "execute_result"
    }
   ],
   "source": [
    "#checking number of unique value in each column\n",
    "df.nunique().to_frame(\"No. of unique value\")"
   ]
  },
  {
   "cell_type": "code",
   "execution_count": 93,
   "id": "710ec6a8",
   "metadata": {},
   "outputs": [
    {
     "name": "stdout",
     "output_type": "stream",
     "text": [
      "Total Dublicate rows are: 0\n"
     ]
    }
   ],
   "source": [
    "#Checking Duplicate values in DataFrame\n",
    "print(\"Total Dublicate rows are:\",df.duplicated().sum())"
   ]
  },
  {
   "cell_type": "code",
   "execution_count": 94,
   "id": "7a48c463",
   "metadata": {},
   "outputs": [
    {
     "data": {
      "text/html": [
       "<div>\n",
       "<style scoped>\n",
       "    .dataframe tbody tr th:only-of-type {\n",
       "        vertical-align: middle;\n",
       "    }\n",
       "\n",
       "    .dataframe tbody tr th {\n",
       "        vertical-align: top;\n",
       "    }\n",
       "\n",
       "    .dataframe thead th {\n",
       "        text-align: right;\n",
       "    }\n",
       "</style>\n",
       "<table border=\"1\" class=\"dataframe\">\n",
       "  <thead>\n",
       "    <tr style=\"text-align: right;\">\n",
       "      <th></th>\n",
       "      <th>count</th>\n",
       "      <th>mean</th>\n",
       "      <th>std</th>\n",
       "      <th>min</th>\n",
       "      <th>25%</th>\n",
       "      <th>50%</th>\n",
       "      <th>75%</th>\n",
       "      <th>max</th>\n",
       "    </tr>\n",
       "  </thead>\n",
       "  <tbody>\n",
       "    <tr>\n",
       "      <th>Happiness Score</th>\n",
       "      <td>158.0</td>\n",
       "      <td>5.375734</td>\n",
       "      <td>1.145010</td>\n",
       "      <td>2.83900</td>\n",
       "      <td>4.526000</td>\n",
       "      <td>5.232500</td>\n",
       "      <td>6.243750</td>\n",
       "      <td>7.58700</td>\n",
       "    </tr>\n",
       "    <tr>\n",
       "      <th>Standard Error</th>\n",
       "      <td>158.0</td>\n",
       "      <td>0.047885</td>\n",
       "      <td>0.017146</td>\n",
       "      <td>0.01848</td>\n",
       "      <td>0.037268</td>\n",
       "      <td>0.043940</td>\n",
       "      <td>0.052300</td>\n",
       "      <td>0.13693</td>\n",
       "    </tr>\n",
       "    <tr>\n",
       "      <th>Economy (GDP per Capita)</th>\n",
       "      <td>158.0</td>\n",
       "      <td>0.846137</td>\n",
       "      <td>0.403121</td>\n",
       "      <td>0.00000</td>\n",
       "      <td>0.545808</td>\n",
       "      <td>0.910245</td>\n",
       "      <td>1.158448</td>\n",
       "      <td>1.69042</td>\n",
       "    </tr>\n",
       "    <tr>\n",
       "      <th>Family</th>\n",
       "      <td>158.0</td>\n",
       "      <td>0.991046</td>\n",
       "      <td>0.272369</td>\n",
       "      <td>0.00000</td>\n",
       "      <td>0.856823</td>\n",
       "      <td>1.029510</td>\n",
       "      <td>1.214405</td>\n",
       "      <td>1.40223</td>\n",
       "    </tr>\n",
       "    <tr>\n",
       "      <th>Health (Life Expectancy)</th>\n",
       "      <td>158.0</td>\n",
       "      <td>0.630259</td>\n",
       "      <td>0.247078</td>\n",
       "      <td>0.00000</td>\n",
       "      <td>0.439185</td>\n",
       "      <td>0.696705</td>\n",
       "      <td>0.811013</td>\n",
       "      <td>1.02525</td>\n",
       "    </tr>\n",
       "    <tr>\n",
       "      <th>Freedom</th>\n",
       "      <td>158.0</td>\n",
       "      <td>0.428615</td>\n",
       "      <td>0.150693</td>\n",
       "      <td>0.00000</td>\n",
       "      <td>0.328330</td>\n",
       "      <td>0.435515</td>\n",
       "      <td>0.549092</td>\n",
       "      <td>0.66973</td>\n",
       "    </tr>\n",
       "    <tr>\n",
       "      <th>Trust (Government Corruption)</th>\n",
       "      <td>158.0</td>\n",
       "      <td>0.143422</td>\n",
       "      <td>0.120034</td>\n",
       "      <td>0.00000</td>\n",
       "      <td>0.061675</td>\n",
       "      <td>0.107220</td>\n",
       "      <td>0.180255</td>\n",
       "      <td>0.55191</td>\n",
       "    </tr>\n",
       "    <tr>\n",
       "      <th>Generosity</th>\n",
       "      <td>158.0</td>\n",
       "      <td>0.237296</td>\n",
       "      <td>0.126685</td>\n",
       "      <td>0.00000</td>\n",
       "      <td>0.150553</td>\n",
       "      <td>0.216130</td>\n",
       "      <td>0.309883</td>\n",
       "      <td>0.79588</td>\n",
       "    </tr>\n",
       "    <tr>\n",
       "      <th>Dystopia Residual</th>\n",
       "      <td>158.0</td>\n",
       "      <td>2.098977</td>\n",
       "      <td>0.553550</td>\n",
       "      <td>0.32858</td>\n",
       "      <td>1.759410</td>\n",
       "      <td>2.095415</td>\n",
       "      <td>2.462415</td>\n",
       "      <td>3.60214</td>\n",
       "    </tr>\n",
       "  </tbody>\n",
       "</table>\n",
       "</div>"
      ],
      "text/plain": [
       "                               count      mean       std      min       25%  \\\n",
       "Happiness Score                158.0  5.375734  1.145010  2.83900  4.526000   \n",
       "Standard Error                 158.0  0.047885  0.017146  0.01848  0.037268   \n",
       "Economy (GDP per Capita)       158.0  0.846137  0.403121  0.00000  0.545808   \n",
       "Family                         158.0  0.991046  0.272369  0.00000  0.856823   \n",
       "Health (Life Expectancy)       158.0  0.630259  0.247078  0.00000  0.439185   \n",
       "Freedom                        158.0  0.428615  0.150693  0.00000  0.328330   \n",
       "Trust (Government Corruption)  158.0  0.143422  0.120034  0.00000  0.061675   \n",
       "Generosity                     158.0  0.237296  0.126685  0.00000  0.150553   \n",
       "Dystopia Residual              158.0  2.098977  0.553550  0.32858  1.759410   \n",
       "\n",
       "                                    50%       75%      max  \n",
       "Happiness Score                5.232500  6.243750  7.58700  \n",
       "Standard Error                 0.043940  0.052300  0.13693  \n",
       "Economy (GDP per Capita)       0.910245  1.158448  1.69042  \n",
       "Family                         1.029510  1.214405  1.40223  \n",
       "Health (Life Expectancy)       0.696705  0.811013  1.02525  \n",
       "Freedom                        0.435515  0.549092  0.66973  \n",
       "Trust (Government Corruption)  0.107220  0.180255  0.55191  \n",
       "Generosity                     0.216130  0.309883  0.79588  \n",
       "Dystopia Residual              2.095415  2.462415  3.60214  "
      ]
     },
     "execution_count": 94,
     "metadata": {},
     "output_type": "execute_result"
    }
   ],
   "source": [
    "#Statistical summary of numerical column\n",
    "df.describe().T"
   ]
  },
  {
   "cell_type": "markdown",
   "id": "d6bd89dd",
   "metadata": {},
   "source": [
    "<span style=\"color:BLUE\">Observation -From the above description , we can observe the following things:                 \n",
    "    .)No missing values & negative values are present in dataset                      \n",
    "    .)The mean value is almost equal to  median(50%) in all column ,which means data is normally distributed.   \n",
    "     .)There is minimal difference in 75% and max value,it means Outliers are present in the dataset."
   ]
  },
  {
   "cell_type": "code",
   "execution_count": 95,
   "id": "601e3a61",
   "metadata": {},
   "outputs": [
    {
     "name": "stdout",
     "output_type": "stream",
     "text": [
      "categorical_column ['Country', 'Region']\n",
      "\n",
      "\n",
      "Numerical_column ['Happiness Score', 'Standard Error', 'Economy (GDP per Capita)', 'Family', 'Health (Life Expectancy)', 'Freedom', 'Trust (Government Corruption)', 'Generosity', 'Dystopia Residual']\n"
     ]
    }
   ],
   "source": [
    "#Seperating Numerical and Categorical column\n",
    "\n",
    "#checking for Categorical column\n",
    "categorical_col=[]\n",
    "for i in df.dtypes.index:\n",
    "    if df.dtypes[i]==\"object\":\n",
    "        categorical_col.append(i)\n",
    "print(\"categorical_column\",categorical_col)\n",
    "print(\"\\n\")\n",
    "\n",
    "#checking for Numerical column\n",
    "numerical_col=[]\n",
    "for i in df.dtypes.index:\n",
    "    if df.dtypes[i]!=\"object\":\n",
    "        numerical_col.append(i)\n",
    "print(\"Numerical_column\",numerical_col)"
   ]
  },
  {
   "cell_type": "markdown",
   "id": "be74c0a8",
   "metadata": {},
   "source": [
    "<span style=\"color:black\">****Data Visualization****"
   ]
  },
  {
   "cell_type": "markdown",
   "id": "f1b8ad22",
   "metadata": {},
   "source": [
    "<span style=\"color:red\">Checking Relationship"
   ]
  },
  {
   "cell_type": "code",
   "execution_count": 96,
   "id": "8d77966e",
   "metadata": {},
   "outputs": [
    {
     "data": {
      "text/plain": [
       "<AxesSubplot:xlabel='Region', ylabel='Happiness Score'>"
      ]
     },
     "execution_count": 96,
     "metadata": {},
     "output_type": "execute_result"
    },
    {
     "data": {
      "image/png": "[encoded data removed]",
      "text/plain": [
       "<Figure size 432x288 with 1 Axes>"
      ]
     },
     "metadata": {
      "needs_background": "light"
     },
     "output_type": "display_data"
    }
   ],
   "source": [
    "sns.barplot(x=\"Region\",y=\"Happiness Score\",data=df)"
   ]
  },
  {
   "cell_type": "markdown",
   "id": "000962ec",
   "metadata": {},
   "source": [
    "<span style=\"color:blue\">Observation -\"Region\" has no relationship with Happiness Score."
   ]
  },
  {
   "cell_type": "code",
   "execution_count": 97,
   "id": "03beb90d",
   "metadata": {},
   "outputs": [
    {
     "data": {
      "text/plain": [
       "<seaborn.axisgrid.FacetGrid at 0x1e0fd525160>"
      ]
     },
     "execution_count": 97,
     "metadata": {},
     "output_type": "execute_result"
    },
    {
     "data": {
      "image/png": "[encoded data removed]",
      "text/plain": [
       "<Figure size 360x360 with 1 Axes>"
      ]
     },
     "metadata": {
      "needs_background": "light"
     },
     "output_type": "display_data"
    }
   ],
   "source": [
    "sns.catplot(x=\"Standard Error\",y=\"Happiness Score\",data=df)"
   ]
  },
  {
   "cell_type": "markdown",
   "id": "066598a9",
   "metadata": {},
   "source": [
    "<span style=\"color:blue\">Observation -\"Standard Error\" has no relationship with Happiness Score."
   ]
  },
  {
   "cell_type": "code",
   "execution_count": 98,
   "id": "70b558bb",
   "metadata": {},
   "outputs": [
    {
     "data": {
      "text/plain": [
       "<seaborn.axisgrid.FacetGrid at 0x1e0fd2a4cd0>"
      ]
     },
     "execution_count": 98,
     "metadata": {},
     "output_type": "execute_result"
    },
    {
     "data": {
      "image/png": "[encoded data removed]",
      "text/plain": [
       "<Figure size 360x360 with 1 Axes>"
      ]
     },
     "metadata": {
      "needs_background": "light"
     },
     "output_type": "display_data"
    }
   ],
   "source": [
    "sns.lmplot(x=\"Economy (GDP per Capita)\",y=\"Happiness Score\",data=df)"
   ]
  },
  {
   "cell_type": "markdown",
   "id": "4d654862",
   "metadata": {},
   "source": [
    "<span style=\"color:blue\">Observation -\"Economy (GDP per Capita)\" has a linear relationship with Happiness Score."
   ]
  },
  {
   "cell_type": "code",
   "execution_count": 99,
   "id": "8a116254",
   "metadata": {},
   "outputs": [
    {
     "data": {
      "text/plain": [
       "<AxesSubplot:xlabel='Family', ylabel='Happiness Score'>"
      ]
     },
     "execution_count": 99,
     "metadata": {},
     "output_type": "execute_result"
    },
    {
     "data": {
      "image/png": "[encoded data removed]",
      "text/plain": [
       "<Figure size 432x288 with 1 Axes>"
      ]
     },
     "metadata": {
      "needs_background": "light"
     },
     "output_type": "display_data"
    }
   ],
   "source": [
    "sns.scatterplot(x=\"Family\",y=\"Happiness Score\",data=df)"
   ]
  },
  {
   "cell_type": "markdown",
   "id": "ead65e22",
   "metadata": {},
   "source": [
    "<span style=\"color:blue\">Observation - Size of \"Family\" increases with Happiness Score and has a linear relationship"
   ]
  },
  {
   "cell_type": "code",
   "execution_count": 100,
   "id": "15a006f9",
   "metadata": {},
   "outputs": [
    {
     "data": {
      "text/plain": [
       "<AxesSubplot:xlabel='Health (Life Expectancy)', ylabel='Happiness Score'>"
      ]
     },
     "execution_count": 100,
     "metadata": {},
     "output_type": "execute_result"
    },
    {
     "data": {
      "image/png": "[encoded data removed]",
      "text/plain": [
       "<Figure size 432x288 with 1 Axes>"
      ]
     },
     "metadata": {
      "needs_background": "light"
     },
     "output_type": "display_data"
    }
   ],
   "source": [
    "sns.regplot(x=\"Health (Life Expectancy)\",y=\"Happiness Score\",data=df)"
   ]
  },
  {
   "cell_type": "markdown",
   "id": "a01fb63e",
   "metadata": {},
   "source": [
    "<span style=\"color:blue\">Observation -\"Health (Life Expectancy)\" has linear relationship with \"Happiness Score\""
   ]
  },
  {
   "cell_type": "code",
   "execution_count": 101,
   "id": "f1b3817f",
   "metadata": {},
   "outputs": [
    {
     "data": {
      "text/plain": [
       "<AxesSubplot:xlabel='Freedom', ylabel='Happiness Score'>"
      ]
     },
     "execution_count": 101,
     "metadata": {},
     "output_type": "execute_result"
    },
    {
     "data": {
      "image/png": "[encoded data removed]",
      "text/plain": [
       "<Figure size 432x288 with 1 Axes>"
      ]
     },
     "metadata": {
      "needs_background": "light"
     },
     "output_type": "display_data"
    }
   ],
   "source": [
    "sns.scatterplot(x=\"Freedom\",y=\"Happiness Score\",data=df)"
   ]
  },
  {
   "cell_type": "markdown",
   "id": "922c3ee0",
   "metadata": {},
   "source": [
    "<span style=\"color:blue\">Observation -\"Freedom\" has linear relationship with \"Happiness Score\""
   ]
  },
  {
   "cell_type": "code",
   "execution_count": 102,
   "id": "8c280ae0",
   "metadata": {},
   "outputs": [
    {
     "data": {
      "text/plain": [
       "<AxesSubplot:xlabel='Trust (Government Corruption)', ylabel='Happiness Score'>"
      ]
     },
     "execution_count": 102,
     "metadata": {},
     "output_type": "execute_result"
    },
    {
     "data": {
      "image/png": "[encoded data removed]",
      "text/plain": [
       "<Figure size 432x288 with 1 Axes>"
      ]
     },
     "metadata": {
      "needs_background": "light"
     },
     "output_type": "display_data"
    }
   ],
   "source": [
    "sns.scatterplot(x=\"Trust (Government Corruption)\",y=\"Happiness Score\",data=df)"
   ]
  },
  {
   "cell_type": "markdown",
   "id": "846026cf",
   "metadata": {},
   "source": [
    "<span style=\"color:blue\">Observation -Most of the data points are concentrated behind 0.2 on X-axis , hence no relationship with HappinessScore."
   ]
  },
  {
   "cell_type": "code",
   "execution_count": 103,
   "id": "64acc11c",
   "metadata": {},
   "outputs": [
    {
     "data": {
      "text/plain": [
       "<AxesSubplot:xlabel='Generosity', ylabel='Happiness Score'>"
      ]
     },
     "execution_count": 103,
     "metadata": {},
     "output_type": "execute_result"
    },
    {
     "data": {
      "image/png": "[encoded data removed]",
      "text/plain": [
       "<Figure size 432x288 with 1 Axes>"
      ]
     },
     "metadata": {
      "needs_background": "light"
     },
     "output_type": "display_data"
    }
   ],
   "source": [
    "sns.scatterplot(x=\"Generosity\",y=\"Happiness Score\",data=df)"
   ]
  },
  {
   "cell_type": "markdown",
   "id": "76e8acf0",
   "metadata": {},
   "source": [
    "<span style=\"color:blue\">Observation -Most of the data points are scattered everywhere , hence no relationship with HappinessScore."
   ]
  },
  {
   "cell_type": "code",
   "execution_count": 104,
   "id": "f88845ed",
   "metadata": {},
   "outputs": [
    {
     "data": {
      "text/plain": [
       "<AxesSubplot:xlabel='Dystopia Residual', ylabel='Happiness Score'>"
      ]
     },
     "execution_count": 104,
     "metadata": {},
     "output_type": "execute_result"
    },
    {
     "data": {
      "image/png": "[encoded data removed]",
      "text/plain": [
       "<Figure size 432x288 with 1 Axes>"
      ]
     },
     "metadata": {
      "needs_background": "light"
     },
     "output_type": "display_data"
    }
   ],
   "source": [
    "sns.scatterplot(x=\"Dystopia Residual\",y=\"Happiness Score\",data=df)"
   ]
  },
  {
   "cell_type": "markdown",
   "id": "1c982edc",
   "metadata": {},
   "source": [
    "<span style=\"color:blue\">Observation -There is not significantly relation between Dystopia Residual and HappinessScore."
   ]
  },
  {
   "cell_type": "markdown",
   "id": "49f93293",
   "metadata": {},
   "source": [
    " <span style=\"color:red\">****Checking for outliers****"
   ]
  },
  {
   "cell_type": "code",
   "execution_count": 105,
   "id": "0011c4ae",
   "metadata": {},
   "outputs": [
    {
     "data": {
      "image/png": "[encoded data removed]",
      "text/plain": [
       "<Figure size 1440x1800 with 9 Axes>"
      ]
     },
     "metadata": {
      "needs_background": "light"
     },
     "output_type": "display_data"
    }
   ],
   "source": [
    "#checking outliers by using Boxplot\n",
    "plt.figure(figsize=(20,25))\n",
    "p=1\n",
    "for i in numerical_col:\n",
    "    if p<=11:\n",
    "        plt.subplot(4,3,p)\n",
    "        sns.boxplot(y=df[i], palette=\"Set2_r\")\n",
    "        plt.xlabel(i)\n",
    "    p+=1\n",
    "plt.show()"
   ]
  },
  {
   "cell_type": "markdown",
   "id": "350362ca",
   "metadata": {},
   "source": [
    "<span style=\"color:BLUE\">Observation -Outliers are mostly present in 'Standard Error', and 'Trust (Government Corruption)'.So we are removing the outliers by zscore or IQR technique before bulding the model and select the best one."
   ]
  },
  {
   "cell_type": "markdown",
   "id": "ca778cdc",
   "metadata": {},
   "source": [
    "# Removing Outliers"
   ]
  },
  {
   "cell_type": "markdown",
   "id": "7b3c4952",
   "metadata": {},
   "source": [
    "<span style=\"color:red\">1st Method: IQR (Inter Quantile Method)"
   ]
  },
  {
   "cell_type": "code",
   "execution_count": 106,
   "id": "8f773026",
   "metadata": {},
   "outputs": [],
   "source": [
    "#1st Quantile\n",
    "q1=df.quantile(0.25)\n",
    "\n",
    "#3rd Quantile\n",
    "q3=df.quantile(0.75)\n",
    "\n",
    "#calculating IQR\n",
    "iqr=q3-q1\n",
    "\n",
    "df1=df[~((df < (q1 - 1.5*iqr ))|(df > (q3 + 1.5*iqr ))).any(axis=1)]"
   ]
  },
  {
   "cell_type": "code",
   "execution_count": 107,
   "id": "e3517b30",
   "metadata": {},
   "outputs": [
    {
     "name": "stdout",
     "output_type": "stream",
     "text": [
      "New Dataframe after IQR :  (126, 11)\n"
     ]
    }
   ],
   "source": [
    "print(\"New Dataframe after IQR : \" ,df1.shape)"
   ]
  },
  {
   "cell_type": "code",
   "execution_count": 108,
   "id": "e041e4a1",
   "metadata": {},
   "outputs": [
    {
     "name": "stdout",
     "output_type": "stream",
     "text": [
      "Data Loss Percentage  with IQR method : 20.253164556962027\n"
     ]
    }
   ],
   "source": [
    "print(\"Data Loss Percentage  with IQR method :\",((df.shape[0]-df1.shape[0])/df.shape[0])*100)"
   ]
  },
  {
   "cell_type": "markdown",
   "id": "a7bcf25a",
   "metadata": {},
   "source": [
    "<span style=\"color:blue\">Obsevation-Accepted Data Loss Percentage is below 10% but here it goes 20.25% which is not acceptable. Lets check with other method (z-score) "
   ]
  },
  {
   "cell_type": "markdown",
   "id": "03228aff",
   "metadata": {},
   "source": [
    "<span style=\"color:red\">2nd Method: Z score"
   ]
  },
  {
   "cell_type": "code",
   "execution_count": 109,
   "id": "395951f1",
   "metadata": {},
   "outputs": [
    {
     "data": {
      "text/html": [
       "<div>\n",
       "<style scoped>\n",
       "    .dataframe tbody tr th:only-of-type {\n",
       "        vertical-align: middle;\n",
       "    }\n",
       "\n",
       "    .dataframe tbody tr th {\n",
       "        vertical-align: top;\n",
       "    }\n",
       "\n",
       "    .dataframe thead th {\n",
       "        text-align: right;\n",
       "    }\n",
       "</style>\n",
       "<table border=\"1\" class=\"dataframe\">\n",
       "  <thead>\n",
       "    <tr style=\"text-align: right;\">\n",
       "      <th></th>\n",
       "      <th>Standard Error</th>\n",
       "      <th>Family</th>\n",
       "      <th>Trust (Government Corruption)</th>\n",
       "      <th>Generosity</th>\n",
       "      <th>Dystopia Residual</th>\n",
       "    </tr>\n",
       "    <tr>\n",
       "      <th>Happiness Rank</th>\n",
       "      <th></th>\n",
       "      <th></th>\n",
       "      <th></th>\n",
       "      <th></th>\n",
       "      <th></th>\n",
       "    </tr>\n",
       "  </thead>\n",
       "  <tbody>\n",
       "    <tr>\n",
       "      <th>1</th>\n",
       "      <td>0.805926</td>\n",
       "      <td>1.320281</td>\n",
       "      <td>2.309652</td>\n",
       "      <td>0.471040</td>\n",
       "      <td>0.758258</td>\n",
       "    </tr>\n",
       "    <tr>\n",
       "      <th>2</th>\n",
       "      <td>0.055889</td>\n",
       "      <td>1.514458</td>\n",
       "      <td>0.016480</td>\n",
       "      <td>1.575856</td>\n",
       "      <td>1.092857</td>\n",
       "    </tr>\n",
       "    <tr>\n",
       "      <th>3</th>\n",
       "      <td>0.854487</td>\n",
       "      <td>1.361054</td>\n",
       "      <td>2.842774</td>\n",
       "      <td>0.824293</td>\n",
       "      <td>0.712335</td>\n",
       "    </tr>\n",
       "    <tr>\n",
       "      <th>4</th>\n",
       "      <td>0.531526</td>\n",
       "      <td>1.251922</td>\n",
       "      <td>1.852081</td>\n",
       "      <td>0.868638</td>\n",
       "      <td>0.663893</td>\n",
       "    </tr>\n",
       "    <tr>\n",
       "      <th>5</th>\n",
       "      <td>0.722845</td>\n",
       "      <td>1.221204</td>\n",
       "      <td>1.555725</td>\n",
       "      <td>1.748563</td>\n",
       "      <td>0.639337</td>\n",
       "    </tr>\n",
       "    <tr>\n",
       "      <th>...</th>\n",
       "      <td>...</td>\n",
       "      <td>...</td>\n",
       "      <td>...</td>\n",
       "      <td>...</td>\n",
       "      <td>...</td>\n",
       "    </tr>\n",
       "    <tr>\n",
       "      <th>154</th>\n",
       "      <td>0.774917</td>\n",
       "      <td>0.800520</td>\n",
       "      <td>3.413922</td>\n",
       "      <td>0.087228</td>\n",
       "      <td>2.588925</td>\n",
       "    </tr>\n",
       "    <tr>\n",
       "      <th>155</th>\n",
       "      <td>0.662582</td>\n",
       "      <td>2.346860</td>\n",
       "      <td>0.529210</td>\n",
       "      <td>0.433117</td>\n",
       "      <td>0.843967</td>\n",
       "    </tr>\n",
       "    <tr>\n",
       "      <th>156</th>\n",
       "      <td>0.132534</td>\n",
       "      <td>1.901086</td>\n",
       "      <td>0.381419</td>\n",
       "      <td>1.856891</td>\n",
       "      <td>3.208430</td>\n",
       "    </tr>\n",
       "    <tr>\n",
       "      <th>157</th>\n",
       "      <td>2.263962</td>\n",
       "      <td>2.118467</td>\n",
       "      <td>0.357715</td>\n",
       "      <td>0.316950</td>\n",
       "      <td>0.481985</td>\n",
       "    </tr>\n",
       "    <tr>\n",
       "      <th>158</th>\n",
       "      <td>1.134182</td>\n",
       "      <td>3.134725</td>\n",
       "      <td>0.301803</td>\n",
       "      <td>0.558153</td>\n",
       "      <td>0.963612</td>\n",
       "    </tr>\n",
       "  </tbody>\n",
       "</table>\n",
       "<p>158 rows × 5 columns</p>\n",
       "</div>"
      ],
      "text/plain": [
       "                Standard Error    Family  Trust (Government Corruption)  \\\n",
       "Happiness Rank                                                            \n",
       "1                     0.805926  1.320281                       2.309652   \n",
       "2                     0.055889  1.514458                       0.016480   \n",
       "3                     0.854487  1.361054                       2.842774   \n",
       "4                     0.531526  1.251922                       1.852081   \n",
       "5                     0.722845  1.221204                       1.555725   \n",
       "...                        ...       ...                            ...   \n",
       "154                   0.774917  0.800520                       3.413922   \n",
       "155                   0.662582  2.346860                       0.529210   \n",
       "156                   0.132534  1.901086                       0.381419   \n",
       "157                   2.263962  2.118467                       0.357715   \n",
       "158                   1.134182  3.134725                       0.301803   \n",
       "\n",
       "                Generosity  Dystopia Residual  \n",
       "Happiness Rank                                 \n",
       "1                 0.471040           0.758258  \n",
       "2                 1.575856           1.092857  \n",
       "3                 0.824293           0.712335  \n",
       "4                 0.868638           0.663893  \n",
       "5                 1.748563           0.639337  \n",
       "...                    ...                ...  \n",
       "154               0.087228           2.588925  \n",
       "155               0.433117           0.843967  \n",
       "156               1.856891           3.208430  \n",
       "157               0.316950           0.481985  \n",
       "158               0.558153           0.963612  \n",
       "\n",
       "[158 rows x 5 columns]"
      ]
     },
     "execution_count": 109,
     "metadata": {},
     "output_type": "execute_result"
    }
   ],
   "source": [
    "from scipy.stats import zscore\n",
    "outliers_feature=df[['Standard Error','Family','Trust (Government Corruption)','Generosity','Dystopia Residual']]\n",
    "z=np.abs(zscore(outliers_feature)) #.abs() to remove negative values\n",
    "z"
   ]
  },
  {
   "cell_type": "markdown",
   "id": "bcb430eb",
   "metadata": {},
   "source": [
    "<span style=\"color:GREEN\">In normal distribution, it is estimated that                     \n",
    "68% of the data points lie between +/- 1 standard deviation.                                \n",
    "95% of the data points lie between +/- 2 standard deviation                              \n",
    "99.7% of the data points lie between +/- 3 standard deviation   "
   ]
  },
  {
   "cell_type": "code",
   "execution_count": 110,
   "id": "51ea24b2",
   "metadata": {},
   "outputs": [
    {
     "data": {
      "text/plain": [
       "(array([ 27,  40,  64, 115, 128, 147, 153, 155, 157], dtype=int64),\n",
       " array([2, 0, 0, 0, 3, 1, 2, 4, 1], dtype=int64))"
      ]
     },
     "execution_count": 110,
     "metadata": {},
     "output_type": "execute_result"
    }
   ],
   "source": [
    "#Z-score>3\n",
    "np.where(z>3)"
   ]
  },
  {
   "cell_type": "code",
   "execution_count": 111,
   "id": "12a69732",
   "metadata": {},
   "outputs": [
    {
     "name": "stdout",
     "output_type": "stream",
     "text": [
      "New Dataframe having rows and column:  (149, 11)\n"
     ]
    }
   ],
   "source": [
    "#now removing the data above zscore and creating a new dataframe\n",
    "df2=df[(z<3).all(axis=1)]\n",
    "print(\"New Dataframe having rows and column: \" ,df2.shape)\n"
   ]
  },
  {
   "cell_type": "code",
   "execution_count": 112,
   "id": "ba3f27d9",
   "metadata": {},
   "outputs": [
    {
     "name": "stdout",
     "output_type": "stream",
     "text": [
      "OLd Dataframe :  158\n",
      "New Dataframe :  149\n"
     ]
    }
   ],
   "source": [
    "#shape of old and new dataframe\n",
    "print(\"OLd Dataframe : \" ,df.shape[0])\n",
    "print(\"New Dataframe : \" ,df2.shape[0])"
   ]
  },
  {
   "cell_type": "code",
   "execution_count": 113,
   "id": "59baffd7",
   "metadata": {},
   "outputs": [
    {
     "name": "stdout",
     "output_type": "stream",
     "text": [
      "Data Loss Percentage with Z-score method: 5.69620253164557\n"
     ]
    }
   ],
   "source": [
    "print(\"Data Loss Percentage with Z-score method:\",((df.shape[0]-df2.shape[0])/df.shape[0])*100)"
   ]
  },
  {
   "cell_type": "markdown",
   "id": "fcbd1734",
   "metadata": {},
   "source": [
    "<span style=\"color:green\">Conclusion -Data Loss Percentage  with IQR method is very high as compared with Z-score . So i go with z-score "
   ]
  },
  {
   "cell_type": "code",
   "execution_count": 114,
   "id": "aed3cd9b",
   "metadata": {},
   "outputs": [],
   "source": [
    "#Storing Dataframe with Z-score method in old dataframe\n",
    "df=df2"
   ]
  },
  {
   "cell_type": "code",
   "execution_count": 115,
   "id": "47e88cef",
   "metadata": {},
   "outputs": [
    {
     "data": {
      "text/html": [
       "<div>\n",
       "<style scoped>\n",
       "    .dataframe tbody tr th:only-of-type {\n",
       "        vertical-align: middle;\n",
       "    }\n",
       "\n",
       "    .dataframe tbody tr th {\n",
       "        vertical-align: top;\n",
       "    }\n",
       "\n",
       "    .dataframe thead th {\n",
       "        text-align: right;\n",
       "    }\n",
       "</style>\n",
       "<table border=\"1\" class=\"dataframe\">\n",
       "  <thead>\n",
       "    <tr style=\"text-align: right;\">\n",
       "      <th></th>\n",
       "      <th>Country</th>\n",
       "      <th>Region</th>\n",
       "      <th>Happiness Score</th>\n",
       "      <th>Standard Error</th>\n",
       "      <th>Economy (GDP per Capita)</th>\n",
       "      <th>Family</th>\n",
       "      <th>Health (Life Expectancy)</th>\n",
       "      <th>Freedom</th>\n",
       "      <th>Trust (Government Corruption)</th>\n",
       "      <th>Generosity</th>\n",
       "      <th>Dystopia Residual</th>\n",
       "    </tr>\n",
       "  </thead>\n",
       "  <tbody>\n",
       "    <tr>\n",
       "      <th>0</th>\n",
       "      <td>Switzerland</td>\n",
       "      <td>Western Europe</td>\n",
       "      <td>7.587</td>\n",
       "      <td>0.03411</td>\n",
       "      <td>1.39651</td>\n",
       "      <td>1.34951</td>\n",
       "      <td>0.94143</td>\n",
       "      <td>0.66557</td>\n",
       "      <td>0.41978</td>\n",
       "      <td>0.29678</td>\n",
       "      <td>2.51738</td>\n",
       "    </tr>\n",
       "    <tr>\n",
       "      <th>1</th>\n",
       "      <td>Iceland</td>\n",
       "      <td>Western Europe</td>\n",
       "      <td>7.561</td>\n",
       "      <td>0.04884</td>\n",
       "      <td>1.30232</td>\n",
       "      <td>1.40223</td>\n",
       "      <td>0.94784</td>\n",
       "      <td>0.62877</td>\n",
       "      <td>0.14145</td>\n",
       "      <td>0.43630</td>\n",
       "      <td>2.70201</td>\n",
       "    </tr>\n",
       "    <tr>\n",
       "      <th>2</th>\n",
       "      <td>Denmark</td>\n",
       "      <td>Western Europe</td>\n",
       "      <td>7.527</td>\n",
       "      <td>0.03328</td>\n",
       "      <td>1.32548</td>\n",
       "      <td>1.36058</td>\n",
       "      <td>0.87464</td>\n",
       "      <td>0.64938</td>\n",
       "      <td>0.48357</td>\n",
       "      <td>0.34139</td>\n",
       "      <td>2.49204</td>\n",
       "    </tr>\n",
       "    <tr>\n",
       "      <th>3</th>\n",
       "      <td>Norway</td>\n",
       "      <td>Western Europe</td>\n",
       "      <td>7.522</td>\n",
       "      <td>0.03880</td>\n",
       "      <td>1.45900</td>\n",
       "      <td>1.33095</td>\n",
       "      <td>0.88521</td>\n",
       "      <td>0.66973</td>\n",
       "      <td>0.36503</td>\n",
       "      <td>0.34699</td>\n",
       "      <td>2.46531</td>\n",
       "    </tr>\n",
       "    <tr>\n",
       "      <th>4</th>\n",
       "      <td>Canada</td>\n",
       "      <td>North America</td>\n",
       "      <td>7.427</td>\n",
       "      <td>0.03553</td>\n",
       "      <td>1.32629</td>\n",
       "      <td>1.32261</td>\n",
       "      <td>0.90563</td>\n",
       "      <td>0.63297</td>\n",
       "      <td>0.32957</td>\n",
       "      <td>0.45811</td>\n",
       "      <td>2.45176</td>\n",
       "    </tr>\n",
       "    <tr>\n",
       "      <th>...</th>\n",
       "      <td>...</td>\n",
       "      <td>...</td>\n",
       "      <td>...</td>\n",
       "      <td>...</td>\n",
       "      <td>...</td>\n",
       "      <td>...</td>\n",
       "      <td>...</td>\n",
       "      <td>...</td>\n",
       "      <td>...</td>\n",
       "      <td>...</td>\n",
       "      <td>...</td>\n",
       "    </tr>\n",
       "    <tr>\n",
       "      <th>144</th>\n",
       "      <td>Ivory Coast</td>\n",
       "      <td>Sub-Saharan Africa</td>\n",
       "      <td>3.655</td>\n",
       "      <td>0.05141</td>\n",
       "      <td>0.46534</td>\n",
       "      <td>0.77115</td>\n",
       "      <td>0.15185</td>\n",
       "      <td>0.46866</td>\n",
       "      <td>0.17922</td>\n",
       "      <td>0.20165</td>\n",
       "      <td>1.41723</td>\n",
       "    </tr>\n",
       "    <tr>\n",
       "      <th>145</th>\n",
       "      <td>Burkina Faso</td>\n",
       "      <td>Sub-Saharan Africa</td>\n",
       "      <td>3.587</td>\n",
       "      <td>0.04324</td>\n",
       "      <td>0.25812</td>\n",
       "      <td>0.85188</td>\n",
       "      <td>0.27125</td>\n",
       "      <td>0.39493</td>\n",
       "      <td>0.12832</td>\n",
       "      <td>0.21747</td>\n",
       "      <td>1.46494</td>\n",
       "    </tr>\n",
       "    <tr>\n",
       "      <th>146</th>\n",
       "      <td>Afghanistan</td>\n",
       "      <td>Southern Asia</td>\n",
       "      <td>3.575</td>\n",
       "      <td>0.03084</td>\n",
       "      <td>0.31982</td>\n",
       "      <td>0.30285</td>\n",
       "      <td>0.30335</td>\n",
       "      <td>0.23414</td>\n",
       "      <td>0.09719</td>\n",
       "      <td>0.36510</td>\n",
       "      <td>1.95210</td>\n",
       "    </tr>\n",
       "    <tr>\n",
       "      <th>147</th>\n",
       "      <td>Benin</td>\n",
       "      <td>Sub-Saharan Africa</td>\n",
       "      <td>3.340</td>\n",
       "      <td>0.03656</td>\n",
       "      <td>0.28665</td>\n",
       "      <td>0.35386</td>\n",
       "      <td>0.31910</td>\n",
       "      <td>0.48450</td>\n",
       "      <td>0.08010</td>\n",
       "      <td>0.18260</td>\n",
       "      <td>1.63328</td>\n",
       "    </tr>\n",
       "    <tr>\n",
       "      <th>148</th>\n",
       "      <td>Burundi</td>\n",
       "      <td>Sub-Saharan Africa</td>\n",
       "      <td>2.905</td>\n",
       "      <td>0.08658</td>\n",
       "      <td>0.01530</td>\n",
       "      <td>0.41587</td>\n",
       "      <td>0.22396</td>\n",
       "      <td>0.11850</td>\n",
       "      <td>0.10062</td>\n",
       "      <td>0.19727</td>\n",
       "      <td>1.83302</td>\n",
       "    </tr>\n",
       "  </tbody>\n",
       "</table>\n",
       "<p>149 rows × 11 columns</p>\n",
       "</div>"
      ],
      "text/plain": [
       "          Country              Region  Happiness Score  Standard Error  \\\n",
       "0     Switzerland      Western Europe            7.587         0.03411   \n",
       "1         Iceland      Western Europe            7.561         0.04884   \n",
       "2         Denmark      Western Europe            7.527         0.03328   \n",
       "3          Norway      Western Europe            7.522         0.03880   \n",
       "4          Canada       North America            7.427         0.03553   \n",
       "..            ...                 ...              ...             ...   \n",
       "144   Ivory Coast  Sub-Saharan Africa            3.655         0.05141   \n",
       "145  Burkina Faso  Sub-Saharan Africa            3.587         0.04324   \n",
       "146   Afghanistan       Southern Asia            3.575         0.03084   \n",
       "147         Benin  Sub-Saharan Africa            3.340         0.03656   \n",
       "148       Burundi  Sub-Saharan Africa            2.905         0.08658   \n",
       "\n",
       "     Economy (GDP per Capita)   Family  Health (Life Expectancy)  Freedom  \\\n",
       "0                     1.39651  1.34951                   0.94143  0.66557   \n",
       "1                     1.30232  1.40223                   0.94784  0.62877   \n",
       "2                     1.32548  1.36058                   0.87464  0.64938   \n",
       "3                     1.45900  1.33095                   0.88521  0.66973   \n",
       "4                     1.32629  1.32261                   0.90563  0.63297   \n",
       "..                        ...      ...                       ...      ...   \n",
       "144                   0.46534  0.77115                   0.15185  0.46866   \n",
       "145                   0.25812  0.85188                   0.27125  0.39493   \n",
       "146                   0.31982  0.30285                   0.30335  0.23414   \n",
       "147                   0.28665  0.35386                   0.31910  0.48450   \n",
       "148                   0.01530  0.41587                   0.22396  0.11850   \n",
       "\n",
       "     Trust (Government Corruption)  Generosity  Dystopia Residual  \n",
       "0                          0.41978     0.29678            2.51738  \n",
       "1                          0.14145     0.43630            2.70201  \n",
       "2                          0.48357     0.34139            2.49204  \n",
       "3                          0.36503     0.34699            2.46531  \n",
       "4                          0.32957     0.45811            2.45176  \n",
       "..                             ...         ...                ...  \n",
       "144                        0.17922     0.20165            1.41723  \n",
       "145                        0.12832     0.21747            1.46494  \n",
       "146                        0.09719     0.36510            1.95210  \n",
       "147                        0.08010     0.18260            1.63328  \n",
       "148                        0.10062     0.19727            1.83302  \n",
       "\n",
       "[149 rows x 11 columns]"
      ]
     },
     "execution_count": 115,
     "metadata": {},
     "output_type": "execute_result"
    }
   ],
   "source": [
    "#Reset the index of dataframe\n",
    "df = df.reset_index(drop=True)\n",
    "df"
   ]
  },
  {
   "cell_type": "markdown",
   "id": "a8afea3b",
   "metadata": {},
   "source": [
    "# <span style=\"color:red\">Checking for Skewness"
   ]
  },
  {
   "cell_type": "code",
   "execution_count": 116,
   "id": "a6311005",
   "metadata": {},
   "outputs": [
    {
     "data": {
      "image/png": "[encoded data removed]",
      "text/plain": [
       "<Figure size 1440x720 with 9 Axes>"
      ]
     },
     "metadata": {},
     "output_type": "display_data"
    }
   ],
   "source": [
    "#Checking for data distribution in numerical columns\n",
    "plt.figure(figsize = (20,10), facecolor = 'silver')\n",
    "plotnumber = 1 #this is an initiator\n",
    "\n",
    "for column in numerical_col:\n",
    "    if plotnumber <=9: #here 9 is the number of numerical features\n",
    "        ax = plt.subplot (3,3, plotnumber)\n",
    "        sns.distplot (df [column],color='b')\n",
    "        plt.xlabel (column, fontsize =12)\n",
    "    plotnumber +=1\n",
    "plt.tight_layout()"
   ]
  },
  {
   "cell_type": "markdown",
   "id": "0174de94",
   "metadata": {},
   "source": [
    "<span style=\"color:blue\">Observation - From the above distribution plots, we can notice that data almost looks normal except . \n",
    " we do not remove skewness and do not detect outliers from the target variable i.e \"happiness score \""
   ]
  },
  {
   "cell_type": "code",
   "execution_count": 117,
   "id": "57b1211e",
   "metadata": {},
   "outputs": [
    {
     "data": {
      "text/plain": [
       "Happiness Score                  0.169740\n",
       "Standard Error                   1.243048\n",
       "Economy (GDP per Capita)        -0.390657\n",
       "Family                          -0.811340\n",
       "Health (Life Expectancy)        -0.747711\n",
       "Freedom                         -0.400867\n",
       "Trust (Government Corruption)    1.272530\n",
       "Generosity                       0.654710\n",
       "Dystopia Residual               -0.021144\n",
       "dtype: float64"
      ]
     },
     "execution_count": 117,
     "metadata": {},
     "output_type": "execute_result"
    }
   ],
   "source": [
    "df.skew() #Default Acceptable range of Skewnesss is (-0.5 to 0.5)"
   ]
  },
  {
   "cell_type": "markdown",
   "id": "645b6612",
   "metadata": {},
   "source": [
    "<span style=\"color:red\">Removing Skwewness"
   ]
  },
  {
   "cell_type": "code",
   "execution_count": 118,
   "id": "5d5a120c",
   "metadata": {},
   "outputs": [],
   "source": [
    "#Removing Skewness using cuberoot method\n",
    "df[\"Standard Error\"]=np.cbrt(df[\"Standard Error\"])\n",
    "df[\"Trust (Government Corruption)\"]=np.cbrt(df[\"Trust (Government Corruption)\"])"
   ]
  },
  {
   "cell_type": "code",
   "execution_count": 119,
   "id": "78b46e2c",
   "metadata": {
    "scrolled": true
   },
   "outputs": [
    {
     "data": {
      "text/plain": [
       "Happiness Score                  0.169740\n",
       "Standard Error                   0.528395\n",
       "Economy (GDP per Capita)        -0.390657\n",
       "Family                          -0.811340\n",
       "Health (Life Expectancy)        -0.747711\n",
       "Freedom                         -0.400867\n",
       "Trust (Government Corruption)   -0.064568\n",
       "Generosity                       0.654710\n",
       "Dystopia Residual               -0.021144\n",
       "dtype: float64"
      ]
     },
     "execution_count": 119,
     "metadata": {},
     "output_type": "execute_result"
    }
   ],
   "source": [
    "df.skew()"
   ]
  },
  {
   "cell_type": "markdown",
   "id": "c1d8a0a6",
   "metadata": {},
   "source": [
    "<span style=\"color:blue\">Observation - From the above data, we can notice that no column have high skewness."
   ]
  },
  {
   "cell_type": "markdown",
   "id": "59dd838f",
   "metadata": {},
   "source": [
    "<span style=\"color:red\">****Correlation between target variable and Independent variable****"
   ]
  },
  {
   "cell_type": "code",
   "execution_count": 120,
   "id": "c33ba330",
   "metadata": {},
   "outputs": [
    {
     "data": {
      "text/html": [
       "<div>\n",
       "<style scoped>\n",
       "    .dataframe tbody tr th:only-of-type {\n",
       "        vertical-align: middle;\n",
       "    }\n",
       "\n",
       "    .dataframe tbody tr th {\n",
       "        vertical-align: top;\n",
       "    }\n",
       "\n",
       "    .dataframe thead th {\n",
       "        text-align: right;\n",
       "    }\n",
       "</style>\n",
       "<table border=\"1\" class=\"dataframe\">\n",
       "  <thead>\n",
       "    <tr style=\"text-align: right;\">\n",
       "      <th></th>\n",
       "      <th>Happiness Score</th>\n",
       "      <th>Standard Error</th>\n",
       "      <th>Economy (GDP per Capita)</th>\n",
       "      <th>Family</th>\n",
       "      <th>Health (Life Expectancy)</th>\n",
       "      <th>Freedom</th>\n",
       "      <th>Trust (Government Corruption)</th>\n",
       "      <th>Generosity</th>\n",
       "      <th>Dystopia Residual</th>\n",
       "    </tr>\n",
       "  </thead>\n",
       "  <tbody>\n",
       "    <tr>\n",
       "      <th>Happiness Score</th>\n",
       "      <td>1.000000</td>\n",
       "      <td>-0.237228</td>\n",
       "      <td>0.773577</td>\n",
       "      <td>0.720868</td>\n",
       "      <td>0.729191</td>\n",
       "      <td>0.585066</td>\n",
       "      <td>0.394775</td>\n",
       "      <td>0.250903</td>\n",
       "      <td>0.528334</td>\n",
       "    </tr>\n",
       "    <tr>\n",
       "      <th>Standard Error</th>\n",
       "      <td>-0.237228</td>\n",
       "      <td>1.000000</td>\n",
       "      <td>-0.244856</td>\n",
       "      <td>-0.129305</td>\n",
       "      <td>-0.343251</td>\n",
       "      <td>-0.202292</td>\n",
       "      <td>-0.095125</td>\n",
       "      <td>-0.155298</td>\n",
       "      <td>0.028798</td>\n",
       "    </tr>\n",
       "    <tr>\n",
       "      <th>Economy (GDP per Capita)</th>\n",
       "      <td>0.773577</td>\n",
       "      <td>-0.244856</td>\n",
       "      <td>1.000000</td>\n",
       "      <td>0.628589</td>\n",
       "      <td>0.817470</td>\n",
       "      <td>0.376780</td>\n",
       "      <td>0.231317</td>\n",
       "      <td>0.020730</td>\n",
       "      <td>0.026936</td>\n",
       "    </tr>\n",
       "    <tr>\n",
       "      <th>Family</th>\n",
       "      <td>0.720868</td>\n",
       "      <td>-0.129305</td>\n",
       "      <td>0.628589</td>\n",
       "      <td>1.000000</td>\n",
       "      <td>0.503890</td>\n",
       "      <td>0.474229</td>\n",
       "      <td>0.180054</td>\n",
       "      <td>0.154011</td>\n",
       "      <td>0.118062</td>\n",
       "    </tr>\n",
       "    <tr>\n",
       "      <th>Health (Life Expectancy)</th>\n",
       "      <td>0.729191</td>\n",
       "      <td>-0.343251</td>\n",
       "      <td>0.817470</td>\n",
       "      <td>0.503890</td>\n",
       "      <td>1.000000</td>\n",
       "      <td>0.382595</td>\n",
       "      <td>0.158670</td>\n",
       "      <td>0.129328</td>\n",
       "      <td>0.031212</td>\n",
       "    </tr>\n",
       "    <tr>\n",
       "      <th>Freedom</th>\n",
       "      <td>0.585066</td>\n",
       "      <td>-0.202292</td>\n",
       "      <td>0.376780</td>\n",
       "      <td>0.474229</td>\n",
       "      <td>0.382595</td>\n",
       "      <td>1.000000</td>\n",
       "      <td>0.482062</td>\n",
       "      <td>0.428718</td>\n",
       "      <td>0.058596</td>\n",
       "    </tr>\n",
       "    <tr>\n",
       "      <th>Trust (Government Corruption)</th>\n",
       "      <td>0.394775</td>\n",
       "      <td>-0.095125</td>\n",
       "      <td>0.231317</td>\n",
       "      <td>0.180054</td>\n",
       "      <td>0.158670</td>\n",
       "      <td>0.482062</td>\n",
       "      <td>1.000000</td>\n",
       "      <td>0.241413</td>\n",
       "      <td>0.107929</td>\n",
       "    </tr>\n",
       "    <tr>\n",
       "      <th>Generosity</th>\n",
       "      <td>0.250903</td>\n",
       "      <td>-0.155298</td>\n",
       "      <td>0.020730</td>\n",
       "      <td>0.154011</td>\n",
       "      <td>0.129328</td>\n",
       "      <td>0.428718</td>\n",
       "      <td>0.241413</td>\n",
       "      <td>1.000000</td>\n",
       "      <td>-0.034239</td>\n",
       "    </tr>\n",
       "    <tr>\n",
       "      <th>Dystopia Residual</th>\n",
       "      <td>0.528334</td>\n",
       "      <td>0.028798</td>\n",
       "      <td>0.026936</td>\n",
       "      <td>0.118062</td>\n",
       "      <td>0.031212</td>\n",
       "      <td>0.058596</td>\n",
       "      <td>0.107929</td>\n",
       "      <td>-0.034239</td>\n",
       "      <td>1.000000</td>\n",
       "    </tr>\n",
       "  </tbody>\n",
       "</table>\n",
       "</div>"
      ],
      "text/plain": [
       "                               Happiness Score  Standard Error  \\\n",
       "Happiness Score                       1.000000       -0.237228   \n",
       "Standard Error                       -0.237228        1.000000   \n",
       "Economy (GDP per Capita)              0.773577       -0.244856   \n",
       "Family                                0.720868       -0.129305   \n",
       "Health (Life Expectancy)              0.729191       -0.343251   \n",
       "Freedom                               0.585066       -0.202292   \n",
       "Trust (Government Corruption)         0.394775       -0.095125   \n",
       "Generosity                            0.250903       -0.155298   \n",
       "Dystopia Residual                     0.528334        0.028798   \n",
       "\n",
       "                               Economy (GDP per Capita)    Family  \\\n",
       "Happiness Score                                0.773577  0.720868   \n",
       "Standard Error                                -0.244856 -0.129305   \n",
       "Economy (GDP per Capita)                       1.000000  0.628589   \n",
       "Family                                         0.628589  1.000000   \n",
       "Health (Life Expectancy)                       0.817470  0.503890   \n",
       "Freedom                                        0.376780  0.474229   \n",
       "Trust (Government Corruption)                  0.231317  0.180054   \n",
       "Generosity                                     0.020730  0.154011   \n",
       "Dystopia Residual                              0.026936  0.118062   \n",
       "\n",
       "                               Health (Life Expectancy)   Freedom  \\\n",
       "Happiness Score                                0.729191  0.585066   \n",
       "Standard Error                                -0.343251 -0.202292   \n",
       "Economy (GDP per Capita)                       0.817470  0.376780   \n",
       "Family                                         0.503890  0.474229   \n",
       "Health (Life Expectancy)                       1.000000  0.382595   \n",
       "Freedom                                        0.382595  1.000000   \n",
       "Trust (Government Corruption)                  0.158670  0.482062   \n",
       "Generosity                                     0.129328  0.428718   \n",
       "Dystopia Residual                              0.031212  0.058596   \n",
       "\n",
       "                               Trust (Government Corruption)  Generosity  \\\n",
       "Happiness Score                                     0.394775    0.250903   \n",
       "Standard Error                                     -0.095125   -0.155298   \n",
       "Economy (GDP per Capita)                            0.231317    0.020730   \n",
       "Family                                              0.180054    0.154011   \n",
       "Health (Life Expectancy)                            0.158670    0.129328   \n",
       "Freedom                                             0.482062    0.428718   \n",
       "Trust (Government Corruption)                       1.000000    0.241413   \n",
       "Generosity                                          0.241413    1.000000   \n",
       "Dystopia Residual                                   0.107929   -0.034239   \n",
       "\n",
       "                               Dystopia Residual  \n",
       "Happiness Score                         0.528334  \n",
       "Standard Error                          0.028798  \n",
       "Economy (GDP per Capita)                0.026936  \n",
       "Family                                  0.118062  \n",
       "Health (Life Expectancy)                0.031212  \n",
       "Freedom                                 0.058596  \n",
       "Trust (Government Corruption)           0.107929  \n",
       "Generosity                             -0.034239  \n",
       "Dystopia Residual                       1.000000  "
      ]
     },
     "execution_count": 120,
     "metadata": {},
     "output_type": "execute_result"
    }
   ],
   "source": [
    "#checking Correlation \n",
    "df.corr()"
   ]
  },
  {
   "cell_type": "code",
   "execution_count": 121,
   "id": "1c626f68",
   "metadata": {},
   "outputs": [
    {
     "data": {
      "text/plain": [
       "<AxesSubplot:>"
      ]
     },
     "execution_count": 121,
     "metadata": {},
     "output_type": "execute_result"
    },
    {
     "data": {
      "image/png": "[encoded data removed]",
      "text/plain": [
       "<Figure size 1080x504 with 2 Axes>"
      ]
     },
     "metadata": {
      "needs_background": "light"
     },
     "output_type": "display_data"
    }
   ],
   "source": [
    "#checking the corelation  again using heatmaps (only absolute values)\n",
    "plt.figure(figsize = (15,7))\n",
    "sns.heatmap(df.corr(), annot = True, linewidths=0.5, fmt='.2f',cmap = \"YlGnBu\")"
   ]
  },
  {
   "cell_type": "markdown",
   "id": "cbaba554",
   "metadata": {},
   "source": [
    "<span style=\"color:blue\">Observation - From the above plot, we can notice that 'Economy (GDP per Capita)', 'Health (Life Expectancy)' are strongly correlated.\n",
    "But both are important feature to predict Happpiness score so don't drop these column. "
   ]
  },
  {
   "cell_type": "markdown",
   "id": "353f7ecd",
   "metadata": {},
   "source": [
    "<span style=\"color:black\">****Seperating Feature and Label**** "
   ]
  },
  {
   "cell_type": "code",
   "execution_count": 136,
   "id": "088861a9",
   "metadata": {},
   "outputs": [
    {
     "name": "stdout",
     "output_type": "stream",
     "text": [
      "Feature Dimension : (149, 8)\n",
      "Target Dimension : (149,)\n"
     ]
    }
   ],
   "source": [
    "#Seperating Feature and label into x and y\n",
    "x=df.drop([\"Happiness Score\",'Country', 'Region'],axis=1)\n",
    "y=df[\"Happiness Score\"]\n",
    "\n",
    "print(\"Feature Dimension :\" ,x.shape)\n",
    "print(\"Target Dimension :\" ,y.shape)"
   ]
  },
  {
   "cell_type": "markdown",
   "id": "5b3ea72d",
   "metadata": {},
   "source": [
    "<span style=\"color:black\">****Feature Scaling Using Standard Scaler****"
   ]
  },
  {
   "cell_type": "code",
   "execution_count": 137,
   "id": "275e6cbc",
   "metadata": {},
   "outputs": [
    {
     "data": {
      "text/html": [
       "<div>\n",
       "<style scoped>\n",
       "    .dataframe tbody tr th:only-of-type {\n",
       "        vertical-align: middle;\n",
       "    }\n",
       "\n",
       "    .dataframe tbody tr th {\n",
       "        vertical-align: top;\n",
       "    }\n",
       "\n",
       "    .dataframe thead th {\n",
       "        text-align: right;\n",
       "    }\n",
       "</style>\n",
       "<table border=\"1\" class=\"dataframe\">\n",
       "  <thead>\n",
       "    <tr style=\"text-align: right;\">\n",
       "      <th></th>\n",
       "      <th>Standard Error</th>\n",
       "      <th>Economy (GDP per Capita)</th>\n",
       "      <th>Family</th>\n",
       "      <th>Health (Life Expectancy)</th>\n",
       "      <th>Freedom</th>\n",
       "      <th>Trust (Government Corruption)</th>\n",
       "      <th>Generosity</th>\n",
       "      <th>Dystopia Residual</th>\n",
       "    </tr>\n",
       "  </thead>\n",
       "  <tbody>\n",
       "    <tr>\n",
       "      <th>0</th>\n",
       "      <td>-0.911097</td>\n",
       "      <td>1.381916</td>\n",
       "      <td>1.357879</td>\n",
       "      <td>1.235390</td>\n",
       "      <td>1.583704</td>\n",
       "      <td>1.886835</td>\n",
       "      <td>0.546305</td>\n",
       "      <td>0.756876</td>\n",
       "    </tr>\n",
       "    <tr>\n",
       "      <th>1</th>\n",
       "      <td>0.289534</td>\n",
       "      <td>1.138324</td>\n",
       "      <td>1.567882</td>\n",
       "      <td>1.261541</td>\n",
       "      <td>1.338953</td>\n",
       "      <td>0.279412</td>\n",
       "      <td>1.713898</td>\n",
       "      <td>1.109300</td>\n",
       "    </tr>\n",
       "    <tr>\n",
       "      <th>2</th>\n",
       "      <td>-0.988343</td>\n",
       "      <td>1.198220</td>\n",
       "      <td>1.401974</td>\n",
       "      <td>0.962900</td>\n",
       "      <td>1.476027</td>\n",
       "      <td>2.142033</td>\n",
       "      <td>0.919630</td>\n",
       "      <td>0.708507</td>\n",
       "    </tr>\n",
       "    <tr>\n",
       "      <th>3</th>\n",
       "      <td>-0.496623</td>\n",
       "      <td>1.543526</td>\n",
       "      <td>1.283947</td>\n",
       "      <td>1.006023</td>\n",
       "      <td>1.611371</td>\n",
       "      <td>1.646273</td>\n",
       "      <td>0.966495</td>\n",
       "      <td>0.657485</td>\n",
       "    </tr>\n",
       "    <tr>\n",
       "      <th>4</th>\n",
       "      <td>-0.781797</td>\n",
       "      <td>1.200315</td>\n",
       "      <td>1.250726</td>\n",
       "      <td>1.089333</td>\n",
       "      <td>1.366887</td>\n",
       "      <td>1.477326</td>\n",
       "      <td>1.896418</td>\n",
       "      <td>0.631620</td>\n",
       "    </tr>\n",
       "    <tr>\n",
       "      <th>...</th>\n",
       "      <td>...</td>\n",
       "      <td>...</td>\n",
       "      <td>...</td>\n",
       "      <td>...</td>\n",
       "      <td>...</td>\n",
       "      <td>...</td>\n",
       "      <td>...</td>\n",
       "      <td>...</td>\n",
       "    </tr>\n",
       "    <tr>\n",
       "      <th>144</th>\n",
       "      <td>0.473095</td>\n",
       "      <td>-1.026255</td>\n",
       "      <td>-0.945943</td>\n",
       "      <td>-1.985941</td>\n",
       "      <td>0.274090</td>\n",
       "      <td>0.581308</td>\n",
       "      <td>-0.249803</td>\n",
       "      <td>-1.343100</td>\n",
       "    </tr>\n",
       "    <tr>\n",
       "      <th>145</th>\n",
       "      <td>-0.134003</td>\n",
       "      <td>-1.562163</td>\n",
       "      <td>-0.624365</td>\n",
       "      <td>-1.498813</td>\n",
       "      <td>-0.216276</td>\n",
       "      <td>0.161899</td>\n",
       "      <td>-0.117411</td>\n",
       "      <td>-1.252030</td>\n",
       "    </tr>\n",
       "    <tr>\n",
       "      <th>146</th>\n",
       "      <td>-1.223140</td>\n",
       "      <td>-1.402596</td>\n",
       "      <td>-2.811354</td>\n",
       "      <td>-1.367851</td>\n",
       "      <td>-1.285662</td>\n",
       "      <td>-0.153050</td>\n",
       "      <td>1.118051</td>\n",
       "      <td>-0.322135</td>\n",
       "    </tr>\n",
       "    <tr>\n",
       "      <th>147</th>\n",
       "      <td>-0.690149</td>\n",
       "      <td>-1.488379</td>\n",
       "      <td>-2.608163</td>\n",
       "      <td>-1.303594</td>\n",
       "      <td>0.379439</td>\n",
       "      <td>-0.355660</td>\n",
       "      <td>-0.409226</td>\n",
       "      <td>-0.930702</td>\n",
       "    </tr>\n",
       "    <tr>\n",
       "      <th>148</th>\n",
       "      <td>2.528138</td>\n",
       "      <td>-2.190139</td>\n",
       "      <td>-2.361154</td>\n",
       "      <td>-1.691747</td>\n",
       "      <td>-2.054764</td>\n",
       "      <td>-0.115312</td>\n",
       "      <td>-0.286458</td>\n",
       "      <td>-0.549436</td>\n",
       "    </tr>\n",
       "  </tbody>\n",
       "</table>\n",
       "<p>149 rows × 8 columns</p>\n",
       "</div>"
      ],
      "text/plain": [
       "     Standard Error  Economy (GDP per Capita)    Family  \\\n",
       "0         -0.911097                  1.381916  1.357879   \n",
       "1          0.289534                  1.138324  1.567882   \n",
       "2         -0.988343                  1.198220  1.401974   \n",
       "3         -0.496623                  1.543526  1.283947   \n",
       "4         -0.781797                  1.200315  1.250726   \n",
       "..              ...                       ...       ...   \n",
       "144        0.473095                 -1.026255 -0.945943   \n",
       "145       -0.134003                 -1.562163 -0.624365   \n",
       "146       -1.223140                 -1.402596 -2.811354   \n",
       "147       -0.690149                 -1.488379 -2.608163   \n",
       "148        2.528138                 -2.190139 -2.361154   \n",
       "\n",
       "     Health (Life Expectancy)   Freedom  Trust (Government Corruption)  \\\n",
       "0                    1.235390  1.583704                       1.886835   \n",
       "1                    1.261541  1.338953                       0.279412   \n",
       "2                    0.962900  1.476027                       2.142033   \n",
       "3                    1.006023  1.611371                       1.646273   \n",
       "4                    1.089333  1.366887                       1.477326   \n",
       "..                        ...       ...                            ...   \n",
       "144                 -1.985941  0.274090                       0.581308   \n",
       "145                 -1.498813 -0.216276                       0.161899   \n",
       "146                 -1.367851 -1.285662                      -0.153050   \n",
       "147                 -1.303594  0.379439                      -0.355660   \n",
       "148                 -1.691747 -2.054764                      -0.115312   \n",
       "\n",
       "     Generosity  Dystopia Residual  \n",
       "0      0.546305           0.756876  \n",
       "1      1.713898           1.109300  \n",
       "2      0.919630           0.708507  \n",
       "3      0.966495           0.657485  \n",
       "4      1.896418           0.631620  \n",
       "..          ...                ...  \n",
       "144   -0.249803          -1.343100  \n",
       "145   -0.117411          -1.252030  \n",
       "146    1.118051          -0.322135  \n",
       "147   -0.409226          -0.930702  \n",
       "148   -0.286458          -0.549436  \n",
       "\n",
       "[149 rows x 8 columns]"
      ]
     },
     "execution_count": 137,
     "metadata": {},
     "output_type": "execute_result"
    }
   ],
   "source": [
    "# data scaling \n",
    "from sklearn.preprocessing import StandardScaler\n",
    "scaler = StandardScaler()\n",
    "x_scaled = pd.DataFrame(scaler.fit_transform(x),columns=x.columns)\n",
    "x_scaled"
   ]
  },
  {
   "cell_type": "markdown",
   "id": "f08e6997",
   "metadata": {},
   "source": [
    " <span style=\"color:red\">****Detecting Multicollinearity Using a Variance Inflation Factor (VIF)****"
   ]
  },
  {
   "cell_type": "code",
   "execution_count": 138,
   "id": "9f8e6f1d",
   "metadata": {},
   "outputs": [
    {
     "data": {
      "text/html": [
       "<div>\n",
       "<style scoped>\n",
       "    .dataframe tbody tr th:only-of-type {\n",
       "        vertical-align: middle;\n",
       "    }\n",
       "\n",
       "    .dataframe tbody tr th {\n",
       "        vertical-align: top;\n",
       "    }\n",
       "\n",
       "    .dataframe thead th {\n",
       "        text-align: right;\n",
       "    }\n",
       "</style>\n",
       "<table border=\"1\" class=\"dataframe\">\n",
       "  <thead>\n",
       "    <tr style=\"text-align: right;\">\n",
       "      <th></th>\n",
       "      <th>VIF</th>\n",
       "      <th>Features</th>\n",
       "    </tr>\n",
       "  </thead>\n",
       "  <tbody>\n",
       "    <tr>\n",
       "      <th>0</th>\n",
       "      <td>1.161693</td>\n",
       "      <td>Standard Error</td>\n",
       "    </tr>\n",
       "    <tr>\n",
       "      <th>1</th>\n",
       "      <td>4.105092</td>\n",
       "      <td>Economy (GDP per Capita)</td>\n",
       "    </tr>\n",
       "    <tr>\n",
       "      <th>2</th>\n",
       "      <td>1.946484</td>\n",
       "      <td>Family</td>\n",
       "    </tr>\n",
       "    <tr>\n",
       "      <th>3</th>\n",
       "      <td>3.417996</td>\n",
       "      <td>Health (Life Expectancy)</td>\n",
       "    </tr>\n",
       "    <tr>\n",
       "      <th>4</th>\n",
       "      <td>1.930776</td>\n",
       "      <td>Freedom</td>\n",
       "    </tr>\n",
       "    <tr>\n",
       "      <th>5</th>\n",
       "      <td>1.380158</td>\n",
       "      <td>Trust (Government Corruption)</td>\n",
       "    </tr>\n",
       "    <tr>\n",
       "      <th>6</th>\n",
       "      <td>1.319227</td>\n",
       "      <td>Generosity</td>\n",
       "    </tr>\n",
       "    <tr>\n",
       "      <th>7</th>\n",
       "      <td>1.039449</td>\n",
       "      <td>Dystopia Residual</td>\n",
       "    </tr>\n",
       "  </tbody>\n",
       "</table>\n",
       "</div>"
      ],
      "text/plain": [
       "        VIF                       Features\n",
       "0  1.161693                 Standard Error\n",
       "1  4.105092       Economy (GDP per Capita)\n",
       "2  1.946484                         Family\n",
       "3  3.417996       Health (Life Expectancy)\n",
       "4  1.930776                        Freedom\n",
       "5  1.380158  Trust (Government Corruption)\n",
       "6  1.319227                     Generosity\n",
       "7  1.039449              Dystopia Residual"
      ]
     },
     "execution_count": 138,
     "metadata": {},
     "output_type": "execute_result"
    }
   ],
   "source": [
    "#finding VIF in each scaled column i.e x_scaled.shape[1](1/1- R^2 )\n",
    "\n",
    "from statsmodels.stats.outliers_influence import variance_inflation_factor\n",
    "vif=pd.DataFrame()\n",
    "\n",
    "vif[\"VIF\"] = [variance_inflation_factor(x_scaled.values, i) for i in range(len(x_scaled.columns))]\n",
    "vif[\"Features\"] = x_scaled.columns\n",
    "\n",
    "vif"
   ]
  },
  {
   "cell_type": "markdown",
   "id": "d5823ae3",
   "metadata": {},
   "source": [
    "<span style=\"color:blue\">Conclusion -There is no case of multicollinearity"
   ]
  },
  {
   "cell_type": "markdown",
   "id": "30227999",
   "metadata": {},
   "source": [
    "<span style=\"color:black\">****Split the data into training and testing sets****"
   ]
  },
  {
   "cell_type": "code",
   "execution_count": 141,
   "id": "044d6c9b",
   "metadata": {},
   "outputs": [
    {
     "name": "stdout",
     "output_type": "stream",
     "text": [
      "Total Size Of Feature in Dataset : (149, 8)\n",
      "Total Size Of Training Feature Dataset :  (104, 8)\n",
      "Total Size Of Testing Feature Dataset :  (45, 8)\n",
      "Total Size Of Label in Dataset : (149,)\n",
      "Total Size Of Training Label Dataset :  (104,)\n",
      "Total Size Of Testing Label Dataset :  (45,)\n"
     ]
    }
   ],
   "source": [
    "# Split the data into training and testing sets \n",
    "from sklearn.model_selection import train_test_split\n",
    "\n",
    "x_train,x_test,y_train,y_test = train_test_split (x_scaled, y, test_size = .30, random_state = 48)\n",
    "print(\"Total Size Of Feature in Dataset :\",x_scaled.shape)\n",
    "print(\"Total Size Of Training Feature Dataset : \" ,x_train.shape)\n",
    "print(\"Total Size Of Testing Feature Dataset : \", x_test.shape)\n",
    "\n",
    "print(\"Total Size Of Label in Dataset :\",y.shape)\n",
    "print(\"Total Size Of Training Label Dataset : \" ,y_train.shape)\n",
    "print(\"Total Size Of Testing Label Dataset : \", y_test.shape)"
   ]
  },
  {
   "cell_type": "markdown",
   "id": "59e0449d",
   "metadata": {},
   "source": [
    "<span style=\"color:black\">****Write one function and call as many as times to check score of different model****"
   ]
  },
  {
   "cell_type": "code",
   "execution_count": 240,
   "id": "72efc2c4",
   "metadata": {},
   "outputs": [],
   "source": [
    "from sklearn.metrics import mean_absolute_error\n",
    "from sklearn.metrics import mean_squared_error\n",
    "from sklearn.metrics import r2_score\n",
    "\n",
    "def model_score(model_name,x_train,x_test,y_train,y_test, train=True):\n",
    "    if train: #checking training score \n",
    "        y_pred_train=model_name.predict(x_train)\n",
    "        \n",
    "        print(\"\\n*********************Train Result*********************\")\n",
    "        \n",
    "        print(\"R2 Score on train data:\",r2_score(y_train,y_pred_train)*100)\n",
    "        \n",
    "    elif train==False: #checking testing score \n",
    "        y_pred_test=model_name.predict(x_test)\n",
    "        \n",
    "        print(\"\\n*********************Test Result*********************\")\n",
    "        \n",
    "        print(\"R2 Score on test data:\",r2_score(y_test,y_pred_test)*100)\n",
    "        print(\"Mean Absolute Error :\",mean_absolute_error(y_test,y_pred_test)*100)\n",
    "        print(\"Mean Squared Error :\",mean_squared_error(y_test,y_pred_test)*100)\n",
    "        print(\"Root Mean Squared Error :\",np.sqrt(mean_squared_error(y_test,y_pred_test))*100)              "
   ]
  },
  {
   "cell_type": "markdown",
   "id": "65e44730",
   "metadata": {},
   "source": [
    "# <span style=\"color:red\">****------------------Models--------------------****"
   ]
  },
  {
   "cell_type": "markdown",
   "id": "c7317b66",
   "metadata": {},
   "source": [
    "# LinearRegression"
   ]
  },
  {
   "cell_type": "code",
   "execution_count": 241,
   "id": "e88f7728",
   "metadata": {},
   "outputs": [
    {
     "data": {
      "text/plain": [
       "LinearRegression()"
      ]
     },
     "execution_count": 241,
     "metadata": {},
     "output_type": "execute_result"
    }
   ],
   "source": [
    "from sklearn.linear_model import LinearRegression\n",
    "LR = LinearRegression()\n",
    "LR.fit(x_train, y_train)"
   ]
  },
  {
   "cell_type": "code",
   "execution_count": 242,
   "id": "cfd7496d",
   "metadata": {},
   "outputs": [
    {
     "name": "stdout",
     "output_type": "stream",
     "text": [
      "\n",
      "*********************Train Result*********************\n",
      "R2 Score on train data: 99.91758117298545\n",
      "\n",
      "*********************Test Result*********************\n",
      "R2 Score on test data: 99.80023453788188\n",
      "Mean Absolute Error : 2.9347572396651382\n",
      "Mean Squared Error : 0.22043009193101434\n",
      "Root Mean Squared Error : 4.694998316623919\n"
     ]
    }
   ],
   "source": [
    "#Call the function and pass datset to check train and test score \n",
    "model_score(LR,x_train,x_test,y_train,y_test, train=True) #This is training score\n",
    "model_score(LR,x_train,x_test,y_train,y_test, train=False) #This is testing score"
   ]
  },
  {
   "cell_type": "markdown",
   "id": "aca0af8c",
   "metadata": {},
   "source": [
    "# Lasso"
   ]
  },
  {
   "cell_type": "code",
   "execution_count": 243,
   "id": "80fa9869",
   "metadata": {},
   "outputs": [
    {
     "data": {
      "text/plain": [
       "Lasso()"
      ]
     },
     "execution_count": 243,
     "metadata": {},
     "output_type": "execute_result"
    }
   ],
   "source": [
    "from sklearn.linear_model import Lasso\n",
    "lasso=Lasso()\n",
    "lasso.fit(x_train, y_train)"
   ]
  },
  {
   "cell_type": "code",
   "execution_count": 244,
   "id": "9d0e3cdd",
   "metadata": {},
   "outputs": [
    {
     "name": "stdout",
     "output_type": "stream",
     "text": [
      "\n",
      "*********************Train Result*********************\n",
      "R2 Score on train data: 0.0\n",
      "\n",
      "*********************Test Result*********************\n",
      "R2 Score on test data: -11.237729024142817\n",
      "Mean Absolute Error : 93.55410256410256\n",
      "Mean Squared Error : 122.74465553254441\n",
      "Root Mean Squared Error : 110.79018708014911\n"
     ]
    }
   ],
   "source": [
    "#Call the function and pass datset to check train and test score \n",
    "model_score(lasso,x_train,x_test,y_train,y_test, train=True) #This is training score\n",
    "model_score(lasso,x_train,x_test,y_train,y_test, train=False) #This is testing score"
   ]
  },
  {
   "cell_type": "markdown",
   "id": "a5382718",
   "metadata": {},
   "source": [
    "# Ridge"
   ]
  },
  {
   "cell_type": "code",
   "execution_count": 245,
   "id": "288959c7",
   "metadata": {},
   "outputs": [
    {
     "data": {
      "text/plain": [
       "Ridge()"
      ]
     },
     "execution_count": 245,
     "metadata": {},
     "output_type": "execute_result"
    }
   ],
   "source": [
    "from sklearn.linear_model import Ridge\n",
    "ridge=Ridge()\n",
    "ridge.fit(x_train, y_train)"
   ]
  },
  {
   "cell_type": "code",
   "execution_count": 246,
   "id": "66647b19",
   "metadata": {},
   "outputs": [
    {
     "name": "stdout",
     "output_type": "stream",
     "text": [
      "\n",
      "*********************Train Result*********************\n",
      "R2 Score on train data: 99.91383888050213\n",
      "\n",
      "*********************Test Result*********************\n",
      "R2 Score on test data: 99.80285187229573\n",
      "Mean Absolute Error : 2.995165162710782\n",
      "Mean Squared Error : 0.21754200877918936\n",
      "Root Mean Squared Error : 4.664139886186834\n"
     ]
    }
   ],
   "source": [
    "#Call the function and pass datset to check train and test score \n",
    "model_score(ridge,x_train,x_test,y_train,y_test, train=True) #This is training score\n",
    "model_score(ridge,x_train,x_test,y_train,y_test, train=False) #This is testing score"
   ]
  },
  {
   "cell_type": "markdown",
   "id": "64ed65cc",
   "metadata": {},
   "source": [
    "# DecisionTreeRegressor"
   ]
  },
  {
   "cell_type": "code",
   "execution_count": 247,
   "id": "c7e5257e",
   "metadata": {},
   "outputs": [
    {
     "data": {
      "text/plain": [
       "DecisionTreeRegressor()"
      ]
     },
     "execution_count": 247,
     "metadata": {},
     "output_type": "execute_result"
    }
   ],
   "source": [
    "from sklearn.tree import DecisionTreeRegressor\n",
    "Decision_tree = DecisionTreeRegressor()\n",
    "Decision_tree.fit(x_train, y_train)"
   ]
  },
  {
   "cell_type": "code",
   "execution_count": 248,
   "id": "f0d15378",
   "metadata": {},
   "outputs": [
    {
     "name": "stdout",
     "output_type": "stream",
     "text": [
      "\n",
      "*********************Train Result*********************\n",
      "R2 Score on train data: 100.0\n",
      "\n",
      "*********************Test Result*********************\n",
      "R2 Score on test data: 68.79760584086294\n",
      "Mean Absolute Error : 47.34444444444444\n",
      "Mean Squared Error : 34.430108888888896\n",
      "Root Mean Squared Error : 58.67717519520592\n"
     ]
    }
   ],
   "source": [
    "#Call the function and pass datset to check train and test score \n",
    "model_score(Decision_tree,x_train,x_test,y_train,y_test, train=True) #This is training score\n",
    "model_score(Decision_tree,x_train,x_test,y_train,y_test, train=False) #This is testing score"
   ]
  },
  {
   "cell_type": "markdown",
   "id": "323f422f",
   "metadata": {},
   "source": [
    "# RandomForestRegressor"
   ]
  },
  {
   "cell_type": "code",
   "execution_count": 249,
   "id": "e8c0f47a",
   "metadata": {},
   "outputs": [
    {
     "data": {
      "text/plain": [
       "RandomForestRegressor()"
      ]
     },
     "execution_count": 249,
     "metadata": {},
     "output_type": "execute_result"
    }
   ],
   "source": [
    "from sklearn.ensemble import RandomForestRegressor\n",
    "random_forest=RandomForestRegressor()\n",
    "random_forest.fit(x_train, y_train)"
   ]
  },
  {
   "cell_type": "code",
   "execution_count": 250,
   "id": "55aa1c2e",
   "metadata": {},
   "outputs": [
    {
     "name": "stdout",
     "output_type": "stream",
     "text": [
      "\n",
      "*********************Train Result*********************\n",
      "R2 Score on train data: 98.35803912916111\n",
      "\n",
      "*********************Test Result*********************\n",
      "R2 Score on test data: 88.30415143545667\n",
      "Mean Absolute Error : 26.923933333333327\n",
      "Mean Squared Error : 12.90571927177779\n",
      "Root Mean Squared Error : 35.924530994541584\n"
     ]
    }
   ],
   "source": [
    "#Call the function and pass datset to check train and test score \n",
    "model_score(random_forest,x_train,x_test,y_train,y_test, train=True) #This is training score\n",
    "model_score(random_forest,x_train,x_test,y_train,y_test, train=False) #This is testing score"
   ]
  },
  {
   "cell_type": "markdown",
   "id": "74b97278",
   "metadata": {},
   "source": [
    "# AdaBoostRegressor"
   ]
  },
  {
   "cell_type": "code",
   "execution_count": 251,
   "id": "ad8fd034",
   "metadata": {},
   "outputs": [
    {
     "data": {
      "text/plain": [
       "AdaBoostRegressor()"
      ]
     },
     "execution_count": 251,
     "metadata": {},
     "output_type": "execute_result"
    }
   ],
   "source": [
    "from sklearn.ensemble import AdaBoostRegressor\n",
    "adaboost = AdaBoostRegressor()\n",
    "adaboost.fit(x_train,y_train)"
   ]
  },
  {
   "cell_type": "code",
   "execution_count": 252,
   "id": "e05d8ec3",
   "metadata": {},
   "outputs": [
    {
     "name": "stdout",
     "output_type": "stream",
     "text": [
      "\n",
      "*********************Train Result*********************\n",
      "R2 Score on train data: 96.38991588837287\n",
      "\n",
      "*********************Test Result*********************\n",
      "R2 Score on test data: 85.52409222101475\n",
      "Mean Absolute Error : 32.17024998280023\n",
      "Mean Squared Error : 15.973360202874886\n",
      "Root Mean Squared Error : 39.96668638112858\n"
     ]
    }
   ],
   "source": [
    "#Call the function and pass datset to check train and test score \n",
    "model_score(adaboost,x_train,x_test,y_train,y_test, train=True) #This is training score\n",
    "model_score(adaboost,x_train,x_test,y_train,y_test, train=False) #This is testing score"
   ]
  },
  {
   "cell_type": "markdown",
   "id": "6aa2dce6",
   "metadata": {},
   "source": [
    "# Support Vector Regression (SVR)"
   ]
  },
  {
   "cell_type": "code",
   "execution_count": 253,
   "id": "89910417",
   "metadata": {},
   "outputs": [
    {
     "data": {
      "text/plain": [
       "SVR()"
      ]
     },
     "execution_count": 253,
     "metadata": {},
     "output_type": "execute_result"
    }
   ],
   "source": [
    "from sklearn.svm import SVR\n",
    "svm=SVR()\n",
    "svm.fit(x_train,y_train)"
   ]
  },
  {
   "cell_type": "code",
   "execution_count": 254,
   "id": "fce56c52",
   "metadata": {},
   "outputs": [
    {
     "name": "stdout",
     "output_type": "stream",
     "text": [
      "\n",
      "*********************Train Result*********************\n",
      "R2 Score on train data: 99.09227349690795\n",
      "\n",
      "*********************Test Result*********************\n",
      "R2 Score on test data: 88.31383159888821\n",
      "Mean Absolute Error : 22.05178462835431\n",
      "Mean Squared Error : 12.89503774909364\n",
      "Root Mean Squared Error : 35.90966130318363\n"
     ]
    }
   ],
   "source": [
    "#Call the function and pass datset to check train and test score \n",
    "model_score(svm,x_train,x_test,y_train,y_test, train=True) #This is training score\n",
    "model_score(svm,x_train,x_test,y_train,y_test, train=False) #This is testing score"
   ]
  },
  {
   "cell_type": "markdown",
   "id": "0f25296f",
   "metadata": {},
   "source": [
    "# <span style=\"color:green\">Out of all above models LinearRegression,Ridge perform well."
   ]
  },
  {
   "cell_type": "markdown",
   "id": "9cf48b58",
   "metadata": {},
   "source": [
    "<span style=\"color:red\">****Cross-Validation score- to check if the model is overfitting****"
   ]
  },
  {
   "cell_type": "markdown",
   "id": "e3959076",
   "metadata": {},
   "source": [
    " Cross-Validation is a technique used to assess how well our Machine learning models perform on unseen data”"
   ]
  },
  {
   "cell_type": "code",
   "execution_count": 233,
   "id": "10234b48",
   "metadata": {},
   "outputs": [],
   "source": [
    "from sklearn.model_selection import cross_val_score"
   ]
  },
  {
   "cell_type": "code",
   "execution_count": 266,
   "id": "c639e62f",
   "metadata": {},
   "outputs": [
    {
     "name": "stdout",
     "output_type": "stream",
     "text": [
      "Cross-Validation score of each fold of Dataset: [0.95292639 0.98078834 0.93953141 0.95752555 0.99262246]\n",
      "Overall Cross-Validation score : 0.9646788295066264\n"
     ]
    }
   ],
   "source": [
    "#Linear Regression\n",
    "#For smaller datasets, use k=5 or k=10. For larger datasets, use k=10 or k=20.\n",
    "print(\"Cross-Validation score of each fold of Dataset:\",cross_val_score(LR,x_scaled,y,cv=5))\n",
    "print(\"Overall Cross-Validation score :\",cross_val_score(LR,x_scaled,y,cv=5).mean())"
   ]
  },
  {
   "cell_type": "code",
   "execution_count": 265,
   "id": "5c75b932",
   "metadata": {},
   "outputs": [
    {
     "name": "stdout",
     "output_type": "stream",
     "text": [
      "Cross-Validation score of each fold of Dataset: [0.93343957 0.98139066 0.93868444 0.9546195  0.9907598 ]\n",
      "Overall Cross-Validation score : 0.9597787924977592\n"
     ]
    }
   ],
   "source": [
    "#Ridge Regression\n",
    "print(\"Cross-Validation score of each fold of Dataset:\",cross_val_score(ridge,x_scaled,y,cv=5))\n",
    "print(\"Overall Cross-Validation score :\",cross_val_score(ridge,x_scaled,y,cv=5).mean())"
   ]
  },
  {
   "cell_type": "code",
   "execution_count": 264,
   "id": "9bd10469",
   "metadata": {},
   "outputs": [
    {
     "name": "stdout",
     "output_type": "stream",
     "text": [
      "Cross-Validation score of each fold of Dataset : [ -5.59486073  -9.49359616  -5.07795496 -11.56701474  -5.30444354]\n",
      "Overall Cross-Validation score : -8.337055127206082\n"
     ]
    }
   ],
   "source": [
    "#Decision tree Regressor\n",
    "print(\"Cross-Validation score of each fold of Dataset :\",cross_val_score(Decision_tree,x_scaled,y,cv=5))\n",
    "print(\"Overall Cross-Validation score :\",cross_val_score(Decision_tree,x_scaled,y,cv=5).mean())"
   ]
  },
  {
   "cell_type": "code",
   "execution_count": 263,
   "id": "b588d00b",
   "metadata": {},
   "outputs": [
    {
     "name": "stdout",
     "output_type": "stream",
     "text": [
      "Cross-Validation score of each fold of Dataset : [-7.76351975 -0.74742716 -0.77459605 -2.56272503 -6.44161873]\n",
      "Overall Cross-Validation score : -3.721372513894002\n"
     ]
    }
   ],
   "source": [
    "#RandomForestRegressor\n",
    "print(\"Cross-Validation score of each fold of Dataset :\",cross_val_score(random_forest,x_scaled,y,cv=5))\n",
    "print(\"Overall Cross-Validation score :\",cross_val_score(random_forest,x_scaled,y,cv=5).mean())"
   ]
  },
  {
   "cell_type": "code",
   "execution_count": 262,
   "id": "8739c98d",
   "metadata": {},
   "outputs": [
    {
     "name": "stdout",
     "output_type": "stream",
     "text": [
      "Cross-Validation score of each fold of Dataset- [-10.0674736   -6.0301931   -2.37519885  -6.18131138  -8.03691681]\n",
      "Overall Cross-Validation score - -6.298883208075843\n"
     ]
    }
   ],
   "source": [
    "#AdaBoostRegressor\n",
    "print(\"Cross-Validation score of each fold of Dataset-\",cross_val_score(adaboost,x_scaled,y,cv=5))\n",
    "print(\"Overall Cross-Validation score -\",cross_val_score(adaboost,x_scaled,y,cv=5).mean())"
   ]
  },
  {
   "cell_type": "code",
   "execution_count": 261,
   "id": "42ee23ab",
   "metadata": {},
   "outputs": [
    {
     "name": "stdout",
     "output_type": "stream",
     "text": [
      "Cross-Validation score of each fold of Dataset- [-10.40958689   0.12051524   0.80112338  -0.19417496  -5.60935241]\n",
      "Overall Cross-Validation score - -3.0582951294865994\n"
     ]
    }
   ],
   "source": [
    "#Support Vector Regression\n",
    "print(\"Cross-Validation score of each fold of Dataset-\",cross_val_score(svm,x_scaled,y,cv=5))\n",
    "print(\"Overall Cross-Validation score -\",cross_val_score(svm,x_scaled,y,cv=5).mean())"
   ]
  },
  {
   "cell_type": "markdown",
   "id": "db1623c5",
   "metadata": {},
   "source": [
    "# <span style=\"color:green\">Conclusion-All models except LinearRegression,Ridge are overfitted"
   ]
  },
  {
   "cell_type": "markdown",
   "id": "293487de",
   "metadata": {},
   "source": [
    "# <span style=\"color:black\">****HyperParameter Tuning****"
   ]
  },
  {
   "cell_type": "markdown",
   "id": "3bd96d61",
   "metadata": {},
   "source": [
    "<span style=\"color:red\">****HyperParameter Tuning for Linear regression****"
   ]
  },
  {
   "cell_type": "code",
   "execution_count": 296,
   "id": "5d22c83c",
   "metadata": {},
   "outputs": [
    {
     "data": {
      "text/plain": [
       "dict_keys(['copy_X', 'fit_intercept', 'n_jobs', 'normalize', 'positive'])"
      ]
     },
     "execution_count": 296,
     "metadata": {},
     "output_type": "execute_result"
    }
   ],
   "source": [
    "from sklearn.model_selection import GridSearchCV\n",
    "LR.get_params().keys()"
   ]
  },
  {
   "cell_type": "code",
   "execution_count": 297,
   "id": "e77cddad",
   "metadata": {},
   "outputs": [],
   "source": [
    "# Define the parameter grid\n",
    "param_grid = {\n",
    "    'fit_intercept': [True, False],\n",
    "    'copy_X': [True, False],\n",
    "    'n_jobs': [None, -1, 1, 2],\n",
    "    'positive': [True, False],  \n",
    "}"
   ]
  },
  {
   "cell_type": "code",
   "execution_count": 298,
   "id": "0ad7eaa2",
   "metadata": {},
   "outputs": [
    {
     "data": {
      "text/plain": [
       "GridSearchCV(estimator=LinearRegression(positive=True),\n",
       "             param_grid={'copy_X': [True, False],\n",
       "                         'fit_intercept': [True, False],\n",
       "                         'n_jobs': [None, -1, 1, 2],\n",
       "                         'positive': [True, False]})"
      ]
     },
     "execution_count": 298,
     "metadata": {},
     "output_type": "execute_result"
    }
   ],
   "source": [
    "grid_Search = GridSearchCV(estimator=LR,param_grid=param_grid)\n",
    "grid_Search.fit(x_train,y_train)"
   ]
  },
  {
   "cell_type": "code",
   "execution_count": 299,
   "id": "7b7c711a",
   "metadata": {},
   "outputs": [
    {
     "data": {
      "text/plain": [
       "{'copy_X': True, 'fit_intercept': True, 'n_jobs': None, 'positive': True}"
      ]
     },
     "execution_count": 299,
     "metadata": {},
     "output_type": "execute_result"
    }
   ],
   "source": [
    "#give the best parameter\n",
    "grid_Search.best_params_"
   ]
  },
  {
   "cell_type": "code",
   "execution_count": 300,
   "id": "50054807",
   "metadata": {},
   "outputs": [
    {
     "name": "stdout",
     "output_type": "stream",
     "text": [
      "\n",
      "*********************Train Result*********************\n",
      "R2 Score on train data: 99.91758117298545\n",
      "\n",
      "*********************Test Result*********************\n",
      "R2 Score on test data: 98.9118020520145\n",
      "Mean Absolute Error : 10.50282962517269\n",
      "Mean Squared Error : 1.200765994132366\n",
      "Root Mean Squared Error : 10.957946861216138\n"
     ]
    }
   ],
   "source": [
    "# we will use the best parameter in our Linear Regression algorithm and check if R^2 is increasing or not\n",
    "LR_GS = LinearRegression(copy_X=True, fit_intercept=True, n_jobs= None, positive= True)\n",
    "LR_GS.fit(x_train,y_train)\n",
    "\n",
    "#Call the function and pass datset to check train and test score \n",
    "model_score(LR_GS,x_train,x_test,y_train,y_test, train=True) #This is training score\n",
    "model_score(LR_GS,x_train,x_test,y_train,y_test, train=False) #This is testing score"
   ]
  },
  {
   "cell_type": "markdown",
   "id": "cb631354",
   "metadata": {},
   "source": [
    "<span style=\"color:red\">****HyperParameter Tuning for Ridge****"
   ]
  },
  {
   "cell_type": "code",
   "execution_count": 267,
   "id": "f2488123",
   "metadata": {},
   "outputs": [
    {
     "data": {
      "text/plain": [
       "dict_keys(['alpha', 'copy_X', 'fit_intercept', 'max_iter', 'normalize', 'positive', 'random_state', 'solver', 'tol'])"
      ]
     },
     "execution_count": 267,
     "metadata": {},
     "output_type": "execute_result"
    }
   ],
   "source": [
    "ridge.get_params().keys()"
   ]
  },
  {
   "cell_type": "code",
   "execution_count": 289,
   "id": "485354e3",
   "metadata": {},
   "outputs": [],
   "source": [
    "# Define the parameter grid\n",
    "param_grid_ridge = { 'alpha': [1,0.1,0.01,0.001,0.0001,0] , \n",
    "    'fit_intercept': [True, False],\n",
    "    'copy_X': [True, False],\n",
    "    'positive': [True, False],\n",
    "     \"solver\": ['svd', 'cholesky', 'lsqr', 'sparse_cg', 'sag', 'saga']\n",
    "}"
   ]
  },
  {
   "cell_type": "code",
   "execution_count": 291,
   "id": "72f09204",
   "metadata": {},
   "outputs": [
    {
     "data": {
      "text/plain": [
       "GridSearchCV(estimator=Ridge(),\n",
       "             param_grid={'alpha': [1, 0.1, 0.01, 0.001, 0.0001, 0],\n",
       "                         'copy_X': [True, False],\n",
       "                         'fit_intercept': [True, False],\n",
       "                         'positive': [True, False],\n",
       "                         'solver': ['svd', 'cholesky', 'lsqr', 'sparse_cg',\n",
       "                                    'sag', 'saga']})"
      ]
     },
     "execution_count": 291,
     "metadata": {},
     "output_type": "execute_result"
    }
   ],
   "source": [
    "Ridge_GS =GridSearchCV(estimator=ridge,param_grid=param_grid_ridge)\n",
    "Ridge_GS.fit(x_train,y_train)\n"
   ]
  },
  {
   "cell_type": "code",
   "execution_count": 292,
   "id": "a188e756",
   "metadata": {},
   "outputs": [
    {
     "data": {
      "text/plain": [
       "{'alpha': 0.001,\n",
       " 'copy_X': True,\n",
       " 'fit_intercept': True,\n",
       " 'positive': False,\n",
       " 'solver': 'sag'}"
      ]
     },
     "execution_count": 292,
     "metadata": {},
     "output_type": "execute_result"
    }
   ],
   "source": [
    "#give the best parameter\n",
    "Ridge_GS.best_params_"
   ]
  },
  {
   "cell_type": "code",
   "execution_count": 294,
   "id": "3e97a618",
   "metadata": {},
   "outputs": [
    {
     "name": "stdout",
     "output_type": "stream",
     "text": [
      "\n",
      "*********************Train Result*********************\n",
      "R2 Score on train data: 99.91757219717601\n",
      "\n",
      "*********************Test Result*********************\n",
      "R2 Score on test data: 98.91033746492285\n",
      "Mean Absolute Error : 10.507530185432753\n",
      "Mean Squared Error : 1.2023820846408617\n",
      "Root Mean Squared Error : 10.965318438790831\n"
     ]
    }
   ],
   "source": [
    "# we will use the best parameter in our Linear Regression algorithm and check if R^2 is increasing or not\n",
    "ridge =Ridge(alpha=0.001,copy_X=True, fit_intercept=True,positive= False, solver=\"sag\")\n",
    "ridge.fit(x_train,y_train)\n",
    "\n",
    "#Call the function and pass datset to check train and test score \n",
    "model_score(ridge,x_train,x_test,y_train,y_test, train=True) #This is training score\n",
    "model_score(ridge,x_train,x_test,y_train,y_test, train=False) #This is testing score"
   ]
  },
  {
   "cell_type": "markdown",
   "id": "d6f617b2",
   "metadata": {},
   "source": [
    "# <span style=\"color:green\">Conclusion-After Performing HyperParameter Tuning, score for Linear Regression, Ridge model is decreasing . it's important to understand that hyperparameter tuning is not a guarantee for always improving the model's performance.\n",
    "\n",
    "Please note that each parameter of any algorithm has a different effect (negative or positive) on model performance and it's depend on the data, so it is not necessary that model performance will increase after hyperparameter tuning, it may also decrease."
   ]
  },
  {
   "cell_type": "markdown",
   "id": "bcf95acb",
   "metadata": {},
   "source": [
    "# <span style=\"color:red\">Report card of Linear Regression and Ridge"
   ]
  },
  {
   "cell_type": "raw",
   "id": "21b3833c",
   "metadata": {},
   "source": [
    "                         Linear Regression            Ridge  \n",
    "    \n",
    "R^2 Score on train data:    99.91                     99.91\n",
    "R^2 Score on test data:     99.80                     99.80\n",
    "Cross-Validation score :    96.46                     95.97  \n",
    "    \n",
    "---------------------------After HyperParameter Tuning ----------------\n",
    "\n",
    "R^2 Score on train data:    99.91                     99.91\n",
    "R^2 Score on test data:     98.91                     98.91"
   ]
  },
  {
   "cell_type": "markdown",
   "id": "3adeb23e",
   "metadata": {},
   "source": [
    "# <span style=\"color:green\">Conclusion-Here we can see that Linear Regression model works the best in this dataset with score 99.80% and having more cv-score than Ridge model"
   ]
  },
  {
   "cell_type": "markdown",
   "id": "634fada6",
   "metadata": {},
   "source": [
    "# Saving Model"
   ]
  },
  {
   "cell_type": "code",
   "execution_count": 301,
   "id": "f0616a73",
   "metadata": {},
   "outputs": [
    {
     "data": {
      "text/plain": [
       "['Model for World Happiness Report']"
      ]
     },
     "execution_count": 301,
     "metadata": {},
     "output_type": "execute_result"
    }
   ],
   "source": [
    "import joblib\n",
    "joblib.dump(LR,'Model for World Happiness Report')"
   ]
  },
  {
   "cell_type": "markdown",
   "id": "6cc8a57a",
   "metadata": {},
   "source": [
    "# Model Prediction"
   ]
  },
  {
   "cell_type": "code",
   "execution_count": 303,
   "id": "88874ed6",
   "metadata": {
    "scrolled": true
   },
   "outputs": [
    {
     "data": {
      "text/plain": [
       "array([4.98327077, 6.0761247 , 4.11362248, 4.55487891, 5.57216825,\n",
       "       4.60874402, 6.96950286, 5.87344442, 6.51195991, 4.38358011,\n",
       "       4.02113521, 6.44452876, 6.96965434, 5.47848182, 5.19927599,\n",
       "       5.33941162, 7.35832118, 4.81516184, 5.94644509, 5.37518798,\n",
       "       7.33148186, 5.21842707, 5.82661093, 3.44375528, 4.25264732,\n",
       "       7.52424753, 6.58260831, 5.13441022, 4.15187981, 5.0840632 ,\n",
       "       5.14586906, 4.9223109 , 4.76840553, 6.4031213 , 6.25909509,\n",
       "       4.90431288, 4.40704585, 3.94704116, 4.03022563, 5.32886256,\n",
       "       5.27455835, 4.72211155, 3.01502726, 4.95715476, 4.5192164 ])"
      ]
     },
     "execution_count": 303,
     "metadata": {},
     "output_type": "execute_result"
    }
   ],
   "source": [
    "Lin_model = joblib.load('Model for World Happiness Report')\n",
    "Happiness_model = Lin_model.predict(x_test)\n",
    "Happiness_model"
   ]
  },
  {
   "cell_type": "code",
   "execution_count": 305,
   "id": "ae11066e",
   "metadata": {},
   "outputs": [
    {
     "data": {
      "text/html": [
       "<div>\n",
       "<style scoped>\n",
       "    .dataframe tbody tr th:only-of-type {\n",
       "        vertical-align: middle;\n",
       "    }\n",
       "\n",
       "    .dataframe tbody tr th {\n",
       "        vertical-align: top;\n",
       "    }\n",
       "\n",
       "    .dataframe thead th {\n",
       "        text-align: right;\n",
       "    }\n",
       "</style>\n",
       "<table border=\"1\" class=\"dataframe\">\n",
       "  <thead>\n",
       "    <tr style=\"text-align: right;\">\n",
       "      <th></th>\n",
       "      <th>predicted</th>\n",
       "      <th>original</th>\n",
       "    </tr>\n",
       "  </thead>\n",
       "  <tbody>\n",
       "    <tr>\n",
       "      <th>0</th>\n",
       "      <td>4.983271</td>\n",
       "      <td>4.876</td>\n",
       "    </tr>\n",
       "    <tr>\n",
       "      <th>1</th>\n",
       "      <td>6.076125</td>\n",
       "      <td>6.003</td>\n",
       "    </tr>\n",
       "    <tr>\n",
       "      <th>2</th>\n",
       "      <td>4.113622</td>\n",
       "      <td>3.989</td>\n",
       "    </tr>\n",
       "    <tr>\n",
       "      <th>3</th>\n",
       "      <td>4.554879</td>\n",
       "      <td>4.436</td>\n",
       "    </tr>\n",
       "    <tr>\n",
       "      <th>4</th>\n",
       "      <td>5.572168</td>\n",
       "      <td>5.429</td>\n",
       "    </tr>\n",
       "    <tr>\n",
       "      <th>5</th>\n",
       "      <td>4.608744</td>\n",
       "      <td>4.517</td>\n",
       "    </tr>\n",
       "    <tr>\n",
       "      <th>6</th>\n",
       "      <td>6.969503</td>\n",
       "      <td>6.901</td>\n",
       "    </tr>\n",
       "    <tr>\n",
       "      <th>7</th>\n",
       "      <td>5.873444</td>\n",
       "      <td>5.833</td>\n",
       "    </tr>\n",
       "    <tr>\n",
       "      <th>8</th>\n",
       "      <td>6.511960</td>\n",
       "      <td>6.411</td>\n",
       "    </tr>\n",
       "    <tr>\n",
       "      <th>9</th>\n",
       "      <td>4.383580</td>\n",
       "      <td>4.292</td>\n",
       "    </tr>\n",
       "  </tbody>\n",
       "</table>\n",
       "</div>"
      ],
      "text/plain": [
       "   predicted  original\n",
       "0   4.983271     4.876\n",
       "1   6.076125     6.003\n",
       "2   4.113622     3.989\n",
       "3   4.554879     4.436\n",
       "4   5.572168     5.429\n",
       "5   4.608744     4.517\n",
       "6   6.969503     6.901\n",
       "7   5.873444     5.833\n",
       "8   6.511960     6.411\n",
       "9   4.383580     4.292"
      ]
     },
     "execution_count": 305,
     "metadata": {},
     "output_type": "execute_result"
    }
   ],
   "source": [
    "test_data = np.array(y_test)\n",
    "World_Happiness = pd.DataFrame({'predicted': Happiness_model,'original':test_data})\n",
    "World_Happiness.head(10)"
   ]
  },
  {
   "cell_type": "markdown",
   "id": "38a5ca0a",
   "metadata": {},
   "source": [
    "# <span style=\"color:red\">As you can see minute difference in predicted and orignal value."
   ]
  },
  {
   "cell_type": "code",
   "execution_count": null,
   "id": "fb71239d",
   "metadata": {},
   "outputs": [],
   "source": []
  }
 ],
 "metadata": {
  "kernelspec": {
   "display_name": "Python 3 (ipykernel)",
   "language": "python",
   "name": "python3"
  },
  "language_info": {
   "codemirror_mode": {
    "name": "ipython",
    "version": 3
   },
   "file_extension": ".py",
   "mimetype": "text/x-python",
   "name": "python",
   "nbconvert_exporter": "python",
   "pygments_lexer": "ipython3",
   "version": "3.9.12"
  }
 },
 "nbformat": 4,
 "nbformat_minor": 5
}
